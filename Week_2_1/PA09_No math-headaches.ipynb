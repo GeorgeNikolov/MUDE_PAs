{
 "cells": [
  {
   "cell_type": "markdown",
   "id": "c96d6259-08d6-4289-aea2-589d67cdb5ee",
   "metadata": {},
   "source": [
    "# Programming Assignment 9: No math-headaches!\n",
    "\n",
    "<h1 style=\"position: absolute; display: flex; flex-grow: 0; flex-shrink: 0; flex-direction: row-reverse; top: 60px;right: 30px; margin: 0; border: 0\">\n",
    "    <style>\n",
    "        .markdown {width:100%; position: relative}\n",
    "        article { position: relative }\n",
    "    </style>\n",
    "    <img src=\"https://gitlab.tudelft.nl/mude/public/-/raw/main/tu-logo/TU_P1_full-color.png\" style=\"width:100px\" />\n",
    "    <img src=\"https://gitlab.tudelft.nl/mude/public/-/raw/main/mude-logo/MUDE_Logo-small.png\" style=\"width:100px\" />\n",
    "</h1>\n",
    "<h2 style=\"height: 10px\">\n",
    "</h2>\n",
    "\n",
    "*[CEGM1000 MUDE](http://mude.citg.tudelft.nl/): Week 2.1. Due: complete this PA prior to class on Friday, Nov 17, 2023.*"
   ]
  },
  {
   "cell_type": "markdown",
   "id": "7a28e541-d2d0-48a9-abf6-7b73075c8fd3",
   "metadata": {
    "tags": []
   },
   "source": [
    "## Overview of Assignment\n",
    "\n",
    "This assignment helps you jumpstart with using SymPy for streamlining any math you'll do during MUDE and for other courses!\n",
    "\n",
    "This assignment is designed to practise with basic examples. If you don't know how to apply a certain mathematical operation in SymPy, a good start is to take a look at the official documentation.\n",
    "\n",
    "## Reading\n",
    "\n",
    "Before completing this assignment, read through and make the exercises in the online textbook [Chapter P-4.3: SymPy](https://mude.citg.tudelft.nl/book/programming/sympy/sympy.html).\n",
    "\n",
    "## Assignment Criteria\n",
    "\n",
    "**You will pass this assignment as long as your respository fulfills the following criteria:**  \n",
    "\n",
    "- You've checked your answers by running the additional cells.\n",
    "- This notebook exists and runs without errors."
   ]
  },
  {
   "cell_type": "markdown",
   "id": "c3cd5017-10e0-4b64-ad1a-b626d80a128a",
   "metadata": {
    "tags": []
   },
   "source": [
    "## Task 1: Taylor series\n",
    "\n",
    "Taylor series require quite a lot of computations, especially for higher order terms. Let's try and implement it to give all the hard work to SymPy!"
   ]
  },
  {
   "cell_type": "markdown",
   "id": "f9682406-e461-43ac-b194-c9df3897dc9b",
   "metadata": {},
   "source": [
    "<div style=\"background-color:#AABAB2; color: black; vertical-align: middle; padding:15px; margin: 10px; border-radius: 10px\">\n",
    "<p>\n",
    "<b>Task 1:</b>   \n",
    "Given:\n",
    "\n",
    "$$-x \\cdot \\cfrac{\\cos \\left( \\pi \\cdot x \\right) }{3}$$\n",
    "\n",
    "Find the taylor series around $x = 4$ up to and including the second order using `sympy.series()`.\n",
    "\n",
    "Tip: take a look at the [documentation](https://docs.sympy.org/latest/modules/series/series.html#sympy.series.series.series).\n",
    "</p>\n",
    "</div>"
   ]
  },
  {
   "cell_type": "code",
   "execution_count": 1,
   "metadata": {},
   "outputs": [],
   "source": [
    "import sympy as sym\n",
    "from sympy.abc import x\n",
    "sym.init_printing() "
   ]
  },
  {
   "cell_type": "code",
   "execution_count": 2,
   "id": "1310dca9-dc46-4ab1-ab78-0a5389191cfc",
   "metadata": {
    "tags": []
   },
   "outputs": [
    {
     "name": "stdout",
     "output_type": "stream",
     "text": [
      "-x/3 + 2*pi**2*(x - 4)**2/3\n",
      "24.31894506957162\n"
     ]
    }
   ],
   "source": [
    "sym.Symbol('x')\n",
    "f = -x/3*sym.cos(sym.pi * x) \n",
    "\n",
    "# 4 is the value around which the Taylor series is expanded. Choose n=3 for the expansion to be up to x^2.\n",
    "# .removeO() removes the O notation. \n",
    "solution_task_1 = sym.series(f, x, 4, 3).removeO()  \n",
    "print(solution_task_1)\n",
    "\n",
    "# To convert the Taylor approximation to an actually evaluable function, I can use the sym.lambdify(x,Taylor_approximation). \n",
    "Taylor_approx = sym.lambdify(x, solution_task_1)\n",
    "print(Taylor_approx(6))"
   ]
  },
  {
   "cell_type": "markdown",
   "metadata": {},
   "source": [
    "Run the cell below to check your answer:"
   ]
  },
  {
   "cell_type": "code",
   "execution_count": 3,
   "metadata": {},
   "outputs": [
    {
     "name": "stdout",
     "output_type": "stream",
     "text": [
      "Well done, you're answer to task 1 is correct!\n"
     ]
    }
   ],
   "source": [
    "solution_task_1_solution = 2*sym.pi**2*(x - 4)**2/3 - x/3\n",
    "check= sym.simplify(solution_task_1.removeO() - solution_task_1_solution) == 0\n",
    "assert check, \"Unfortunately, you're answer is not correct \\n \\\n",
    "               Did you use symbolic values for pi? \\n \\\n",
    "               Did you evaluate the taylor series around x = 4? \\n \\\n",
    "               Did you evaluate the series up to and including the second order? Does `sympy.series` include that order?\"\n",
    "if check:\n",
    "    print(\"Well done, you're answer to task 1 is correct!\")"
   ]
  },
  {
   "cell_type": "markdown",
   "metadata": {},
   "source": [
    "## Task 2: Solving differential equations\n",
    "\n",
    "Solving differential equations can be a pain in the ass, but luckily SymPy can help you with that as well!"
   ]
  },
  {
   "cell_type": "markdown",
   "id": "ee15897c-3eb5-49f1-91ea-051ef5b28d9f",
   "metadata": {},
   "source": [
    "<div style=\"background-color:#AABAB2; color: black; vertical-align: middle; padding:15px; margin: 10px; border-radius: 10px\">\n",
    "<p>\n",
    "<b>Task 2a:</b>   \n",
    "\n",
    "Given:\n",
    "\n",
    "$$ \\cfrac{dy\\left( t \\right)}{dt} = -100 (y\\left( t \\right) - \\cos(t)) - \\sin(t) $$\n",
    "\n",
    "use `sympy.dsolve` to solve this ODE.\n",
    "\n",
    "Tips:\n",
    "- Take a look at the [documentation](https://docs.sympy.org/latest/modules/solvers/ode.html#sympy.solvers.ode.dsolve).\n",
    "- Define your function $y\\left( t \\right)$ with `sym.Eq`\n",
    "\n",
    "Note: the integration constant $C_1$ is defined beforehand as `C1` so that we can solve it later.\n",
    "\n",
    "</p>\n",
    "</div>"
   ]
  },
  {
   "cell_type": "code",
   "execution_count": 4,
   "metadata": {},
   "outputs": [
    {
     "name": "stdout",
     "output_type": "stream",
     "text": [
      "Eq(y(t), C1*exp(-100*t) + cos(t))\n"
     ]
    }
   ],
   "source": [
    "from sympy import Function, dsolve, Eq, Derivative, sin, cos, symbols, solve\n",
    "from sympy.abc import t\n",
    "t = sym.symbols(\"t\")\n",
    "y = Function('y')\n",
    "\n",
    "ode = Eq(Derivative(y(t), t), - 100*(y(t) - cos(t)) - sin(t) )\n",
    "# Alternative way of defining the ODE --> Eq(y.diff(t), -100*y(t- cos(t)) - sym.sin(t))\n",
    "\n",
    "solution_task_2a = dsolve(ode, y(t))\n",
    "print(solution_task_2a)\n",
    "\n",
    "#sym.classify_ode(ode, y(t)) --> useful for choosing the method of solution for the ODE."
   ]
  },
  {
   "cell_type": "markdown",
   "metadata": {},
   "source": [
    "Run the cell below to check your answer:"
   ]
  },
  {
   "cell_type": "code",
   "execution_count": 5,
   "metadata": {},
   "outputs": [
    {
     "name": "stdout",
     "output_type": "stream",
     "text": [
      "Well done, you're answer to task 2a is correct!\n"
     ]
    }
   ],
   "source": [
    "C1 = sym.symbols('C1')\n",
    "solution_task_2a_solution = C1*sym.exp(-100*t) + sym.cos(t)\n",
    "try:\n",
    "  solution_task_2a_rhs = solution_task_2a.rhs\n",
    "except:\n",
    "  solution_task_2a_rhs = solution_task_2a\n",
    "check = sym.simplify(solution_task_2a_rhs - solution_task_2a_solution) == 0\n",
    "assert check, \"Unfortunately, you're answer is not correct\\n \\\n",
    "               Did you define your function y as a function of t? \\n \\\n",
    "               Did you define your goniometric functions from the sympy library?\"\n",
    "if check:\n",
    "    print(\"Well done, you're answer to task 2a is correct!\")"
   ]
  },
  {
   "cell_type": "markdown",
   "metadata": {},
   "source": [
    "<div style=\"background-color:#AABAB2; color: black; vertical-align: middle; padding:15px; margin: 10px; border-radius: 10px\">\n",
    "<p>\n",
    "<b>Task 2b:</b>\n",
    "\n",
    "Given the inital condition:\n",
    "\n",
    "$$ y\\left(0\\right) = 0 $$\n",
    "\n",
    "Use the solution you found for the task 2a, solve $C_1$ and substitute the numerical value.\n",
    "Tips:\n",
    "- Look at the examples in the book to see an example of how to solve unknowns in an equation.\n",
    "- You've got two values to substitute into your solution for $y \\left( t \\right)$!\n",
    "- When substituting your solved value for $C_1$ in your solution for $y$, make sure you the object is a SymPy object.\n",
    "</p>\n",
    "</div>"
   ]
  },
  {
   "cell_type": "code",
   "execution_count": 6,
   "metadata": {},
   "outputs": [
    {
     "name": "stdout",
     "output_type": "stream",
     "text": [
      "C1 equals: [-1]. Note that this is an array with 1 element.\n",
      "Final solution for the function using method 1 is: cos(t) - exp(-100*t)\n",
      "Final solution for the function using method 2 is: cos(t) - exp(-100*t)\n"
     ]
    }
   ],
   "source": [
    "# Method 1: More indirect approach of solving for C1.\n",
    "\n",
    "# Eq().rhs returns the right-hand side of the expression.\n",
    "# expression.subs(t,0) substitutes all the t in the expression with 0. \n",
    "# solve() solves the expression for C1.\n",
    "solution_const = solve(solution_task_2a.rhs.subs(t,0), C1)\n",
    "print(f\"C1 equals: {solution_const}. Note that this is an array with 1 element.\")\n",
    "\n",
    "\n",
    "# Substitute C1 in the right-hand side expression with the first element of the solution array.\n",
    "final_solution = solution_task_2a.rhs.subs(C1, solution_const[0])                  \n",
    "print(f\"Final solution for the function using method 1 is: {final_solution}\")\n",
    "\n",
    "\n",
    "# Method 2: More direct approach of solving for C1.\n",
    "\n",
    "# This solution uses dsolve and passes the inition conditions directly in the solver.  \n",
    "solution_task_2b = dsolve(ode, y(t),  ics = {y(0):0})\n",
    "print(f\"Final solution for the function using method 2 is: {solution_task_2b.rhs}\")"
   ]
  },
  {
   "cell_type": "markdown",
   "metadata": {},
   "source": [
    "Run the cell below to check your answer:"
   ]
  },
  {
   "cell_type": "code",
   "execution_count": 7,
   "metadata": {},
   "outputs": [
    {
     "name": "stdout",
     "output_type": "stream",
     "text": [
      "Well done, you're answer to task 2b is correct!\n"
     ]
    }
   ],
   "source": [
    "solution_task_2b_solution = - sym.exp(-100*t) + sym.cos(t)\n",
    "try:\n",
    "  solution_task_2b_rhs = solution_task_2b.rhs\n",
    "except:\n",
    "  solution_task_2b_rhs = solution_task_2b\n",
    "check = sym.simplify(solution_task_2b_rhs - solution_task_2b_solution) == 0\n",
    "assert check,  \"Unfortunately, you're answer is not correct \\n \\\n",
    "               Did you input both the value of t as the value of y for this given t into your solution for y? \\n \\\n",
    "               Did you extract the numerical value from the output of `sym.solve`?\"\n",
    "if check:\n",
    "    print(\"Well done, you're answer to task 2b is correct!\")"
   ]
  },
  {
   "cell_type": "markdown",
   "id": "80580ab9-4d79-46b1-ae6e-775af04d43ad",
   "metadata": {},
   "source": [
    "**End of notebook.**\n",
    "<h2 style=\"height: 60px\">\n",
    "</h2>\n",
    "<h3 style=\"position: absolute; display: flex; flex-grow: 0; flex-shrink: 0; flex-direction: row-reverse; bottom: 60px; right: 50px; margin: 0; border: 0\">\n",
    "    <style>\n",
    "        .markdown {width:100%; position: relative}\n",
    "        article { position: relative }\n",
    "    </style>\n",
    "    <a rel=\"license\" href=\"http://creativecommons.org/licenses/by-nc-sa/4.0/\">\n",
    "      <img alt=\"Creative Commons License\" style=\"border-width:; width:88px; height:auto; padding-top:10px\" src=\"https://i.creativecommons.org/l/by-nc-sa/4.0/88x31.png\" />\n",
    "    </a>\n",
    "    <a rel=\"TU Delft\" href=\"https://www.tudelft.nl/en/ceg\">\n",
    "      <img alt=\"TU Delft\" style=\"border-width:0; width:100px; height:auto; padding-bottom:0px\" src=\"https://gitlab.tudelft.nl/mude/public/-/raw/main/tu-logo/TU_P1_full-color.png\"/>\n",
    "    </a>\n",
    "    <a rel=\"MUDE\" href=\"http://mude.citg.tudelft.nl/\">\n",
    "      <img alt=\"MUDE\" style=\"border-width:0; width:100px; height:auto; padding-bottom:0px\" src=\"https://gitlab.tudelft.nl/mude/public/-/raw/main/mude-logo/MUDE_Logo-small.png\"/>\n",
    "    </a>\n",
    "    \n",
    "</h3>\n",
    "<span style=\"font-size: 75%\">\n",
    "&copy; Copyright 2023 <a rel=\"MUDE Team\" href=\"https://studiegids.tudelft.nl/a101_displayCourse.do?course_id=65595\">MUDE Teaching Team</a> TU Delft. This work is licensed under a <a rel=\"license\" href=\"http://creativecommons.org/licenses/by-nc-sa/4.0/\">Creative Commons Attribution-NonCommercial-ShareAlike 4.0 International License</a>."
   ]
  }
 ],
 "metadata": {
  "kernelspec": {
   "display_name": "Python 3 (ipykernel)",
   "language": "python",
   "name": "python3"
  },
  "language_info": {
   "codemirror_mode": {
    "name": "ipython",
    "version": 3
   },
   "file_extension": ".py",
   "mimetype": "text/x-python",
   "name": "python",
   "nbconvert_exporter": "python",
   "pygments_lexer": "ipython3",
   "version": "3.11.4"
  },
  "widgets": {
   "application/vnd.jupyter.widget-state+json": {
    "state": {},
    "version_major": 2,
    "version_minor": 0
   }
  }
 },
 "nbformat": 4,
 "nbformat_minor": 5
}
