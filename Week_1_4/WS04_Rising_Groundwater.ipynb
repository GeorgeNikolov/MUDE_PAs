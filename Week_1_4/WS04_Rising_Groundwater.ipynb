{
 "cells": [
  {
   "cell_type": "markdown",
   "metadata": {
    "id": "c-kJ0rgzjVsW"
   },
   "source": [
    "# Workshop 4: Rising Groundwater\n",
    "\n",
    "<h1 style=\"position: absolute; display: flex; flex-grow: 0; flex-shrink: 0; flex-direction: row-reverse; top: 60px;right: 30px; margin: 0; border: 0\">\n",
    "    <style>\n",
    "        .markdown {width:100%; position: relative}\n",
    "        article { position: relative }\n",
    "    </style>\n",
    "    <img src=\"https://gitlab.tudelft.nl/mude/public/-/raw/main/tu-logo/TU_P1_full-color.png\" style=\"width:100px\"\\>\n",
    "    <img src=\"https://gitlab.tudelft.nl/mude/public/-/raw/main/mude-logo/MUDE_Logo-small.png\" style=\"width:100px\"\\>\n",
    "</h1>\n",
    "<h2 style=\"height: 10px\">\n",
    "</h2>\n",
    "\n",
    "*[CEGM1000 MUDE](http://mude.citg.tudelft.nl/): Week 1.4. Wed Sep 27, 2023.*"
   ]
  },
  {
   "cell_type": "markdown",
   "metadata": {
    "id": "taoAYUNojl6N"
   },
   "source": [
    "In this notebook we will apply the least-squares method to a non-linear model: [non-linear least-squares estimation](https://mude.citg.tudelft.nl/book/observation_theory/07_NLSQ.html). In this case our model is non-linear in the unknown parameters of interest, and as you have seen in the reading, we formulate the linearized model in terms of the difference between the initial guess and computed value of each parameter:\n",
    "\n",
    "$$\n",
    "\\Delta \\mathrm{x}_{[0]} = \\mathrm{x}- \\mathrm{x}_{[0]}\n",
    "$$\n",
    "\n",
    "We will apply best linear unbiased estimation to estimate the parameters $\\Delta \\mathrm{x}_{[0]}$. We will then obtain a new 'estimate' for the unknown parameters $\\mathrm{x}_{[1]}=\\mathrm{x}_{[0]}+\\Delta \\mathrm{x}_{[0]}$ and repeat the procedure. This is the Gauss-Newton iteration.\n",
    "\n",
    "## Background\n",
    "\n",
    "In this exercise we will consider an aquifer: a subsurface reservoir where water is stored in the pores of a soil or rock formation. If this is unfamiliar to you, think of it as an underground sponge with water in it that responds slowly to change. A well has been installed with monitoring equipment such that a time series of water level in the aquifer has been obtained, and our objective is to create a mathematical model that captures the fluctuations of the water level with time.\n",
    "\n",
    "Water enters or exits the aquifer due to certain events, such as precipitation, evaporation or groundwater pumping. We assume that the water level in the aquifer is a linear combination of the events, allowing us to write the observation equation as:\n",
    "\n",
    "$$ L(t) = \\sum_{i=1}^{n} h_i(t) + d + \\epsilon(t) $$\n",
    "\n",
    "where $L(t)$ is the observed water level, $h_{i}(t)$ is an event that adds or removes water from the aquifer, $d$ is the base water level of the aquifer and $\\epsilon(t)$ is the noise (random error) term. In this exercise we will consider the response due to a single event, $h_k(t)$. Groundwater flows through pores in the aquifer much slower than the application of $h_k(t)$ at time $t_0$. Therefore, the aquifer responds to event $k$ according to a step-response function, $s(t-t_0)$, which has the general form illustrated in the figure below. If the event has a constant value and continues indefinitely after $t_0$ the aquifer will eventually reach a steady-state value $r$ (a scaling factor of $a=1$ is used).\n",
    "\n",
    "<div>\n",
    "    <center>\n",
    "        <img src=\"./figures/response.png\", width=320 />.\n",
    "    </center>\n",
    "</div>\n",
    "\n",
    "For our exercise we will consider a single event, $k$, with a constant input of water, $p$ [m], from time $t_0$ until $t_{\\text{end}}$, and zero input before and after. In this case $p$ is assumed to be a deterministic (known) parameter and constant in time (imagine that it represents water inflow to the aquifer due to a rain event). The steady-state aquifer response scales with $p$, resulting in the following step-response function for the aquifer:\n",
    "\n",
    "$$ \n",
    "h_k(t) = p \\cdot \\underset{s(t-t_0)}{\\underbrace{r\\left(1-\\exp\\left(-\\frac{t-t_0}{a}\\right)\\right)}}\n",
    "$$\n",
    "\n",
    "where $a$ [days] is a scaling parameter representing the memory of the system (determines how fast the level is rising) and $r$ [m/m] is the response of the aquifier to an input $p$. Once the event stops, the response is described by:\n",
    "\n",
    "$$ \n",
    "h_k(t) = p\\cdot r\\left(\\exp\\left(-\\frac{t-t_e}{a}\\right)-\\exp\\left(-\\frac{t-t_0}{a}\\right)\\right), \\;\\; \\text{for}\\;\\; t > t_{\\text{end}} \n",
    "$$"
   ]
  },
  {
   "cell_type": "markdown",
   "metadata": {
    "id": "aGZfDs4VT3DM",
    "tags": []
   },
   "source": [
    "# Functional model\n",
    "---\n",
    "For this example, we consider a single rainfall event. At $t_0=4$ days, it starts raining, and at $t_{\\text{end}}=7$ days it stops raining (and we assume the amount of rainfall to be constant during these days, for the sake of the example...). The observation equations become:\n",
    "\n",
    "$$\n",
    "\\begin{align}\n",
    "    \\mathbb{E}[L(t_i)] &= d && \\text{for} \\; t_1\\leq t_i < 4\\\\\n",
    "    \\mathbb{E}[L(t_i)] &= d + p\\cdot r\\left(1-\\exp \\left(-\\frac{t_i-4}{a} \\right) \\right) && \\text{for} \\; 4 \\leq t_i \\leq 7\\\\\n",
    "    \\mathbb{E}[L(t_{i})] &= d + p\\cdot r\\left(\\exp \\left(-\\frac{t_i-7}{a} \\right) - \\exp \\left(-\\frac{t_i-4}{a}\\right)\\right) && \\text{for} \\; t_i > 7\n",
    "\\end{align}\n",
    "$$\n",
    "\n",
    "From these equations, it follows that there are three unknown parameters that need to be estimated: $d$, $r$ and $a$. These equations can be combined into a single equation by making use of the <a href=\"https://en.wikipedia.org/wiki/Heaviside_step_function\"> Heaviside function</a> $H(\\Delta t)$:\n",
    "\n",
    "$$\\mathbb{E}\\left[L(t_i)\\right] = d + H(t_i-t_{0}) \\cdot p\\cdot r \\left(1-\\exp\\left(-\\frac{t_i-t_0}{a}\\right)\\right) - H(t_i-t_{\\text{end}}) \\cdot p\\cdot r \\left(1-\\exp\\left(-\\frac{t_i-t_{\\text{end}}}{a}\\right)\\right)$$\n",
    "\n",
    "with $H(\\Delta t) = 1$ if $\\Delta t \\geq 0$ and $H(\\Delta t) = 0$ otherwise. <b>Check yourself that this gives indeed the same observation equations as above.</b>\n",
    "\n",
    "The forward model can be defined as follows, using <a href=\"https://numpy.org/doc/stable/reference/generated/numpy.heaviside.html\"> NumPy's heaviside</a> function:           "
   ]
  },
  {
   "cell_type": "code",
   "execution_count": null,
   "metadata": {
    "id": "mX0dfGBuM554",
    "tags": []
   },
   "outputs": [],
   "source": [
    "import numpy as np\n",
    "import matplotlib.pyplot as plt\n",
    "from numpy.linalg import inv\n",
    "from scipy.stats.distributions import chi2\n",
    "\n",
    "plt.rcParams.update({'font.size': 14})"
   ]
  },
  {
   "cell_type": "code",
   "execution_count": null,
   "metadata": {
    "id": "GdsnT_0CM_6E",
    "tags": []
   },
   "outputs": [],
   "source": [
    "def rain_event(t, t_0, t_end, p, d, a, r):\n",
    "    '''Forward model: response due to rain event.'''\n",
    "    h = d + (np.heaviside(t - t_0, 1)*p*r*(1 - np.exp(-(t - t_0)/a))\\\n",
    "          - np.heaviside(t - t_end, 1)*p*r*(1 - np.exp(-(t - t_end)/a)))\n",
    "    return h"
   ]
  },
  {
   "cell_type": "markdown",
   "metadata": {
    "id": "4IEjIQSAT78k"
   },
   "source": [
    "### <a name=\"forward\">Forward model</a>\n",
    "\n",
    "If we generate a vector of time steps, we can plot the (exact) response of a system with parameters using the ```rain_event``` function defined above.\n",
    "\n",
    "The known input is: $p=0.05$ m.\n",
    "\n",
    "Choose your own values for $d$, $a$, and $r$."
   ]
  },
  {
   "cell_type": "code",
   "execution_count": null,
   "metadata": {
    "colab": {
     "base_uri": "https://localhost:8080/",
     "height": 388
    },
    "id": "b7yhBLzeNiz9",
    "outputId": "00cee52d-4b12-497e-f01a-fa6781a80716",
    "tags": []
   },
   "outputs": [],
   "source": [
    "n_days = 25\n",
    "t = np.arange(1, n_days+1, 0.1)\n",
    "t_0 = 4\n",
    "t_end = 7\n",
    "p =  0.05\n",
    "\n",
    "d = 0\n",
    "a = 1\n",
    "r = 1\n",
    "\n",
    "h_t = rain_event(t, t_0, t_end, p, d, a, r)\n",
    "plt.figure(figsize=(10, 6))\n",
    "plt.plot(t, h_t,'r-', linewidth=4.0)\n",
    "plt.xlabel('Time [days]')\n",
    "plt.ylabel('Water level [m]');"
   ]
  },
  {
   "cell_type": "markdown",
   "metadata": {
    "id": "wnp2SL3dj0on"
   },
   "source": [
    "# Reading in the observations\n",
    "---\n",
    "We collected observations of the water level in the aquifer for 25 consecutive days and are stored ```data``` folder. Observations start at $t=1$."
   ]
  },
  {
   "cell_type": "code",
   "execution_count": null,
   "metadata": {
    "colab": {
     "base_uri": "https://localhost:8080/",
     "height": 388
    },
    "id": "vf3rJinfNk7E",
    "outputId": "c54d2671-9026-46e9-a682-af950e93e5ce",
    "tags": []
   },
   "outputs": [],
   "source": [
    "y = np.genfromtxt('./data/well_levels.csv' , delimiter=\" ,\")\n",
    "t_obs = np.arange(1, n_days + 1, 1)\n",
    "\n",
    "plt.figure(figsize=(10, 6))\n",
    "plt.plot(t_obs, y,'co', mec='black')\n",
    "plt.xlabel('Time [days]')\n",
    "plt.ylabel('Waterlevel [m]');"
   ]
  },
  {
   "cell_type": "markdown",
   "metadata": {
    "id": "SPXDSa9AkFkY"
   },
   "source": [
    "# Estimating the parameters using Gauss-Newton iteration\n",
    "\n",
    "---\n",
    "\n",
    "Using only the data of the observations we want to find the values for $d$, $a$ and $r$. This can be done with Gauss-Newton iteration. \n",
    "\n",
    "The Gauss-Newton iteration works with several steps:\n",
    "\n",
    "Start with initial guess $\\mathrm{x}_{[0]}$, and start iteration with $i=0$\n",
    "1. Calculate observed-minus-computed $\\Delta \\mathrm{y}_{[i]} = \\mathrm{y} - q(\\mathrm{x}_{[i]}) $\n",
    "2. Determine the Jacobian $\\mathrm{J}_{[i]}$\n",
    "3. Estimate $\\Delta \\hat{\\mathrm{x}}_{[i]}=\\left(\\mathrm{J}_{[i]}^T \\Sigma_{Y}^{-1} \\mathrm{J}_{[i]} \\right)^{-1}\\mathrm{J}_{[i]}^T \\Sigma_{Y}^{-1}\\Delta \\mathrm{y}_{[i]}$\n",
    "4. New guess $\\mathrm{x}_{[i+1]}=\\Delta\\hat{\\mathrm{x}}_{[i]}+ \\mathrm{x}_{[i]}$\n",
    "5. If stop criterion is met: set $\\hat{\\mathrm{x}}=\\mathrm{x}_{[i+1]}$  and break, otherwise set $i:=i+1$ and go to step 1\n",
    "\n",
    "Our stop criterion is:\n",
    "\n",
    "$$\n",
    "\\Delta \\hat{\\mathrm{x}}_{[i]}^T \\mathrm{N}_{[i]} \\Delta \\hat{\\mathrm{x}}_{[i]} < \\delta \\;\\; \\text{with} \\;\\;\\mathrm{N}_{[i]}=\\mathrm{J}_{[i]}^T \\Sigma_{Y}^{-1} \\mathrm{J}_{[i]}\n",
    "$$"
   ]
  },
  {
   "cell_type": "markdown",
   "metadata": {
    "id": "1-REMPFykGZi"
   },
   "source": [
    "## Computing the partial derivatives for the Jacobian matrix\n"
   ]
  },
  {
   "cell_type": "markdown",
   "metadata": {},
   "source": [
    "<div style=\"background-color:#AABAB2; color: black; vertical-align: middle; padding:15px; margin: 10px; border-radius: 10px\">\n",
    "<p>\n",
    "<b>Task 1:</b>   \n",
    "\n",
    "Derive the partial derivatives that you will need for the Jacobian (on paper), and put them in the code below. \n",
    "</p>\n",
    "</div>"
   ]
  },
  {
   "cell_type": "code",
   "execution_count": null,
   "metadata": {},
   "outputs": [],
   "source": [
    "def partial_derivatives(t, t_0, t_end, p, d_i, a_i, r_i):\n",
    "    '''Compute partial derivates\n",
    "    \n",
    "    Input:\n",
    "    t : array with observation times\n",
    "    t_0, t_end : start and end time\n",
    "    p : known input [m]\n",
    "    d_i : approximate value for base level [m]\n",
    "    a_i : approximate value for scaling parameter\n",
    "    r_i : approximate value for response [m/m]\n",
    "    \n",
    "    Returns: partial derivatives w.r.t. d, a, and r\n",
    "    '''\n",
    "    dqdd = ?\n",
    "    dqda = ?\n",
    "    dqdr = ? \n",
    "    \n",
    "    return dqdd, dqda, dqdr"
   ]
  },
  {
   "cell_type": "markdown",
   "metadata": {
    "id": "MfBggMEPkQyZ"
   },
   "source": [
    "## Running the Gauss-Newton iteration\n",
    "\n",
    "<div style=\"background-color:#AABAB2; color: black; vertical-align: middle; padding:15px; margin: 10px; border-radius: 10px\">\n",
    "<p>\n",
    "<b>Task 2:</b>  \n",
    "    \n",
    "In the code you will first need to choose the initial values ```d_i, a_i, r_i```. Hint: for the choice of ```d_i``` = $d_{[0]}$ have a look at the plot with the observations (remember it is the base level of the aquifer before the rain starts). Then play with the plot from the <a href=\"#forward\">forward model</a> to find appropriate initial values for $a$ and $r$ by comparing the graph you get with the observations. For instance start with ```a=1``` and ```r=1```, and then start adjusting...\n",
    "\n",
    "Next we will set the stochastic model, and initialize some other variables needed for the ```while```-loop, where the actual Gauss-Newton iteration takes place. Try to see if you can follow the steps above, and fill in the missing code, where you have to compute \n",
    "* the observed-minus-computed observations ```dy``` $=\\Delta y_{[i]}$, \n",
    "* the estimate ```dxhat_i```$=\\Delta\\hat{\\mathrm{x}}_{[i]}$, \n",
    "* ```xnrm```$=\\Delta \\hat{\\mathrm{x}}_{[i]}^T \\mathrm{N}_{[i]} \\Delta \\hat{\\mathrm{x}}_{[i]}$.\n",
    "    \n",
    "Note in particular the 2 stop criteria used for the while loop. You should reach a solution within 50 iterations, otherwise you should reconsider the initial values.\n",
    "    </p>\n",
    "</div>"
   ]
  },
  {
   "cell_type": "code",
   "execution_count": null,
   "metadata": {
    "colab": {
     "base_uri": "https://localhost:8080/"
    },
    "id": "cEpsjuu6SieA",
    "outputId": "69153730-f039-4fe2-f2e2-b0fdf410484e",
    "tags": []
   },
   "outputs": [],
   "source": [
    "d_i = ?\n",
    "a_i = ?\n",
    "r_i = ?\n",
    "\n",
    "sigma = 0.01\n",
    "var_y = sigma**2\n",
    "inv_Sigma_Y = 1/var_y * np.eye(len(y))\n",
    "\n",
    "max_iter = 50\n",
    "xnrm = 10000  # initialize stop criteria (norm of x)\n",
    "\n",
    "# suffix \"_i\" indicates initial values; xhat_i stores every iteration\n",
    "\n",
    "param_init = np.array([d_i, a_i, r_i])\n",
    "xhat_i = np.zeros((3, max_iter))\n",
    "xhat_i[:] = np.nan\n",
    "xhat_i[:, 0] = param_init\n",
    "\n",
    "iter_ind = 0\n",
    "\n",
    "while xnrm >= 1e-12 and iter_ind < max_iter:\n",
    "\n",
    "    y_comp = rain_event(t_obs, t_0, t_end, p, d_i, a_i, r_i)\n",
    "\n",
    "    dy = ?\n",
    "    \n",
    "    J1, J2, J3 = partial_derivatives(t_obs, t_0, t_end, p, d_i, a_i, r_i)\n",
    "    J   = np.column_stack((J1, J2, J3))\n",
    "\n",
    "    dxhat_i = ?\n",
    "    \n",
    "    xhat_i[0:3, iter_ind+1] = xhat_i[0:3, iter_ind] + dxhat_i\n",
    "\n",
    "    d_i = xhat_i[0, iter_ind+1]\n",
    "    a_i = xhat_i[1, iter_ind+1]\n",
    "    r_i = xhat_i[2, iter_ind+1]\n",
    "\n",
    "    xnrm = ?\n",
    "\n",
    "    iter_ind += 1\n",
    "\n",
    "    if iter_ind == max_iter:\n",
    "        print(\"Number of iterations too large, check initial values.\")\n",
    "\n",
    "xhat = xhat_i[:, iter_ind]\n",
    "print('Final estimates:')\n",
    "print(f'base level [m]:\\t\\t {round(xhat[0], 4)}')\n",
    "print(f'scaling parameter:\\t {round(xhat[1], 4)}')\n",
    "print(f'response [m/m]:\\t\\t {round(xhat[2], 4)}')\n",
    "\n",
    "n_par = np.shape(J)[1]\n",
    "print(f'\\nThe number of unknowns is {n_par}')\n",
    "print(f'The number of observations is {n_days}')\n",
    "print(f'The redundancy is {n_days - n_par}')"
   ]
  },
  {
   "cell_type": "markdown",
   "metadata": {},
   "source": [
    "**Write your answer in this Markdown cell.**"
   ]
  },
  {
   "cell_type": "markdown",
   "metadata": {
    "id": "NgmRc-QQkUXk"
   },
   "source": [
    "# Visualization\n",
    "\n",
    "---"
   ]
  },
  {
   "cell_type": "markdown",
   "metadata": {
    "id": "KXE88mjeOzOn"
   },
   "source": [
    "## Estimates vs. iteration number"
   ]
  },
  {
   "cell_type": "code",
   "execution_count": null,
   "metadata": {
    "colab": {
     "base_uri": "https://localhost:8080/",
     "height": 295
    },
    "id": "BagNJunEO16L",
    "outputId": "c09ec592-56e3-4f85-cc59-ceebccaed400"
   },
   "outputs": [],
   "source": [
    "params = ['d', 'a', 'r']\n",
    "fig, ax = plt.subplots(1,3, figsize=(16,4))\n",
    "plt.subplots_adjust(wspace=0.35)\n",
    "for i in range(3):\n",
    "    ax[i].plot(xhat_i[i, :].T, linewidth=4)\n",
    "    ax[i].set_title(f'Convergence of {params[i]}')\n",
    "    ax[i].set_xlabel(f'Number of iterations')\n",
    "    ax[i].set_ylabel(f'{params[i]}')"
   ]
  },
  {
   "cell_type": "markdown",
   "metadata": {},
   "source": [
    "**Write your answer in this Markdown cell.**"
   ]
  },
  {
   "cell_type": "markdown",
   "metadata": {
    "id": "MfBggMEPkQyZ",
    "tags": []
   },
   "source": [
    "<div style=\"background-color:#AABAB2; color: black; vertical-align: middle; padding:15px; margin: 10px; border-radius: 10px\">\n",
    "<p>\n",
    "<b>Task 3:</b>  \n",
    "    \n",
    "Confirm the final values of each parameter by defining the variables below, then printing the values.\n",
    "    </p>\n",
    "</div>"
   ]
  },
  {
   "cell_type": "code",
   "execution_count": null,
   "metadata": {
    "tags": []
   },
   "outputs": [],
   "source": [
    "d_final = ?\n",
    "a_final = ?\n",
    "r_final = ?\n",
    "\n",
    "print('The final values of ... are ... ')"
   ]
  },
  {
   "cell_type": "markdown",
   "metadata": {
    "id": "7ACwW_CUOapj"
   },
   "source": [
    "## Final results\n",
    "\n",
    "Once you have defined the final values, you can use the code cell below to visualize the results."
   ]
  },
  {
   "cell_type": "code",
   "execution_count": null,
   "metadata": {
    "colab": {
     "base_uri": "https://localhost:8080/",
     "height": 388
    },
    "id": "k-pwcWnWSjZX",
    "outputId": "17a641b4-818e-4264-c1be-4d6a4fad70f1",
    "tags": []
   },
   "outputs": [],
   "source": [
    "yhat = rain_event(t_obs, t_0=4, t_end=7, p=0.05,\n",
    "                  d=d_final, a=a_final, r=r_final)\n",
    "\n",
    "plt.figure(figsize=(10, 6))\n",
    "t = np.arange(1, n_days+1, 0.1)\n",
    "plt.plot(t_obs, yhat , linewidth=4,\n",
    "         label='Gauss Newton fit', color='black')\n",
    "plt.plot(t_obs, y, 'co', mec='black',\n",
    "         markersize=10, label='Observations')\n",
    "plt.legend()\n",
    "plt.xlabel('Time [days]')\n",
    "plt.ylabel('Water level [m]');"
   ]
  },
  {
   "cell_type": "markdown",
   "metadata": {},
   "source": [
    "## Overall model test\n",
    "\n",
    "Looking at the graph, it seems the model provides a good fit to the data. Let's test it with a probability of false alarm of 0.05.\n",
    "\n",
    "Replace the ```?```'s in the code below to set the degrees of freedom ```q``` and use the appropriate ```if```-statement."
   ]
  },
  {
   "cell_type": "code",
   "execution_count": null,
   "metadata": {},
   "outputs": [],
   "source": [
    "ehat = y - yhat\n",
    "Tq = ehat.T @ inv_Sigma_Y @ ehat\n",
    "\n",
    "alpha = 0.05\n",
    "\n",
    "q = ?\n",
    "\n",
    "k = chi2.ppf(1 - alpha, q)\n",
    "\n",
    "if ?\n",
    "    print(f\"(T = {Tq:.1f}) < (K = {k:.1f}), OMT is accepted.\")\n",
    "else:\n",
    "    print(f\"(T = {Tq:.1f}) > (K = {k:.1f}), OMT is rejected.\")"
   ]
  },
  {
   "cell_type": "markdown",
   "metadata": {
    "id": "MfBggMEPkQyZ",
    "tags": []
   },
   "source": [
    "<div style=\"background-color:#AABAB2; color: black; vertical-align: middle; padding:15px; margin: 10px; border-radius: 10px\">\n",
    "<p>\n",
    "<b>Task 4:</b>  \n",
    "    \n",
    "Play with the value of ```alpha``` and see how it changes the critical value ```k```. Why does it become smaller/larger? What is the impact on the probability of rejecting the null hypothesis?\n",
    "    </p>\n",
    "</div>"
   ]
  },
  {
   "cell_type": "markdown",
   "metadata": {},
   "source": [
    "**End of notebook.**\n",
    "<h2 style=\"height: 60px\">\n",
    "</h2>\n",
    "<h3 style=\"position: absolute; display: flex; flex-grow: 0; flex-shrink: 0; flex-direction: row-reverse; bottom: 60px; right: 50px; margin: 0; border: 0\">\n",
    "    <style>\n",
    "        .markdown {width:100%; position: relative}\n",
    "        article { position: relative }\n",
    "    </style>\n",
    "    <a rel=\"license\" href=\"http://creativecommons.org/licenses/by-nc-sa/4.0/\">\n",
    "      <img alt=\"Creative Commons License\" style=\"border-width:; width:88px; height:auto; padding-top:10px\" src=\"https://i.creativecommons.org/l/by-nc-sa/4.0/88x31.png\" />\n",
    "    </a>\n",
    "    <a rel=\"TU Delft\" href=\"https://www.tudelft.nl/en/ceg\">\n",
    "      <img alt=\"TU Delft\" style=\"border-width:0; width:100px; height:auto; padding-bottom:0px\" src=\"https://gitlab.tudelft.nl/mude/public/-/raw/main/tu-logo/TU_P1_full-color.png\"/>\n",
    "    </a>\n",
    "    <a rel=\"MUDE\" href=\"http://mude.citg.tudelft.nl/\">\n",
    "      <img alt=\"MUDE\" style=\"border-width:0; width:100px; height:auto; padding-bottom:0px\" src=\"https://gitlab.tudelft.nl/mude/public/-/raw/main/mude-logo/MUDE_Logo-small.png\"/>\n",
    "    </a>\n",
    "    \n",
    "</h3>\n",
    "<span style=\"font-size: 75%\">\n",
    "&copy; Copyright 2023 <a rel=\"MUDE Team\" href=\"https://studiegids.tudelft.nl/a101_displayCourse.do?course_id=65595\">MUDE Teaching Team</a> TU Delft. This work is licensed under a <a rel=\"license\" href=\"http://creativecommons.org/licenses/by-nc-sa/4.0/\">Creative Commons Attribution-NonCommercial-ShareAlike 4.0 International License</a>."
   ]
  }
 ],
 "metadata": {
  "colab": {
   "collapsed_sections": [],
   "name": "Groundwater hydrology modelling  Gauss-Newton.ipynb",
   "provenance": []
  },
  "kernelspec": {
   "display_name": "Python 3 (ipykernel)",
   "language": "python",
   "name": "python3"
  },
  "language_info": {
   "codemirror_mode": {
    "name": "ipython",
    "version": 3
   },
   "file_extension": ".py",
   "mimetype": "text/x-python",
   "name": "python",
   "nbconvert_exporter": "python",
   "pygments_lexer": "ipython3",
   "version": "3.11.4"
  },
  "widgets": {
   "application/vnd.jupyter.widget-state+json": {
    "state": {},
    "version_major": 2,
    "version_minor": 0
   }
  }
 },
 "nbformat": 4,
 "nbformat_minor": 4
}
