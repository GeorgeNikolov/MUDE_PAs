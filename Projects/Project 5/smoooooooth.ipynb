{
 "cells": [
  {
   "cell_type": "markdown",
   "id": "618d8a1d-a5a1-401a-b73f-8041340356b7",
   "metadata": {
    "tags": []
   },
   "source": [
    "# Project 5: Finite Volume Method\n",
    "\n",
    "<h1 style=\"position: absolute; display: flex; flex-grow: 0; flex-shrink: 0; flex-direction: row-reverse; top: 90px;right: 30px; margin: 0; border: 0\">\n",
    "    <style>\n",
    "        .markdown {width:100%; position: relative}\n",
    "        article { position: relative }\n",
    "    </style>\n",
    "    <img src=\"https://gitlab.tudelft.nl/mude/public/-/raw/main/tu-logo/TU_P1_full-color.png\" style=\"width:100px\" />\n",
    "    <img src=\"https://gitlab.tudelft.nl/mude/public/-/raw/main/mude-logo/MUDE_Logo-small.png\" style=\"width:100px\" />\n",
    "</h1>\n",
    "<h2 style=\"height: 25px\">\n",
    "</h2>\n",
    "\n",
    "*[CEGM1000 MUDE](http://mude.citg.tudelft.nl/): Week 2.1, Friday, November 17, 2023.*"
   ]
  },
  {
   "cell_type": "markdown",
   "id": "8e2540b3-ed63-4e23-ba47-15926896b0f0",
   "metadata": {
    "tags": []
   },
   "source": [
    "## Overview:\n",
    "\n",
    "From the [conservation laws covered in the textbook](https://mude.citg.tudelft.nl/book/fvm/getting_started.html#conservation-laws), recall that diffusion can be described for a scalar quantity $\\phi(\\mathbf{x},t)$ as follows:\n",
    "\n",
    "$$\n",
    "\\frac{\\partial \\phi(\\mathbf{x},t)}{\\partial t} = D\\nabla^2 \\phi(\\mathbf{x},t)\n",
    "$$\n",
    "\n",
    "where, $\\nabla^2$ is the Laplacian operator. The 1D equation for diffusion of a scalar quantity $\\phi(x,t)$ is thus:\n",
    "\n",
    "$$\\frac{\\partial \\phi(x,t)}{\\partial t}= D \\frac{\\partial^2 \\phi (x,t)}{\\partial x^2}$$\n",
    "\n",
    "with $D$ as the diffusivity. In this project we will discretise and solve the diffusion equation in 1D and 2D using FVM, as well as evaluate stability as we did with advection. In addition, Dirichlet boundary conditions will need to be applied; a Dirichlet condition is one where the boundary is specified the quantity of interest $\\phi$ (as apposed to $\\nabla \\phi$, which is a Neumann condition). This can be easily applied by specifying the value of the East, West, North or South face of the boundary volume, as needed. Note that the \"width\" over which the gradient term will be half of the volume width in this case. In the code provided here boundary conditions are computed at the appropriate face for each time increment, then the remaining (interior) volumes are computed using for loops.\n",
    "\n",
    "A von Neumann analysis of the diffusion equation suggests that stability occurs when the Courant number is as follows:\n",
    "\n",
    "$$\\frac{D\\Delta t}{(\\Delta x)^2} \\leq \\frac{1}{2}$$\n",
    "\n",
    "Which can also be applied for the $y$-direction. Recall that diffusivity has units of L$^2$/T."
   ]
  },
  {
   "cell_type": "markdown",
   "id": "1b1f7db9-d3a6-487c-bb88-44f723f2a182",
   "metadata": {},
   "source": [
    "<div style=\"background-color:#AABAB2; color: black; vertical-align: middle; width:95%; padding:15px; margin: 10px; border-radius: 10px\">\n",
    "<p>\n",
    "<b>Task 0:</b> \n",
    "    \n",
    "Tasks 1 and 2 below focus on deriving and implementing the 1D and 2D solution for the diffusion equation. The boundary conditions and initial conditions are purposefully unspecified in the text to force you to identify them from the code (and think of the application yourself for one of the answers in the report). After you have completed these tasks don't forget to explore the stability of the numerical solution and fill in the answers to this project as requested in <code>Report.md</code>. \n",
    "\n",
    "</p>\n",
    "</div>\n"
   ]
  },
  {
   "cell_type": "code",
   "execution_count": 1,
   "id": "b7c0f84b-51eb-41b4-b1a9-9a5270287193",
   "metadata": {
    "tags": []
   },
   "outputs": [],
   "source": [
    "import numpy as np\n",
    "import matplotlib.pylab as plt\n",
    "%matplotlib inline\n",
    "from ipywidgets import interact, fixed, widgets\n",
    "import matplotlib.pyplot as plt"
   ]
  },
  {
   "cell_type": "markdown",
   "id": "25ab4373-cc1c-44f8-8104-212200b6a204",
   "metadata": {},
   "source": [
    "## Task 1: 1D Implementation\n",
    "\n",
    "The code below is set up to solve the 1D diffusion equation. It works more or less in a similar way to the Wednesday assignment, although one difference is the boundary conditions and initial conditions. The problem is set up such that the initial condition is zero inside between the left and right boundary conditions, which are specified via the list `pBC`as the left and right boundary, respectively.\n",
    "\n",
    "In the code below you will have to implement the boundary conditions that are solved for in each time step. You can do this by using the left and right boundary for the left and right face of the left- and right-most finite volume in the system in place of the averaged West and East faces."
   ]
  },
  {
   "cell_type": "markdown",
   "id": "d38ed58f",
   "metadata": {},
   "source": [
    "<div style=\"background-color:#AABAB2; color: black; vertical-align: middle; width:95%; padding:15px; margin: 10px; border-radius: 10px\">\n",
    "<p>\n",
    "<b>Task 1:</b> \n",
    "    \n",
    "The code below is set up to solve the 1D diffusion equation. Read through the code to identify the boundary conditions and initial conditions. Then derive the solution for the quantity of interest $\\phi_i^{n+1}$ and implement it in the code. Note: you will need to apply the boundary condition <code>pBC</code>! This requires defining the left and right side of the volume outside of the spatial loop.\n",
    "\n",
    "</p>\n",
    "</div>\n"
   ]
  },
  {
   "cell_type": "code",
   "execution_count": 2,
   "id": "72be2ce6-601c-4976-94bf-cfad7af4607d",
   "metadata": {
    "tags": []
   },
   "outputs": [],
   "source": [
    "def diffusion_1D(p, dx, Nx, D, dt, pBC):\n",
    "    \"\"\"FVM diffusion, 1D.\n",
    "    \n",
    "    F_? refers to phi on the face of a volume.\n",
    "    \n",
    "    Other variable names should be obvious, based on previous assignment.\n",
    "    \"\"\" \n",
    "\n",
    "    F_e = np.zeros(Nx)\n",
    "    F_w = np.zeros(Nx)\n",
    "    \n",
    "    # Face values for boundary volumes\n",
    "    F_w[0] = (pBC[0]-p[0])/(0.5*dx)\n",
    "    F_e[-1] = (pBC[1]-p[-1])/(0.5*dx)\n",
    "    \n",
    "    #Face values for interior volumes\n",
    "    for i in range(1, Nx - 1): \n",
    "        F_w[i] = (p[i] - p[i-1]) / (dx)\n",
    "        F_e[i] = (p[i+1] - p[i]) / (dx)\n",
    "        \n",
    "    # compute phi for all volumes\n",
    "    p_new = p + ((D * dt) / dx) * (F_e - F_w)\n",
    "    return p_new\n",
    "\n",
    "def FVM_plot(x, u, step):\n",
    "    fig = plt.figure()\n",
    "    ax = plt.axes(xlim=(0, 300), ylim=(0, 100)) \n",
    "    ax.plot(x, u[step], marker='.')\n",
    "    plt.xlabel('Location')\n",
    "    plt.ylabel('Temperature')\n",
    "    plt.show()\n",
    "    \n",
    "def check_variables_1D():\n",
    "    print('Current variables values:')\n",
    "    print(f'  D  [m^2/s]: {D:0.2f}')\n",
    "    print(f'  L   [ m ]: {L:0.1f}')\n",
    "    print(f'  Nx  [---]: {Nx:0.1f}')\n",
    "    print(f'  T   [ s ]: {T:0.1f}')\n",
    "    print(f'  Nt  [---]: {Nt:0.1f}')\n",
    "    print(f'  dx  [ m ]: {dx:0.2e}')\n",
    "    print(f'  dt  [ s ]: {dt:0.2e}')\n",
    "    print(f'Courant, C_N, direction x: {D*dt/dx**2:.2e}')"
   ]
  },
  {
   "cell_type": "code",
   "execution_count": 3,
   "id": "ba5ea6c9-38e6-4a1c-9f98-e427acaf3d6d",
   "metadata": {
    "tags": []
   },
   "outputs": [
    {
     "name": "stdout",
     "output_type": "stream",
     "text": [
      "Current variables values:\n",
      "  D  [m^2/s]: 1.00\n",
      "  L   [ m ]: 300.0\n",
      "  Nx  [---]: 10.0\n",
      "  T   [ s ]: 40000.0\n",
      "  Nt  [---]: 200.0\n",
      "  dx  [ m ]: 3.00e+01\n",
      "  dt  [ s ]: 2.00e+02\n",
      "Courant, C_N, direction x: 2.22e-01\n"
     ]
    },
    {
     "data": {
      "application/vnd.jupyter.widget-view+json": {
       "model_id": "eb0e683dd00b45c99212d48ca2407130",
       "version_major": 2,
       "version_minor": 0
      },
      "text/plain": [
       "interactive(children=(Play(value=0, description='step', max=199), Output()), _dom_classes=('widget-interact',)…"
      ]
     },
     "metadata": {},
     "output_type": "display_data"
    },
    {
     "data": {
      "application/vnd.jupyter.widget-view+json": {
       "model_id": "9b01b2f6b92e4f92870a10ddfcce5efb",
       "version_major": 2,
       "version_minor": 0
      },
      "text/plain": [
       "HBox(children=(IntSlider(value=0, max=199),))"
      ]
     },
     "execution_count": 3,
     "metadata": {},
     "output_type": "execute_result"
    }
   ],
   "source": [
    "L = 300\n",
    "Nx = 10\n",
    "D = 1\n",
    "dx = L/Nx\n",
    "\n",
    "pBC = [50, 100]\n",
    "\n",
    "x = np.linspace(dx/2, L-dx/2, Nx)\n",
    "\n",
    "T = 40000\n",
    "Nt = 200\n",
    "dt = T/Nt\n",
    "\n",
    "p_all = np.zeros((Nt+1, Nx))\n",
    "p_all[0, 0] = pBC[0]\n",
    "p_all[0, -1] = pBC[1]\n",
    "\n",
    "check_variables_1D()\n",
    "\n",
    "for t in range(Nt):  \n",
    "    p = diffusion_1D(p_all[t], dx, Nx, D, dt, pBC)\n",
    "    p_all[t+1] = p\n",
    "\n",
    "play = widgets.Play(min=0, max= Nt -1, step=1, value=0, interval=100, disabled=False)\n",
    "slider = widgets.IntSlider(min=0, max= Nt -1, step=1, value=0)\n",
    "widgets.jslink((play, 'value'), (slider, 'value'))\n",
    "interact(FVM_plot,\n",
    "         x=fixed(x),\n",
    "         u=fixed(p_all),\n",
    "         step = play)\n",
    "widgets.HBox([slider])"
   ]
  },
  {
   "cell_type": "markdown",
   "id": "2e01b6d7-cfd4-4d8b-9e03-5facf1a16a7f",
   "metadata": {},
   "source": [
    "## Task 2: 2D Implementation\n",
    "\n",
    "The code below is set up to solve the 2D diffusion equation. It works more or less in a similar way to the Wednesday assignment, although one difference is the boundary conditions and initial conditions. The problem is set up such that the initial condition is a \"pulse\" of the quantity of interest over a square domain in $x$ and $y$. The boundary conditions are set on the edge of the square via the list `pBC` such that the elements in the list specify the left, right, bottom and top boundary. As with the 1D case above, the boundary conditions are implemented in the finite volumes prior to looping over all the rest that do not fall on the boundary."
   ]
  },
  {
   "cell_type": "markdown",
   "id": "467fe583-9099-4494-b047-6f4764b4dcea",
   "metadata": {},
   "source": [
    "<div style=\"background-color:#AABAB2; color: black; vertical-align: middle; width:95%; padding:15px; margin: 10px; border-radius: 10px\">\n",
    "<p>\n",
    "<b>Task 2:</b> \n",
    "    \n",
    "Read through the code to identify the boundary conditions and initial conditions. Then derive the solution for the quantity of interest $\\phi_i^{n+1}$ and implement it in the code.\n",
    "\n",
    "</p>\n",
    "</div>\n"
   ]
  },
  {
   "cell_type": "code",
   "execution_count": 4,
   "id": "1b677ea6",
   "metadata": {
    "tags": []
   },
   "outputs": [],
   "source": [
    "def diffusion_2D(p, dx, dy, Nx, Ny, D, dt, pBC):\n",
    "    \"\"\"FVM diffusion, 2D.\n",
    "    \n",
    "    F_? refers to phi on the face of a volume.\n",
    "    \n",
    "    Other variable names should be obvious, based on previous assignment.\n",
    "    \"\"\" \n",
    "    \n",
    "    F_e = np.zeros((Nx, Ny))  \n",
    "    F_w = np.zeros((Nx, Ny))  \n",
    "    F_n = np.zeros((Nx, Ny))  \n",
    "    F_s = np.zeros((Nx, Ny))  \n",
    "    \n",
    "    # Face values for boundary volumes\n",
    "    F_w[0, :] = (pBC[0]-p[0,0])/(0.5*dx)\n",
    "    F_e[-1, :] = (pBC[1]-p[-1,0])/(0.5*dx)\n",
    "    F_n[:, -1] = (pBC[2]-p[-1,0])/(0.5*dy)\n",
    "    F_s[:, 0] = (pBC[2]-p[-1,-1])/(0.5*dy)\n",
    "    \n",
    "    # Face values for interior volumes\n",
    "    for i in range(1, Nx-1):\n",
    "        for j in range(1, Ny-1):\n",
    "            F_e[i, j] = (p[i+1,j] - p[i,j]) / (dx)\n",
    "            F_w[i, j] = (p[i,j] - p[i-1,j]) / (dx)\n",
    "\n",
    "    for i in range(1, Nx-1):\n",
    "        for j in range(1, Ny-1):\n",
    "            F_n[i, j] = (p[i,j+1] - p[i,j]) / (dx)\n",
    "            F_s[i, j] = (p[i,j] - p[i,j-1]) / (dx)\n",
    "\n",
    "    # compute phi for all volumes\n",
    "    p_new = p + (D * dt / dx) * (F_e - F_w) + (D * dt / dx) * (F_n - F_s) \n",
    "\n",
    "    return p_new\n",
    "\n",
    "def plot_2D(X, Y, u, step):\n",
    "    fig = plt.figure()\n",
    "    ax = fig.add_subplot(111,projection='3d')\n",
    "    ax.plot_surface(X, Y, np.transpose(u[step]), cmap=\"Spectral\")\n",
    "    ax.axes.set_zlim3d(bottom=0, top=100) \n",
    "    ax.set_aspect('equalxy')\n",
    "    ax.set_xlabel('Location x')\n",
    "    ax.set_ylabel('Location y')\n",
    "    ax.set_zlabel('$\\phi$')\n",
    "    plt.tight_layout()\n",
    "    plt.show()\n",
    "    \n",
    "def check_variables_2D():\n",
    "    print('Current variables values:')\n",
    "    print(f'  D  [m^2/s]: {D:0.2f}')\n",
    "    print(f'  Lx  [ m ]: {Lx:0.1f}')\n",
    "    print(f'  Nx  [---]: {Nx:0.1f}')\n",
    "    print(f'  Ly  [ m ]: {Ly:0.1f}')\n",
    "    print(f'  Ny  [---]: {Ny:0.1f}')\n",
    "    print(f'  T   [ s ]: {T:0.1f}')\n",
    "    print(f'  Nt  [---]: {Nt:0.1f}')\n",
    "    print(f'  dx  [ m ]: {dx:0.2e}')\n",
    "    print(f'  dy  [ m ]: {dy:0.2e}')\n",
    "    print(f'  dt  [ s ]: {dt:0.2e}')\n",
    "    # print(f'Using central difference?: {central}')\n",
    "    print(f'Solution shape p_all[t_i]: ({Nx}, {Ny})')\n",
    "    print(f'Total time steps in p_all: {Nt+1}')\n",
    "    print(f'Courant, C_N, direction x: {D*dt/dx**2:.2e}')\n",
    "    print(f'Courant, C_N, direction y: {D*dt/dy**2:.2e}')"
   ]
  },
  {
   "cell_type": "code",
   "execution_count": 5,
   "id": "3a80926f-ad44-4e15-9e3a-8731e6f23f3a",
   "metadata": {
    "tags": []
   },
   "outputs": [
    {
     "name": "stdout",
     "output_type": "stream",
     "text": [
      "Current variables values:\n",
      "  D  [m^2/s]: 1.00\n",
      "  Lx  [ m ]: 500.0\n",
      "  Nx  [---]: 10.0\n",
      "  Ly  [ m ]: 500.0\n",
      "  Ny  [---]: 10.0\n",
      "  T   [ s ]: 5000.0\n",
      "  Nt  [---]: 500.0\n",
      "  dx  [ m ]: 5.00e+01\n",
      "  dy  [ m ]: 5.00e+01\n",
      "  dt  [ s ]: 1.00e+01\n",
      "Solution shape p_all[t_i]: (10, 10)\n",
      "Total time steps in p_all: 501\n",
      "Courant, C_N, direction x: 4.00e-03\n",
      "Courant, C_N, direction y: 4.00e-03\n"
     ]
    },
    {
     "data": {
      "application/vnd.jupyter.widget-view+json": {
       "model_id": "bb34de6cff9e4259bb82696099615f39",
       "version_major": 2,
       "version_minor": 0
      },
      "text/plain": [
       "interactive(children=(Play(value=0, description='step', max=499), Output()), _dom_classes=('widget-interact',)…"
      ]
     },
     "metadata": {},
     "output_type": "display_data"
    },
    {
     "data": {
      "application/vnd.jupyter.widget-view+json": {
       "model_id": "38dfd41b7bd241328529c2513c4f91f7",
       "version_major": 2,
       "version_minor": 0
      },
      "text/plain": [
       "HBox(children=(IntSlider(value=0, max=499),))"
      ]
     },
     "execution_count": 5,
     "metadata": {},
     "output_type": "execute_result"
    }
   ],
   "source": [
    "Lx = 500\n",
    "Nx = 10\n",
    "Ly = 500\n",
    "Ny = 10\n",
    "\n",
    "pBC = [0, 0, 0, 0]\n",
    "\n",
    "D = 1\n",
    "\n",
    "T = 5000\n",
    "Nt = 500\n",
    "\n",
    "dx = Lx/Nx\n",
    "dy = Ly/Ny  \n",
    "dt = T/Nt\n",
    "\n",
    "x = np.linspace(dx/2, Lx-dx/2, Nx)\n",
    "y = np.linspace(dy/2, Ly-dy/2, Ny) \n",
    "\n",
    "p_all = np.zeros((Nt+1, Nx, Ny))\n",
    "\n",
    "# You can play with the boundary conditions if you wish!\n",
    "p_all[0, 0, :] = pBC[0]                  \n",
    "p_all[0, -1, :] = pBC[1] \n",
    "p_all[0, :, 0] = pBC[2]\n",
    "p_all[0, :, -1] = pBC[3]\n",
    "\n",
    "# You can also play with the initial conditions!\n",
    "p_all[0, int(235/dx):int(265/dx + 1), int(235/dy):int(265/dy + 1)] = 100\n",
    "\n",
    "check_variables_2D()\n",
    "\n",
    "for t in range(Nt):\n",
    "    p = diffusion_2D(p_all[t], dx, dy, Nx, Ny, D, dt, pBC)\n",
    "    p_all[t+1] = p\n",
    "\n",
    "X, Y = np.meshgrid(x, y)  \n",
    "\n",
    "play = widgets.Play(min=0, max=Nt - 1, step=1, value=0, interval=100, disabled=False)\n",
    "slider = widgets.IntSlider(min=0, max=Nt - 1, step=1, value=0)\n",
    "widgets.jslink((play, 'value'), (slider, 'value'))\n",
    "\n",
    "interact(plot_2D, X=fixed(X), Y=fixed(Y), u=fixed(p_all), step=play)\n",
    "widgets.HBox([slider])"
   ]
  },
  {
   "cell_type": "markdown",
   "id": "c82599d9",
   "metadata": {},
   "source": [
    "**End of notebook.**\n",
    "<h2 style=\"height: 60px\">\n",
    "</h2>\n",
    "<h3 style=\"position: absolute; display: flex; flex-grow: 0; flex-shrink: 0; flex-direction: row-reverse; bottom: 60px; right: 50px; margin: 0; border: 0\">\n",
    "    <style>\n",
    "        .markdown {width:100%; position: relative}\n",
    "        article { position: relative }\n",
    "    </style>\n",
    "    <a rel=\"license\" href=\"http://creativecommons.org/licenses/by-nc-sa/4.0/\">\n",
    "      <img alt=\"Creative Commons License\" style=\"border-width:; width:88px; height:auto; padding-top:10px\" src=\"https://i.creativecommons.org/l/by-nc-sa/4.0/88x31.png\" />\n",
    "    </a>\n",
    "    <a rel=\"TU Delft\" href=\"https://www.tudelft.nl/en/ceg\">\n",
    "      <img alt=\"TU Delft\" style=\"border-width:0; width:100px; height:auto; padding-bottom:0px\" src=\"https://gitlab.tudelft.nl/mude/public/-/raw/main/tu-logo/TU_P1_full-color.png\"/>\n",
    "    </a>\n",
    "    <a rel=\"MUDE\" href=\"http://mude.citg.tudelft.nl/\">\n",
    "      <img alt=\"MUDE\" style=\"border-width:0; width:100px; height:auto; padding-bottom:0px\" src=\"https://gitlab.tudelft.nl/mude/public/-/raw/main/mude-logo/MUDE_Logo-small.png\"/>\n",
    "    </a>\n",
    "    \n",
    "</h3>\n",
    "<span style=\"font-size: 75%\">\n",
    "&copy; Copyright 2023 <a rel=\"MUDE Team\" href=\"https://studiegids.tudelft.nl/a101_displayCourse.do?course_id=65595\">MUDE Teaching Team</a> TU Delft. This work is licensed under a <a rel=\"license\" href=\"http://creativecommons.org/licenses/by-nc-sa/4.0/\">Creative Commons Attribution-NonCommercial-ShareAlike 4.0 International License</a>."
   ]
  }
 ],
 "metadata": {
  "kernelspec": {
   "display_name": "Python 3 (ipykernel)",
   "language": "python",
   "name": "python3"
  },
  "language_info": {
   "codemirror_mode": {
    "name": "ipython",
    "version": 3
   },
   "file_extension": ".py",
   "mimetype": "text/x-python",
   "name": "python",
   "nbconvert_exporter": "python",
   "pygments_lexer": "ipython3",
   "version": "3.11.4"
  },
  "widgets": {
   "application/vnd.jupyter.widget-state+json": {
    "state": {
     "01abaa8d846341d39bf07817fd7f38c8": {
      "model_module": "@jupyter-widgets/controls",
      "model_module_version": "2.0.0",
      "model_name": "SliderStyleModel",
      "state": {
       "description_width": ""
      }
     },
     "09d4fe8e0799431f8e8a8882dac31f2f": {
      "model_module": "@jupyter-widgets/base",
      "model_module_version": "2.0.0",
      "model_name": "LayoutModel",
      "state": {}
     },
     "104fc40577aa491da2087debcd7123ac": {
      "model_module": "@jupyter-widgets/base",
      "model_module_version": "2.0.0",
      "model_name": "LayoutModel",
      "state": {}
     },
     "15439ac42da240d8bc10d34febffb3da": {
      "model_module": "@jupyter-widgets/base",
      "model_module_version": "2.0.0",
      "model_name": "LayoutModel",
      "state": {}
     },
     "16248722280942bd9572dfefe250e0f6": {
      "model_module": "@jupyter-widgets/controls",
      "model_module_version": "2.0.0",
      "model_name": "LinkModel",
      "state": {
       "source": [
        "IPY_MODEL_68f9400c3e95497090a082fdd7e2c9e3",
        "value"
       ],
       "target": [
        "IPY_MODEL_67eb378912fa4b5daec167b63ab023e9",
        "value"
       ]
      }
     },
     "1a3df7424ac04172ae2819c3716a2e5e": {
      "model_module": "@jupyter-widgets/controls",
      "model_module_version": "2.0.0",
      "model_name": "VBoxModel",
      "state": {
       "_dom_classes": [
        "widget-interact"
       ],
       "children": [
        "IPY_MODEL_8c0a9b94126e4818906b57725fa73a64",
        "IPY_MODEL_ed81c017897c4c1d882867d98459db99"
       ],
       "layout": "IPY_MODEL_6fa39d561e474da0b0ac0d9a50bda245"
      }
     },
     "298a75e1c5074aef904c9600ff8542d4": {
      "model_module": "@jupyter-widgets/controls",
      "model_module_version": "2.0.0",
      "model_name": "SliderStyleModel",
      "state": {
       "description_width": ""
      }
     },
     "3dfd8d8c4040422a815f12dee2e1495c": {
      "model_module": "@jupyter-widgets/controls",
      "model_module_version": "2.0.0",
      "model_name": "LinkModel",
      "state": {
       "source": [
        "IPY_MODEL_8c0a9b94126e4818906b57725fa73a64",
        "value"
       ],
       "target": [
        "IPY_MODEL_7e6d72970c0146b4bbac20b7900a7b02",
        "value"
       ]
      }
     },
     "5ec888701e4246ed940b083843d4309a": {
      "model_module": "@jupyter-widgets/base",
      "model_module_version": "2.0.0",
      "model_name": "LayoutModel",
      "state": {}
     },
     "5fe4fe8f989b4101af01a8a543a1de7a": {
      "model_module": "@jupyter-widgets/controls",
      "model_module_version": "2.0.0",
      "model_name": "DescriptionStyleModel",
      "state": {
       "description_width": ""
      }
     },
     "60372031f30f41248766859c39b03d39": {
      "model_module": "@jupyter-widgets/controls",
      "model_module_version": "2.0.0",
      "model_name": "HBoxModel",
      "state": {
       "children": [
        "IPY_MODEL_67eb378912fa4b5daec167b63ab023e9"
       ],
       "layout": "IPY_MODEL_c26d8bbed4624448a848eb601fbfe1a3"
      }
     },
     "67eb378912fa4b5daec167b63ab023e9": {
      "model_module": "@jupyter-widgets/controls",
      "model_module_version": "2.0.0",
      "model_name": "IntSliderModel",
      "state": {
       "behavior": "drag-tap",
       "layout": "IPY_MODEL_104fc40577aa491da2087debcd7123ac",
       "max": 499,
       "style": "IPY_MODEL_298a75e1c5074aef904c9600ff8542d4",
       "value": 185
      }
     },
     "68383666d0414a00bd04f68b0ba1075c": {
      "model_module": "@jupyter-widgets/controls",
      "model_module_version": "2.0.0",
      "model_name": "DescriptionStyleModel",
      "state": {
       "description_width": ""
      }
     },
     "68f9400c3e95497090a082fdd7e2c9e3": {
      "model_module": "@jupyter-widgets/controls",
      "model_module_version": "2.0.0",
      "model_name": "PlayModel",
      "state": {
       "description": "step",
       "layout": "IPY_MODEL_be8c8c2698a34358ad7d5aaf62f60966",
       "max": 499,
       "style": "IPY_MODEL_68383666d0414a00bd04f68b0ba1075c",
       "value": 185
      }
     },
     "6fa39d561e474da0b0ac0d9a50bda245": {
      "model_module": "@jupyter-widgets/base",
      "model_module_version": "2.0.0",
      "model_name": "LayoutModel",
      "state": {}
     },
     "7e6d72970c0146b4bbac20b7900a7b02": {
      "model_module": "@jupyter-widgets/controls",
      "model_module_version": "2.0.0",
      "model_name": "IntSliderModel",
      "state": {
       "behavior": "drag-tap",
       "layout": "IPY_MODEL_09d4fe8e0799431f8e8a8882dac31f2f",
       "max": 199,
       "style": "IPY_MODEL_01abaa8d846341d39bf07817fd7f38c8",
       "value": 153
      }
     },
     "7ed77c10c46c46fdbb4573a5a432c151": {
      "model_module": "@jupyter-widgets/controls",
      "model_module_version": "2.0.0",
      "model_name": "HBoxModel",
      "state": {
       "children": [
        "IPY_MODEL_7e6d72970c0146b4bbac20b7900a7b02"
       ],
       "layout": "IPY_MODEL_d5b70ed77c7f4cf0b6a2f7f1f73da6dd"
      }
     },
     "830336fade0a43eda1f79e83e80b8cf4": {
      "model_module": "@jupyter-widgets/output",
      "model_module_version": "1.0.0",
      "model_name": "OutputModel",
      "state": {
       "layout": "IPY_MODEL_f4b763f29be8432e881422b7889d1e71",
       "outputs": [
        {
         "data": {
          "image/png": "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",
          "text/plain": "<Figure size 640x480 with 1 Axes>"
         },
         "metadata": {},
         "output_type": "display_data"
        }
       ]
      }
     },
     "8c0a9b94126e4818906b57725fa73a64": {
      "model_module": "@jupyter-widgets/controls",
      "model_module_version": "2.0.0",
      "model_name": "PlayModel",
      "state": {
       "description": "step",
       "layout": "IPY_MODEL_15439ac42da240d8bc10d34febffb3da",
       "max": 199,
       "style": "IPY_MODEL_5fe4fe8f989b4101af01a8a543a1de7a",
       "value": 153
      }
     },
     "be8c8c2698a34358ad7d5aaf62f60966": {
      "model_module": "@jupyter-widgets/base",
      "model_module_version": "2.0.0",
      "model_name": "LayoutModel",
      "state": {}
     },
     "c26d8bbed4624448a848eb601fbfe1a3": {
      "model_module": "@jupyter-widgets/base",
      "model_module_version": "2.0.0",
      "model_name": "LayoutModel",
      "state": {}
     },
     "d5b70ed77c7f4cf0b6a2f7f1f73da6dd": {
      "model_module": "@jupyter-widgets/base",
      "model_module_version": "2.0.0",
      "model_name": "LayoutModel",
      "state": {}
     },
     "d83ce496dabb4b01950070e1453a70f4": {
      "model_module": "@jupyter-widgets/controls",
      "model_module_version": "2.0.0",
      "model_name": "VBoxModel",
      "state": {
       "_dom_classes": [
        "widget-interact"
       ],
       "children": [
        "IPY_MODEL_68f9400c3e95497090a082fdd7e2c9e3",
        "IPY_MODEL_830336fade0a43eda1f79e83e80b8cf4"
       ],
       "layout": "IPY_MODEL_5ec888701e4246ed940b083843d4309a"
      }
     },
     "ed81c017897c4c1d882867d98459db99": {
      "model_module": "@jupyter-widgets/output",
      "model_module_version": "1.0.0",
      "model_name": "OutputModel",
      "state": {
       "layout": "IPY_MODEL_f4496ba256134c0faafd264288f9f868",
       "outputs": [
        {
         "data": {
          "image/png": "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",
          "text/plain": "<Figure size 640x480 with 1 Axes>"
         },
         "metadata": {},
         "output_type": "display_data"
        }
       ]
      }
     },
     "f4496ba256134c0faafd264288f9f868": {
      "model_module": "@jupyter-widgets/base",
      "model_module_version": "2.0.0",
      "model_name": "LayoutModel",
      "state": {}
     },
     "f4b763f29be8432e881422b7889d1e71": {
      "model_module": "@jupyter-widgets/base",
      "model_module_version": "2.0.0",
      "model_name": "LayoutModel",
      "state": {}
     }
    },
    "version_major": 2,
    "version_minor": 0
   }
  }
 },
 "nbformat": 4,
 "nbformat_minor": 5
}
