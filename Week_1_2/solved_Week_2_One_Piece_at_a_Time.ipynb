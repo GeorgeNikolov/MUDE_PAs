{
 "cells": [
  {
   "cell_type": "markdown",
   "id": "c7463ce3-aef5-46fe-950b-8f4f290cc2b9",
   "metadata": {},
   "source": [
    "# Project 1 Part 2: Improving the Model, One Piece at a Time\n",
    "\n",
    "<h1 style=\"position: absolute; display: flex; flex-grow: 0; flex-shrink: 0; flex-direction: row-reverse; top: 60px;right: 30px; margin: 0; border: 0\">\n",
    "    <style>\n",
    "        .markdown {width:100%; position: relative}\n",
    "        article { position: relative }\n",
    "    </style>\n",
    "    <img src=\"https://gitlab.tudelft.nl/mude/public/-/raw/main/tu-logo/TU_P1_full-color.png\" style=\"width:100px\"\\>\n",
    "    <img src=\"https://gitlab.tudelft.nl/mude/public/-/raw/main/mude-logo/MUDE_Logo-small.png\" style=\"width:100px\"\\>\n",
    "</h1>\n",
    "<h2 style=\"height: 10px\">\n",
    "</h2>\n",
    "\n",
    "*[CEGM1000 MUDE](http://mude.citg.tudelft.nl/): Week 1.2, Friday, Sep 15, 2023. This assignment does not need to be turned in.*"
   ]
  },
  {
   "cell_type": "markdown",
   "id": "1db6fea9-f3ad-44bc-a4c8-7b2b3008e945",
   "metadata": {
    "id": "1db6fea9-f3ad-44bc-a4c8-7b2b3008e945",
    "tags": []
   },
   "source": [
    "## Overview\n",
    "\n",
    "This is the second part of Project 1, which takes place in Q1, Weeks 1 and 2. To prepare you for a \"real\" project next week, you should try and complete this assignment by the end of the session at 12:30. This means having a single notebook for your group with all code, analysis and interpretation completed. You should leave the cell outputs in the notebook.\n",
    "\n",
    "After reading the project introduction, the assignment consists of three Tasks:\n",
    "1. Writing functions (Golden Rule No. 4)\n",
    "2. Running analysis\n",
    "3. Interpreting the results\n",
    "\n",
    "We recommend you keep the Workshop assignment from this week (WS02) handy to complete this assignment!\n",
    "\n",
    "### Working Method\n",
    "\n",
    "We recommend that you select one group member to prepare the \"master\" notebook (the notebook that you would turn in if this were required). Other group members can contribute by writing and checking code or analytic expressions on their own computer or paper and sending to the \"master\" computer.\n",
    "\n",
    "If you already know how, or don't mind spending a few minutes to set it up, you may also consider uploading your notebook to Deepnote. This is advantageous because you can work on the notebooks simultaneously, and also add comments. Keep in mind, however, that this takes time to set up, so we do not recommend it if you have never used Deepnote before; in addition, this assignment is relatively simple and very similar to Wednesday, so we don't think it is necessary.\n",
    "\n",
    "## Project 1, Part 2: A Quick Recap\n",
    "\n",
    "Last week we focused on investigating some of the available data and identifying possible models for predicting the break-up date in the Nenana Ice Classic. We looked at the results of a few models and realized that _a large part of the model error was due to variability in the data._ Most of this is associated with aleatoric uncertainty due to the somewhat-random behaviour of nature. This week we will focus in particular on the uncertainty in ice growth, since that has a direct effect on when and how the tripod falls over and moves downstream.\n",
    "\n",
    "As a reminder:\n",
    "- Each year you can bet on the day and time the river ice in the Tanana River, Alaska, will break apart along the waterfront of the town Nenana.\n",
    "- A tripod is constructed on the ice during the first weekend in March.\n",
    "- Break-up time is determined as follows: \"The Tripod is setup with a unique pulley and clock system that stops the clock once the tripod has moved downstream by 100 ft.\"\n",
    "- You can buy a ticket for $3 and place a bet between Feb 1 and April 5.\n",
    "- Visit the website for more information, or to view a live webcam of the river nenanaakiceclassic.com\n",
    "\n",
    "## Let's account for the latest news!\n",
    "\n",
    "You have been thinking about the date to place the bet and you are getting close to the deadline. Since you have waited until last minute, **why not to make use of the latest weather predictions?** You have chosen a model (described below) which determines whether the ice breaks or not for a given weather condition and ice thickness. You have the forecast for the next days and have taken measurements of the ice thickness. Now, you need to predict how much the ice will grow during the next days and your model will give you all the answers!\n",
    "\n",
    "To model the ice growth, you want to use the classical _Stefan's Problem_, which aims to determine how an ice layer grows as a function of time, given the constraint that the temperature of air ($T_{air}$) is constant, smaller than the freezing temperature $T_{fr}$ and everywhere the same.\n",
    "\n",
    "\n",
    "<img src=\"./sketch_ice.png\" alt=\"drawing\" width=\"600\"/>\n",
    "\n",
    "Using this problem, we can model ice growth as:\n",
    "\n",
    "$$\n",
    "H^2_{ice}-H^2_{ice,0} = \\frac{2 k_{ice}}{\\rho_{ice} l}\\int{(T_s-T_{fr})}dt\n",
    "$$\n",
    "\n",
    "where $H_{ice}$ is the thickness of the ice at a given time $t$, $H_{ice,0}$ is the thickness of the ice at time $t=0$, $k_{ice}=2.2W/(K \\cdot m)$ is the thermal conductivity of ice, $\\rho_{ice}=917 kg/m^3$ is the density of ice, $l = 333,4 J/g = 333,4 kJ/kg$ is the latent heat of fusion, $T_s$ is the equal to the temperature of the air and $T_{fr}=273K$ is the freezing temperature of water.\n",
    "\n",
    "We want to estimate the ice thickness after 3 days, and will assume that the temperature remains stable during that period. Therefore, the previous equation will lead to:\n",
    "\n",
    "$$\n",
    "H_{ice} = \\sqrt{\\frac{2 k_{ice}}{\\rho_{ice} l}\\Delta T \\Delta t+H^2_{ice,0}}\n",
    "$$\n",
    "\n",
    "where $\\Delta T = |T_s-T_{fr}|$ and $\\frac{2 k_{ice}}{\\rho_{ice} l} \\approx 1.44 \\cdot 10^{-8} \\ m^2/K s$\n",
    "\n",
    "**Previous work provides in the following data:**\n",
    "- Based on the samples of ice measurements, the mean thickness is $\\mu_{H0}=0.20m$ and the standard deviation of thickness is $\\sigma_{H0}=0.03m$.\n",
    "- Based on the forecast, the mean air temperature during the next 3 days is $\\mu_T=263K$ and the standard deviation of the temperature of $\\sigma_T=4K$.\n",
    "- The rest of the variables are deterministic.\n",
    "- The ice thickness and the predicted temperature are independent random variables.\n",
    "\n",
    "**The goal of this project is to answer the following questions (Task 3):**\n",
    "1. What is the expected value and standard deviation of the ice thickness after 3 days ($\\mu_h$ and $\\sigma_h$)?\n",
    "2. Does an estimate of the expected value provide enough information to make your bet, or should we also account for the variability of the thickness when estimating the break-up day?\n",
    "3. Considering that the distributions of the increment of temperature ($\\Delta T$) and initial ice thickness ($H_{ice,0}$) are Normal:\n",
    "    (a) What does the ice thickness distribution $H_{ice}$ look like?\n",
    "    (b) Is the Normal distribution a reasonable model for $H_{ice}$?\n",
    "    (c) Are the propagated and simulated $\\mu_h$ and $\\sigma_h$ equivalent?\n",
    "\n",
    "*Note that you are interested in the increment of temperature $|T_s-T_{fr}|$, whose mean is $\\mu_{iT}=|263-273|=10K$ and $\\sigma_{iT}=4K$.*"
   ]
  },
  {
   "cell_type": "code",
   "execution_count": 1,
   "id": "4fc6e87d-c66e-43df-a937-e969acc409f8",
   "metadata": {
    "id": "4fc6e87d-c66e-43df-a937-e969acc409f8"
   },
   "outputs": [],
   "source": [
    "import numpy as np\n",
    "import matplotlib.pyplot as plt\n",
    "\n",
    "from scipy.stats import norm\n",
    "from scipy.stats import probplot\n",
    "\n",
    "import ipywidgets as widgets\n",
    "from ipywidgets import interact\n",
    "\n",
    "plt.rcParams.update({'font.size': 14})"
   ]
  },
  {
   "cell_type": "markdown",
   "id": "1ee42f39",
   "metadata": {},
   "source": [
    "## Task 1: Write all necessary functions\n",
    "\n",
    "1. Apply the propagation laws with `H_taylor()` to find the mean and standard deviation of the linearized function of random variables \n",
    "2. Find the distribution of `H_ice` numerically with a simulation, then compare this to the Normal distribution defined by the mean and standard deviation of the linearized function of random variables\n"
   ]
  },
  {
   "cell_type": "markdown",
   "id": "bfadcf3f-4578-4809-acdb-625ab3a71f27",
   "metadata": {
    "id": "bfadcf3f-4578-4809-acdb-625ab3a71f27"
   },
   "source": [
    "<div style=\"background-color:#AABAB2; color: black; vertical-align: middle; padding:15px; margin: 10px; border-radius: 10px\">\n",
    "<p>\n",
    "<b>Task 1:</b>   \n",
    "Complete the two functions in the cell below, and support your work by including an image showing the analytic equations.\n",
    "</p>\n",
    "</div>"
   ]
  },
  {
   "cell_type": "code",
   "execution_count": 2,
   "id": "a2f08dc7",
   "metadata": {},
   "outputs": [],
   "source": [
    "def H_taylor(mu_H0, mu_iT, sigma_H0, sigma_iT):\n",
    "    \"\"\"Taylor series approximation of mean and std of h\"\"\"\n",
    "\n",
    "    K_ice = 2.2\n",
    "\n",
    "    rho_ice = 917\n",
    "\n",
    "    l = 333.4 * 1000\n",
    "\n",
    "    d_t = 3*24*3600\n",
    "\n",
    "    constant = (2 * K_ice) / (rho_ice * l) * d_t \n",
    "\n",
    "    dH_ddT = constant / (2 * np.sqrt(constant * mu_iT + mu_H0**2))\n",
    "    dH_ddT_2 = -(constant**2 / np.sqrt(constant * mu_iT + mu_H0**2)) / (\n",
    "        4 * (constant * mu_iT + mu_H0**2)\n",
    "    )\n",
    "\n",
    "    dH_dH0 = mu_H0 / np.sqrt(constant * mu_iT + mu_H0**2)\n",
    "    dJ_dH0_2 = (constant * mu_iT) / (constant * mu_iT + mu_H0**2) ** (3 / 2)\n",
    "\n",
    "    H_0 = np.sqrt(constant * mu_iT + mu_H0**2)\n",
    "\n",
    "    mu_H = H_0 + 0.2 * dH_ddT_2 * sigma_iT**2 + dJ_dH0_2 * sigma_H0**2\n",
    "\n",
    "    sigma_H = (dH_ddT) ** 2 * sigma_iT**2 + (dH_dH0) ** 2 * sigma_H0**2\n",
    "\n",
    "    return mu_H, np.sqrt(sigma_H)\n",
    "\n",
    "\n",
    "def samples_plot(N, mu_H0, mu_iT, sigma_H0, sigma_iT,mu_H, sigma_H):\n",
    "    \"\"\"Generate samples and plots for V\n",
    "\n",
    "    Compares the approximated Normal distribution of V to numerically\n",
    "    approximated distribution, found by sampling from the input\n",
    "    distributions. Comparison is made with two plots:\n",
    "      1. PDF of V~N(mu,sigma) (the approximation) and a histogram (sample)\n",
    "      2. Probability plot, compares quantiles of sample and CDF of V\n",
    "\n",
    "    Return: a plot and the mean and std dev of simulated values of H_ice.\n",
    "    \"\"\"\n",
    "\n",
    "    d_t = 3*24*3600\n",
    "\n",
    "    K_ice = 2.2\n",
    "\n",
    "    rho_ice = 917\n",
    "\n",
    "    l = 333.4 * 1000\n",
    "\n",
    "    constant = (2 * K_ice) / (rho_ice * l) * d_t\n",
    "\n",
    "    H0_samples = np.random.normal(mu_H0, sigma_H0, N)\n",
    "    iT_samples = np.random.normal(mu_iT, sigma_iT, N)\n",
    "\n",
    "    H_samples_given = np.sqrt(constant * iT_samples + H0_samples**2)\n",
    "    mu_H_given = np.mean(H_samples_given)\n",
    "    sigma_H_given = np.std(H_samples_given)\n",
    "    \n",
    "    H_samples_calc = np.random.normal(mu_H, sigma_H, N)\n",
    "    xmin = np.min(H_samples_calc)\n",
    "    xmax = np.max(H_samples_calc)\n",
    "\n",
    "    x = np.linspace(xmin, xmax, 100)\n",
    "\n",
    "    fig, ax = plt.subplots(1, 2, figsize=(15, 5), label=\"Empirical PDF of H\")\n",
    "\n",
    "    ax[0].hist(H_samples_calc, bins=40, density=True)\n",
    "    \n",
    "    ax[0].plot(x, norm.pdf(x, mu_H_given, sigma_H_given), color=\"black\", lw=2.5)\n",
    "    ax[0].plot(x, norm.pdf(x,mu_H,sigma_H), color=\"green\", lw=2.5)\n",
    "    ax[0].set_xlim(xmin, xmax)\n",
    "    ax[0].legend([\"Normal PDF\", \"Taylor Normal PDF\"], fontsize = \"10\", loc = \"upper right\")\n",
    "    ax[0].set_xlabel(\"Ijs dikte [m]\")\n",
    "    ax[0].set_ylabel(\"Density\")\n",
    "    ax[0].set_title(\"Hele mooie titel\")\n",
    "    \n",
    "    probplot(H_samples_calc, dist=norm, fit=True, plot=ax[1])\n",
    "    ax[1].legend(['generated samples', 'normalfit'])\n",
    "    ax[1].get_lines()[1].set_linewidth(2.5)\n",
    "    plt.show(fig)\n",
    "    "
   ]
  },
  {
   "cell_type": "markdown",
   "id": "a2ed1792-c615-4678-b45d-f2d11bd8d789",
   "metadata": {},
   "source": [
    "## Task 2: Analysis"
   ]
  },
  {
   "cell_type": "markdown",
   "id": "9091cfce",
   "metadata": {},
   "source": [
    "<div style=\"background-color:#AABAB2; color: black; vertical-align: middle; padding:15px; margin: 10px; border-radius: 10px\">\n",
    "<p>\n",
    "<b>Task 2: Analysis</b><br>\n",
    "Use the functions defined in Task 1 to compute the mean and standard deviation of the linearized function of random variables, and compare the distribution defined by this result to the distribution of $H_{ice}$ found using simulation.\n",
    "</p>\n",
    "</div>"
   ]
  },
  {
   "cell_type": "code",
   "execution_count": 8,
   "id": "55ff8dd6-86ef-401a-9a56-02551c348698",
   "metadata": {
    "colab": {
     "base_uri": "https://localhost:8080/",
     "height": 425
    },
    "id": "55ff8dd6-86ef-401a-9a56-02551c348698",
    "outputId": "3add4ee9-1054-4726-dc4f-72dca5c1c6c8"
   },
   "outputs": [
    {
     "name": "stdout",
     "output_type": "stream",
     "text": [
      " mu: 0.27908 m, sigma: 0.03443 m\n"
     ]
    },
    {
     "data": {
      "application/vnd.jupyter.widget-view+json": {
       "model_id": "4153ed0ba8ff4369940068376217dcae",
       "version_major": 2,
       "version_minor": 0
      },
      "text/plain": [
       "interactive(children=(FloatSlider(value=0.06, description='sigma_H0', max=0.12, step=0.01), IntSlider(value=5,…"
      ]
     },
     "metadata": {},
     "output_type": "display_data"
    }
   ],
   "source": [
    "N = 100000\n",
    "mu_H0 = 0.2\n",
    "mu_iT = 10\n",
    "sigma_H0 = 0.03\n",
    "sigma_iT = 4\n",
    "\n",
    "mu, sigma = H_taylor(mu_H0, mu_iT, sigma_H0, sigma_iT)\n",
    "\n",
    "print(f' mu: {mu:.5f} m, sigma: {sigma:.5f} m')\n",
    "\n",
    "np.random.seed(5)\n",
    "#Implement the slider for sigma_H0 and sigma_iT\n",
    "@interact(sigma_H0=(0, 0.12, 0.01),sigma_iT=(1, 10, 1))\n",
    "def samples_slideplot(sigma_H0,sigma_iT):\n",
    "    samples_plot(N, mu_H0, mu_iT, sigma_H0, sigma_iT, mu, sigma)\n",
    "    \n",
    "\n",
    "#print(f'prob_mu = {prob_mu:.5f}, prob_sigma: {prob_sigma:.5f}')\n"
   ]
  },
  {
   "cell_type": "markdown",
   "id": "4b52bb89-b762-4cc7-906c-36517b989ef9",
   "metadata": {},
   "source": [
    "## Task 3: Interpretation"
   ]
  },
  {
   "cell_type": "markdown",
   "id": "e11a76d9",
   "metadata": {},
   "source": [
    "<div style=\"background-color:#AABAB2; color: black; vertical-align: middle; padding:15px; margin: 10px; border-radius: 10px\">\n",
    "<p>\n",
    "<b>Task 3: Interpretation</b><br>\n",
    "\n",
    "Answer the following questions in a Markdown cell using the results from Task 2:\n",
    "    <ol>\n",
    "        <li>Explain whether we should use the expected value for our prediction, or whether we should also account for the variability of the thickness estimate in the subsequent phases of our analysis?</li>\n",
    "        <p>This is my answer to the very serious question.<p>\n",
    "        <li>What does the ice thickness distribution $H_{ice}$ look like?</li>\n",
    "        <p>This is my answer to the second very serious question.<p>\n",
    "        <li>Are the propagated and simulated $\\mu_h$ and $\\sigma_h$ equivalent?</li>\n",
    "        <li>Is the Normal distribution a reasonable model for $H_{ice}$?</li>\n",
    "    </ol>\n",
    "</p>\n",
    "</div>"
   ]
  },
  {
   "cell_type": "markdown",
   "id": "7c2eb27d-55c2-4f18-b9fd-67dcc19f3632",
   "metadata": {},
   "source": [
    "**Write your answers for Task 3 in this Markdown cell.**\n",
    "\n",
    "1. You should account for the variability in subsequent phases. There is a variability of 15% which is fairly large.\n",
    "2. Like a normal distribution around mean = 0.2 and a standard deviation of 0.3\n",
    "3. Depending on the used seed for the simulation (since it is random), they can be very similar or not. \n",
    "4. No, since if it is freezing, it does not make sense that the ice thickness could be reducing. So in this case a assymetrical (skewed to thicker ice) distribution would make more sense. For example a bell curve could work.\n"
   ]
  },
  {
   "cell_type": "markdown",
   "id": "681eee40-c743-4494-bba5-aaf9f55c9cf4",
   "metadata": {},
   "source": [
    "**End of notebook.**\n",
    "<h2 style=\"height: 60px\">\n",
    "</h2>\n",
    "<h3 style=\"position: absolute; display: flex; flex-grow: 0; flex-shrink: 0; flex-direction: row-reverse; bottom: 60px; right: 50px; margin: 0; border: 0\">\n",
    "    <style>\n",
    "        .markdown {width:100%; position: relative}\n",
    "        article { position: relative }\n",
    "    </style>\n",
    "    <a rel=\"license\" href=\"http://creativecommons.org/licenses/by-nc-sa/4.0/\">\n",
    "      <img alt=\"Creative Commons License\" style=\"border-width:; width:88px; height:auto; padding-top:10px\" src=\"https://i.creativecommons.org/l/by-nc-sa/4.0/88x31.png\" />\n",
    "    </a>\n",
    "    <a rel=\"TU Delft\" href=\"https://www.tudelft.nl/en/ceg\">\n",
    "      <img alt=\"TU Delft\" style=\"border-width:0; width:100px; height:auto; padding-bottom:0px\" src=\"https://gitlab.tudelft.nl/mude/public/-/raw/main/tu-logo/TU_P1_full-color.png\"/>\n",
    "    </a>\n",
    "    <a rel=\"MUDE\" href=\"http://mude.citg.tudelft.nl/\">\n",
    "      <img alt=\"MUDE\" style=\"border-width:0; width:100px; height:auto; padding-bottom:0px\" src=\"https://gitlab.tudelft.nl/mude/public/-/raw/main/mude-logo/MUDE_Logo-small.png\"/>\n",
    "    </a>\n",
    "    \n",
    "</h3>\n",
    "<span style=\"font-size: 75%\">\n",
    "&copy; Copyright 2023 <a rel=\"MUDE Team\" href=\"https://studiegids.tudelft.nl/a101_displayCourse.do?course_id=65595\">MUDE Teaching Team</a> TU Delft. This work is licensed under a <a rel=\"license\" href=\"http://creativecommons.org/licenses/by-nc-sa/4.0/\">Creative Commons Attribution-NonCommercial-ShareAlike 4.0 International License</a>."
   ]
  }
 ],
 "metadata": {
  "colab": {
   "collapsed_sections": [],
   "provenance": []
  },
  "kernelspec": {
   "display_name": "Python 3 (ipykernel)",
   "language": "python",
   "name": "python3"
  },
  "language_info": {
   "codemirror_mode": {
    "name": "ipython",
    "version": 3
   },
   "file_extension": ".py",
   "mimetype": "text/x-python",
   "name": "python",
   "nbconvert_exporter": "python",
   "pygments_lexer": "ipython3",
   "version": "3.11.4"
  },
  "widgets": {
   "application/vnd.jupyter.widget-state+json": {
    "state": {},
    "version_major": 2,
    "version_minor": 0
   }
  }
 },
 "nbformat": 4,
 "nbformat_minor": 5
}
