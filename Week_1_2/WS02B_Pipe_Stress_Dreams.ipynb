{
 "cells": [
  {
   "cell_type": "markdown",
   "id": "9adbf457-797f-45b7-8f8b-0e46e0e2f5ff",
   "metadata": {
    "id": "9adbf457-797f-45b7-8f8b-0e46e0e2f5ff"
   },
   "source": [
    "# Workshop 2: Mean and Variance Propagation\n",
    "**Notebook B (2 of 2): Sewer Pipe Buckling Capacity**\n",
    "<h1 style=\"position: absolute; display: flex; flex-grow: 0; flex-shrink: 0; flex-direction: row-reverse; top: 60px;right: 30px; margin: 0; border: 0\">\n",
    "    <style>\n",
    "        .markdown {width:100%; position: relative}\n",
    "        article { position: relative }\n",
    "    </style>\n",
    "    <img src=\"https://gitlab.tudelft.nl/mude/public/-/raw/main/tu-logo/TU_P1_full-color.png\" style=\"width:100px\"\\>\n",
    "    <img src=\"https://gitlab.tudelft.nl/mude/public/-/raw/main/mude-logo/MUDE_Logo-small.png\" style=\"width:100px\"\\>\n",
    "</h1>\n",
    "<h2 style=\"height: 10px\">\n",
    "</h2>\n",
    "\n",
    "*[CEGM1000 MUDE](http://mude.citg.tudelft.nl/): Week 1.2. Wed Sep 13, 2023.*"
   ]
  },
  {
   "cell_type": "markdown",
   "id": "1db6fea9-f3ad-44bc-a4c8-7b2b3008e945",
   "metadata": {
    "id": "1db6fea9-f3ad-44bc-a4c8-7b2b3008e945"
   },
   "source": [
    "## Overview\n",
    "\n",
    "This is one of two notebooks where, together with your group, you will apply the propagation laws for the mean and variance for a function of two independent random variables. You will assesss how well the approximations correspond with the <em>simulation-based</em> equivalents. You will also assess the distribution of the function.\n",
    "\n",
    "_You do not need to turn in this notebook._\n",
    "\n",
    "### Application: Sewer Pipe Buckling Capacity\n",
    "\n",
    "Local buckling of a sewer pipe due to normal stresses can be modelled as:\n",
    "\n",
    "$$S =20\\times 10^9 \\frac{T}{R}$$\n",
    "\n",
    "where $S$ is the stress resulting in buckling, $R$ is the hydraulic radius of the sewer pipe (in $m$), $T$ the wall thickness (in $m$), and the modus of elasticity of concrete equal to $20\\times 10^9$.\n",
    "\n",
    "Both $T$ and $R$ are random variables, as it is known that sewer pipes are susceptible to bending and deformation\n",
    "\n",
    "The sewer pipe considered here has mean values $\\mu_T$, $\\mu_R$, and standard deviations $\\sigma_T$ and $\\sigma_R$; $T$ and $R$ are assumed to be statistically independent.\n",
    "\n",
    "We are now interested in the expected stress as well as the uncertainty expressed by the standard deviation. This is important for the design of the sewer system.\n",
    "\n",
    "*Disclaimer: the dimensions of the pipe come from a real case study, but some aspects of the exercise are...less realistic. We would also like to express our sincere regrets for giving you variables in notebooks A and B with the same symbol, and also acknowledge that the use of \"S\" for stress may be...painfull for some.*\n",
    "\n",
    "### Programming\n",
    "\n",
    "We will add one new package this week to our `mude` environment; refer to the package installation [instructions on the website](https://mude.citg.tudelft.nl/software/packages/) and remember to activate your `mude` environment! If you are already using this notebook in Jupyter, simpy start up a new session.\n",
    "\n",
    "Note also that we can increase the default size of the text in our figures to make them more readable!"
   ]
  },
  {
   "cell_type": "code",
   "execution_count": null,
   "id": "4fc6e87d-c66e-43df-a937-e969acc409f8",
   "metadata": {
    "id": "4fc6e87d-c66e-43df-a937-e969acc409f8"
   },
   "outputs": [],
   "source": [
    "import numpy as np\n",
    "import matplotlib.pyplot as plt\n",
    "\n",
    "from scipy.stats import norm\n",
    "from scipy.stats import probplot\n",
    "\n",
    "import ipywidgets as widgets\n",
    "from ipywidgets import interact\n",
    "\n",
    "plt.rcParams.update({'font.size': 14})"
   ]
  },
  {
   "cell_type": "markdown",
   "id": "be5078d7",
   "metadata": {},
   "source": [
    "### Theory: Propagation laws for a function of 2 random variables \n",
    "\n",
    "We are interested in the mean and variance of $X$, which is a function of 2 random variables: $X=q(Y_1,Y_2)$. The mean and covariance matrix of $Y$ are assumed to be known:\n",
    "\n",
    "$$\\mu_Y = [\\mu_1\\;\\mu_2]^T$$\n",
    "\n",
    "$$\\Sigma_Y = \\begin{bmatrix} \\sigma^2_1 & Cov(Y_1,Y_2) \\\\ Cov(Y_1,Y_2) & \\sigma^2_2\\end{bmatrix}$$\n",
    "\n",
    "The second-order Taylor series approximation of the mean $\\mu_X$ is then given by:\n",
    "\n",
    "$$\\mu_X=\\mathbb{E}(q(Y))\\approx q(\\mu_Y )+\\frac{1}{2}\\frac{\\partial^2 q(\\mu_Y )}{\\partial Y_1^2 } \\sigma_1^2+\\frac{1}{2}\\frac{\\partial^2 q(\\mu_Y )}{\\partial Y_2^2 }\\sigma_2^2+\\frac{\\partial^2 q(\\mu_Y )}{\\partial Y_1 \\partial Y_2 } Cov(Y_1,Y_2) $$\n",
    "\n",
    "In most practical situations, the second-order approximation suffices. \n",
    "\n",
    "For the variance $\\sigma_X^2$ it is common to use only the first-order approximation, given by:\n",
    "\n",
    "$$\\sigma^2_X \\approx \\left(\\frac{\\partial q(\\mu_Y )}{\\partial Y_1 } \\right)^2 \\sigma^2_1 +\\left(\\frac{\\partial q(\\mu_Y )}{\\partial Y_2 } \\right)^2 \\sigma^2_2 + 2\\left(\\frac{\\partial q(\\mu_Y )}{\\partial Y_1 } \\right) \\left(\\frac{\\partial q(\\mu_Y )}{\\partial Y_2 } \\right)  Cov(Y_1,Y_2)$$"
   ]
  },
  {
   "cell_type": "markdown",
   "id": "1ee42f39",
   "metadata": {},
   "source": [
    "## Task 1: Apply the propagation laws\n",
    "\n",
    "We are interested to know how the uncertainty in $R$ and $T$ propagates into the uncertainty of the stress $S$. We will first do this analytically and then implement it in code."
   ]
  },
  {
   "cell_type": "markdown",
   "id": "6f16d5ac-a93a-4932-a361-998427d6016f",
   "metadata": {
    "id": "bfadcf3f-4578-4809-acdb-625ab3a71f27"
   },
   "source": [
    "<div style=\"background-color:#AABAB2; color: black; vertical-align: middle; padding:15px; margin: 10px; border-radius: 10px\">\n",
    "<p>\n",
    "<b>Task 1.1:</b>   \n",
    "\n",
    "Use the Taylor series approximation to find the expression for $\\mu_S$ and $\\sigma_S$ as function of $\\mu_R$, $\\sigma_R$, $\\mu_T$, $\\sigma_T$. Write your answer on paper (or using a tablet) and use the Markdown cell below to include an image in the notebook.\n",
    "</p>\n",
    "</div>"
   ]
  },
  {
   "cell_type": "markdown",
   "id": "614e9588-adc8-4168-88be-0c87d4a4f184",
   "metadata": {},
   "source": [
    "**Use this Markdown cell to add your answer for Task 1.1.**\n",
    "\n",
    "Replace the `IMAGE_NAME.jpg` with your image, and remember to include the proper path (e.g., if you put your images in a sub-directory of your working directory, let's say in `MY_SUB_DIR`, you can specify the image location like this `./MY_SUB_DIR/IMAGE_NAME.jpg`. You can also replace `INSERT_YOUR_IMAGE_HERE` with any text you like: try something readable, so you understand what should be there when the image link is broken.\n",
    "\n",
    "![INSERT_YOUR_IMAGE_HERE](./IMAGE_NAME.jpg)"
   ]
  },
  {
   "cell_type": "markdown",
   "id": "2197b227-8eda-4198-8594-f58de507518f",
   "metadata": {},
   "source": [
    "<div style=\"background-color:#AABAB2; color: black; vertical-align: middle; padding:15px; margin: 10px; border-radius: 10px\">\n",
    "<p>\n",
    "<b>Task 1.2:</b>   \n",
    "\n",
    "Complete the function below, such that the <code>S_taylor</code> will compute the approximated $\\mu_S$ and $\\sigma_S$, as found in the previous Task.\n",
    "</p>\n",
    "</div>"
   ]
  },
  {
   "cell_type": "code",
   "execution_count": null,
   "id": "a2f08dc7",
   "metadata": {},
   "outputs": [],
   "source": [
    "def S_taylor(mu_R, mu_T, sigma_R, sigma_T):\n",
    "    \"\"\"Compute Taylor series approximation of mean and std of S.\"\"\"\n",
    "    \n",
    "    constant = 20e9\n",
    "    \n",
    "    dVdR = YOUR_CODE_HERE\n",
    "    dVdT = YOUR_CODE_HERE\n",
    "    \n",
    "    dSdR_2 = YOUR_CODE_HERE\n",
    "    dSdT_2 = YOUR_CODE_HERE\n",
    "    \n",
    "    mu_S_0 = YOUR_CODE_HERE\n",
    "    mu_S = YOUR_CODE_HERE\n",
    "    \n",
    "    var_S = YOUR_CODE_HERE\n",
    "    sigma_S = YOUR_CODE_HERE\n",
    "    \n",
    "    return mu_S, sigma_S"
   ]
  },
  {
   "cell_type": "markdown",
   "id": "3e823e7a",
   "metadata": {},
   "source": [
    "Now we use the Taylor approximation and make two plots of $\\sigma_S$ as a function of $\\sigma_R$ for the following cases:\n",
    "- $\\sigma_T$ = 0.005 $m$\n",
    "- $\\sigma_T$ = 0 $m/m$ (i.e., slope is deterministic, not susceptible to deformation)\n",
    "\n",
    "We will use $\\mu_R = 1.25 m$ and $\\mu_T = 0.03 m$, and vary $\\sigma_R$ from 0 to 0.25 $m$. "
   ]
  },
  {
   "cell_type": "code",
   "execution_count": null,
   "id": "55ff8dd6-86ef-401a-9a56-02551c348698",
   "metadata": {
    "colab": {
     "base_uri": "https://localhost:8080/",
     "height": 425
    },
    "id": "55ff8dd6-86ef-401a-9a56-02551c348698",
    "outputId": "3add4ee9-1054-4726-dc4f-72dca5c1c6c8"
   },
   "outputs": [],
   "source": [
    "# assign given values\n",
    "mu_R = 1.25\n",
    "mu_T = 0.03\n",
    "sigma_R = np.linspace(0, 0.2, 50)\n",
    "\n",
    "# case 1 for sigma_T\n",
    "sigma_T_1 = 0.005\n",
    "mu_S_1, sigma_S_1 = S_taylor(mu_R, mu_T, sigma_R, sigma_T_1)\n",
    "\n",
    "# case 2 for sigma_T\n",
    "sigma_T_2 = 0\n",
    "mu_S_2, sigma_S_2 = S_taylor(mu_R, mu_T, sigma_R, sigma_T_2)\n",
    "\n",
    "fig, ax = plt.subplots(1, 2, figsize = (16, 6))\n",
    "# left side plot for case 1 \n",
    "ax[0].plot(sigma_R, sigma_S_1)\n",
    "ax[0].set_ylabel('$\\sigma_S$ [$N/m^2$]', size = 20)\n",
    "ax[0].set_xlabel('$\\sigma_R$ [$m$]', size = 20)\n",
    "ax[0].set_title(f'$\\sigma_T$ = {sigma_T_1} $m$, Case 1')\n",
    "ax[0].set_xlim(0, 0.1)\n",
    "ax[0].set_ylim(0, np.max(sigma_S_1))\n",
    "# right side plot for case 2\n",
    "ax[1].plot(sigma_R, sigma_S_2)\n",
    "ax[1].set_ylabel('$\\sigma_S$ [$N/m^2$]', size = 20)\n",
    "ax[1].set_xlabel('$\\sigma_R$ [m]', size = 20)\n",
    "ax[1].set_title(f'$\\sigma_T$ = {sigma_T_2} $m$, Case 2')\n",
    "ax[1].set_xlim(0, 0.1)\n",
    "ax[1].set_ylim(0, np.max(sigma_S_1))\n",
    "plt.show()"
   ]
  },
  {
   "cell_type": "markdown",
   "id": "9091cfce",
   "metadata": {},
   "source": [
    "<div style=\"background-color:#AABAB2; color: black; vertical-align: middle; padding:15px; margin: 10px; border-radius: 10px\">\n",
    "<p>\n",
    "<b>Task 1.2:</b>   \n",
    "Interpret the figures above.\n",
    "</p>\n",
    "</div>"
   ]
  },
  {
   "cell_type": "markdown",
   "id": "a7e4c13f-a2ca-4c2d-a3e2-92d4630715a0",
   "metadata": {
    "id": "a7e4c13f-a2ca-4c2d-a3e2-92d4630715a0"
   },
   "source": [
    "## Task 2: Simulation-based propagation\n",
    "\n",
    "We will use again the following values: $\\mu_R = 0.5 m$ and $\\mu_S = 0.015 m/m$; $\\sigma_R$ varies from 0 to 0.1 $m$, and $\\sigma_S=0.002 m/m$. Furthermore, it is assumed that $R$ and $S$ are independent normally distributed random variables. We will generate at least 10,000 simulated realizations of $R$ and $S$ using a random number generator, and then you need to use these to calculate the corresponding sample values of $V$. \n",
    "\n",
    "Complete the function <code>samples_plot</code> below to plot the empirical probability density function (PDF) of $S$ using your simulated samples, in other words, a histogram. Also plot the normal PDF in the same figure - using the sample mean and sample (or empirical) standard deviation of $S$ from your generated samples. \n",
    "\n",
    "We will also assess whether $S$ is normally distributed using the simulated samples for varying $\\sigma_R$ with a normal probability plot. \n",
    "\n",
    "### Theoretical Quantiles in `probplot`\n",
    "\n",
    "The method `probplot` is built into `scipy.stats` (Documentation [here](https://docs.scipy.org/doc/scipy/reference/generated/scipy.stats.probplot.html)) and _validates_ a probability model by comparing samples (i.e., data) to a theoretical distribution (in this case, Normal). The \"Theoretical quantile\" that is plotted on the x-axis of this plot and measures the distance from the median of a distribution, normalized by the standard deviation, such that quantile$=q\\cdot\\sigma)$. For example, $q=-1.5$ is $\\mu-1.5\\cdot\\sigma$. The vertical axis is the value of the random variable.\n",
    "\n",
    "Because we are comparing a theoretical distribution and a sample (data) on the same plot, one of the lines is the Normal PDF, which of course will have an exact match with the _theoretical quanties_. This is why the Normal PDF will plot as a straight line in `probplot`. Comparing the (vertical) distance between the samples and the theoretical distribution (the red line) allows us to _validate_ our model. In particular, it allows us to validate the model for different regions of the distribution. In your interpretation, for example, you should try and identify whether the model is a good fit for the center and/or tails of the distribution.\n",
    "\n",
    "Note that `probplot` needs to know what to use for samples (you will tell it this), and what type of theoretical distribution you are using (we already did this for you...`norm`)."
   ]
  },
  {
   "cell_type": "markdown",
   "id": "e11a76d9",
   "metadata": {},
   "source": [
    "<div style=\"background-color:#AABAB2; color: black; vertical-align: middle; padding:15px; margin: 10px; border-radius: 10px\">\n",
    "<p>\n",
    "<b>Task 2.1:</b>   \n",
    "    Complete the function below (instructions are in the docstring). You can check your work by moving on to Task 2.2.\n",
    "</p>\n",
    "</div>"
   ]
  },
  {
   "cell_type": "code",
   "execution_count": null,
   "id": "80005a5a-510b-4236-a2d6-184d9569eed4",
   "metadata": {
    "colab": {
     "base_uri": "https://localhost:8080/",
     "height": 475,
     "referenced_widgets": [
      "b560714d739d431d85b3ca1a9b378c8f",
      "56b7808a3e2241679b15d517565eaf85",
      "d867da2ab3d441599b8356ac8e493611",
      "481c67caa6d1405ea2e00cfe6dbfa32f",
      "392504e006074b76af62e617c4cde70e",
      "b0d26f90109f4e0eb6839f0ba43ba980",
      "ea4c3dc473df41a684cfe7fd1e7fb35d"
     ]
    },
    "id": "80005a5a-510b-4236-a2d6-184d9569eed4",
    "outputId": "80ae9e8d-e450-4e17-f092-fbf09fc885e6"
   },
   "outputs": [],
   "source": [
    "def samples_plot(N, mu_R, mu_T, sigma_R, sigma_T):\n",
    "    \"\"\"Generate samples and plots for S\n",
    "    \n",
    "    Compares the approximated Normal distribution of S to numerically\n",
    "    approximated distribution, found by sampling from the input\n",
    "    distributions. Comparison is made with two plots:\n",
    "      1. PDF of V~N(mu,sigma) (the approximation) and a histogram (sample)\n",
    "      2. Probability plot, compares quantiles of sample and CDF of S\n",
    "    \n",
    "    Only a plot is returned.\n",
    "    \n",
    "    MUDE students:\n",
    "      1. fill in partial derivatives of S, and moments (see: YOUR_CODE_HERE)\n",
    "      2. study the sampling process, and distributions; this is also\n",
    "           illustrated in the programming assignment this week.\n",
    "      3. fill in samples and PDF of S for figures (see: YOUR_CODE_HERE)\n",
    "    \"\"\"\n",
    "    constant = 20e9\n",
    "    \n",
    "    R_samples = np.random.normal(mu_R, sigma_R, N)\n",
    "    T_samples = np.random.normal(mu_T, sigma_T, N)\n",
    "    S_samples = YOUR_CODE_HERE\n",
    "    mu_S = YOUR_CODE_HERE\n",
    "    sigma_S = YOUR_CODE_HERE\n",
    "    \n",
    "    # Plotting histogram\n",
    "    xmin = np.min(S_samples)\n",
    "    xmax = np.max(S_samples)\n",
    "    x = np.linspace(xmin, xmax, 100)\n",
    "    fig, ax = plt.subplots(1, 2, figsize = (16, 6))\n",
    "    ax[0].hist(YOUR_CODE_HERE, bins = 40, density = True, \n",
    "               label = 'Empirical PDF of S')\n",
    "    \n",
    "    # Add normal pdf in same figure\n",
    "    ax[0].plot(x, norm.pdf(x, YOUR_CODE_HERE, YOUR_CODE_HERE), color = 'black',\n",
    "               lw = 2.5, label='Normal PDF')\n",
    "    ax[0].set_xlim(xmin, xmax)\n",
    "    ax[0].legend()\n",
    "    ax[0].set_xlabel('S [$N/m^2$]')\n",
    "    ax[0].set_ylabel('Density')\n",
    "    ax[0].set_title(f'Simulation with {N} simulated realizations'\n",
    "                    + '\\n' + f'mean = {YOUR_CODE_HERE:.3e}' \n",
    "                    f'N/m^2 and std = {YOUR_CODE_HERE:.3e} N/m^2')\n",
    "    \n",
    "    # Add probability plot in right-side panel\n",
    "    probplot(YOUR_CODE_HERE, dist = norm, fit = True, plot = ax[1])\n",
    "    ax[1].legend(['Generated samples', 'Normal fit'])\n",
    "    ax[1].get_lines()[1].set_linewidth(2.5)\n",
    "    plt.show()"
   ]
  },
  {
   "cell_type": "markdown",
   "id": "b16dd57c-2979-4944-8c56-ab9760db341c",
   "metadata": {},
   "source": [
    "The code below uses a widget to call your function to make the plots and add a slider to change the values of $\\sigma_R$ and visualize the change in the distributions."
   ]
  },
  {
   "cell_type": "markdown",
   "id": "948e8241-6b4f-4300-b9c3-e25edc03eac2",
   "metadata": {},
   "source": [
    "<div style=\"background-color:#AABAB2; color: black; vertical-align: middle; padding:15px; margin: 10px; border-radius: 10px\">\n",
    "<p>\n",
    "<b>Task 2.2:</b>   \n",
    "Play with the slider to change $\\sigma_R$. Discuss the following questions with your sub-group members and type a short summary in the Markdown cell below to use in the discussion with your entire group (Task 4).\n",
    "<ol>\n",
    "    <li>What effect does $\\sigma_R$ have on the output distribution?</li>\n",
    "    <li>Is the PDF defined by the approximated mean and variance (our \"model\") similar to the sampled distribution?</li>\n",
    "    <li>How well does the model match the sampled distribution?</li>\n",
    "    <li>How \"non-Normal\" is the sampled distribution (visual check)?</li>\n",
    "    <li>Does one part of the distribution fit better than the rest?</li>\n",
    "    <li>Is the model a good representation of the function of random variables?</li>\n",
    "    <li>The mean (expectation) is one measure of central tendency; for skewed distributions, does the model fit will for other measures (i.e., median and mode)?</li>\n",
    "</ol>\n",
    "</p>\n",
    "</div>"
   ]
  },
  {
   "cell_type": "code",
   "execution_count": null,
   "id": "9a403e17",
   "metadata": {
    "colab": {
     "base_uri": "https://localhost:8080/",
     "height": 475,
     "referenced_widgets": [
      "b560714d739d431d85b3ca1a9b378c8f",
      "56b7808a3e2241679b15d517565eaf85",
      "d867da2ab3d441599b8356ac8e493611",
      "481c67caa6d1405ea2e00cfe6dbfa32f",
      "392504e006074b76af62e617c4cde70e",
      "b0d26f90109f4e0eb6839f0ba43ba980",
      "ea4c3dc473df41a684cfe7fd1e7fb35d"
     ]
    },
    "id": "80005a5a-510b-4236-a2d6-184d9569eed4",
    "outputId": "80ae9e8d-e450-4e17-f092-fbf09fc885e6"
   },
   "outputs": [],
   "source": [
    "mu_R = 1.25\n",
    "mu_T = 0.03\n",
    "sigma_T = 0.005\n",
    "N = 50000\n",
    "\n",
    "@interact(sigma_R=(0, 0.2, 0.005))\n",
    "def samples_slideplot(sigma_R):\n",
    "    samples_plot(N, mu_R, mu_T, sigma_R, sigma_T);"
   ]
  },
  {
   "cell_type": "markdown",
   "id": "0744ea6f-69c6-4501-a964-142807709583",
   "metadata": {},
   "source": [
    "**Type your answers for Task 2.2 here.**"
   ]
  },
  {
   "cell_type": "markdown",
   "id": "a780ab9e",
   "metadata": {},
   "source": [
    "## 3. Compare the results"
   ]
  },
  {
   "cell_type": "markdown",
   "id": "a0eb4663-da0e-42e8-a060-09468e11caaf",
   "metadata": {
    "id": "a0eb4663-da0e-42e8-a060-09468e11caaf"
   },
   "source": [
    "<div style=\"background-color:#AABAB2; color: black; vertical-align: middle; padding:15px; margin: 10px; border-radius: 10px\">\n",
    "<p>\n",
    "<b>Task 3.1:</b>   \n",
    "Calculate the mean and standard deviation of $S$ with the function <code>S_taylor</code> and again Use $\\mu_R = 1.25 m$ and $\\mu_T = 0.03 m$, $\\sigma_S$ = 0.005 $m/m$. Compute for both $\\sigma_R = 0.05 m$ and $\\sigma_R = 0.15 m$. Discuss your answers in comparison with those of the previous question from the PDF (the values are printed at the top of the plot!). What may cause the differences in the outcomes?\n",
    "</p>\n",
    "</div>\n"
   ]
  },
  {
   "cell_type": "code",
   "execution_count": null,
   "id": "d0c048ed-ed12-435a-a09c-b9ceceb79a41",
   "metadata": {
    "colab": {
     "base_uri": "https://localhost:8080/"
    },
    "id": "d0c048ed-ed12-435a-a09c-b9ceceb79a41",
    "outputId": "069097a4-65c5-4037-ebe0-36a70f532449"
   },
   "outputs": [],
   "source": [
    "n = 0.013\n",
    "mu_R = 1.25\n",
    "mu_T = 0.03\n",
    "sigma_T = 0.005\n",
    "\n",
    "# case 1 for sigma_R\n",
    "sigma_R_1 = 0.05\n",
    "mu_S_a, sigma_S_a = S_taylor(mu_R, mu_T, sigma_R_1, sigma_T)\n",
    "print(f'For a sigma_R of {sigma_R_1} m the equations give a:\\n  mean of' \n",
    "      f' {mu_S_a:.3e} N/m^2 and a\\n  standard deviation of'\n",
    "      f' {sigma_S_a:.3e} N/m^2.\\n')\n",
    "\n",
    "# case 2 for sigma_R\n",
    "sigma_R_2 = 0.15\n",
    "mu_S_b, sigma_S_b = S_taylor(mu_R, mu_T, sigma_R_2, sigma_T)\n",
    "print(f'For a sigma_R of {sigma_R_2} m the equations give a:\\n  mean of' \n",
    "      f' {mu_S_b:.3e} N/m^2 and a\\n  standard deviation of'\n",
    "      f' {sigma_S_b:.3e} N/m^2.')"
   ]
  },
  {
   "cell_type": "markdown",
   "id": "4bff66fe-ce59-41d8-9ba4-4b59da2d8cf9",
   "metadata": {},
   "source": [
    "**Type your answers for Task 3.1 here.**"
   ]
  },
  {
   "cell_type": "markdown",
   "id": "ea7cc1c4",
   "metadata": {},
   "source": [
    "<div style=\"background-color:#AABAB2; color: black; vertical-align: middle; padding:15px; margin: 10px; border-radius: 10px\">\n",
    "<p>\n",
    "<b>Task 3.2:</b>   \n",
    "The relative error is defined as $\\frac{\\sigma_S}{\\mu_S}$, i.e., it is the standard deviation relative to the expected size of the stress. Why is it useful to look at this metric when designing sewer systems? Do you think the relative error in this case is acceptable for the values computed in Task 3.1?  You can add your answers to this question to the Markdown cell for Task 3.1.\n",
    "</p>\n",
    "</div>"
   ]
  },
  {
   "cell_type": "markdown",
   "id": "4cd1f315-7e9f-4dc5-a851-44ffc577f2ac",
   "metadata": {},
   "source": [
    "<div style=\"background-color:#AABAB2; color: black; vertical-align: middle; padding:15px; margin: 10px; border-radius: 10px\">\n",
    "<p>\n",
    "<b>Task 4:</b>   \n",
    "Get back together with your entire group and go over each notebook one at a time. Pay particular attention to what is different between the two cases (e.g., functions, random variable moments, model validation). For each notebook, the sub-group that completed it should explain the points listed below concepts. \n",
    "<ol>\n",
    "    <li>Introduce your function of random variables (velocity or capity).</li>\n",
    "    <li>Briefly describe your results from Tasks 1 and 2.</li>\n",
    "    <li>Focus most of your time on the interpretation of Task 3.</li>\n",
    "    <li>Model validation: are the mean and standard deviation of function output a good model of the Normal distribution?</li>\n",
    "</ol>\n",
    "</p>\n",
    "</div>"
   ]
  }
 ],
 "metadata": {
  "colab": {
   "collapsed_sections": [],
   "provenance": []
  },
  "kernelspec": {
   "display_name": "Python 3 (ipykernel)",
   "language": "python",
   "name": "python3"
  },
  "language_info": {
   "codemirror_mode": {
    "name": "ipython",
    "version": 3
   },
   "file_extension": ".py",
   "mimetype": "text/x-python",
   "name": "python",
   "nbconvert_exporter": "python",
   "pygments_lexer": "ipython3",
   "version": "3.11.4"
  },
  "widgets": {
   "application/vnd.jupyter.widget-state+json": {
    "state": {},
    "version_major": 2,
    "version_minor": 0
   }
  }
 },
 "nbformat": 4,
 "nbformat_minor": 5
}
