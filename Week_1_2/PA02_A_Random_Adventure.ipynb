{
 "cells": [
  {
   "cell_type": "markdown",
   "id": "d14e9d93",
   "metadata": {},
   "source": [
    "# Programming Assignment 02: A Random Adventure\n",
    "\n",
    "<h1 style=\"position: absolute; display: flex; flex-grow: 0; flex-shrink: 0; flex-direction: row-reverse; top: 60px;right: 30px; margin: 0; border: 0\">\n",
    "    <style>\n",
    "        .markdown {width:100%; position: relative}\n",
    "        article { position: relative }\n",
    "    </style>\n",
    "    <img src=\"https://gitlab.tudelft.nl/mude/public/-/raw/main/tu-logo/TU_P1_full-color.png\" style=\"width:100px; height: auto; margin: 0\"\\>\n",
    "    <img src=\"https://gitlab.tudelft.nl/mude/public/-/raw/main/mude-logo/MUDE_Logo-small.png\" style=\"width:100px; height: auto; margin: 0\"\\>\n",
    "</h1>\n",
    "<h2 style=\"height: 10px\">\n",
    "</h2>\n",
    "\n",
    "*[CEGM1000 MUDE](http://mude.citg.tudelft.nl/): Week 1.2. Due: Thursday, Sep 14, 2023.*"
   ]
  },
  {
   "cell_type": "markdown",
   "id": "2f465bec",
   "metadata": {},
   "source": [
    "## Overview\n",
    "\n",
    "One of the main topics of this programming assignment is `numpy`, an essential Python package for scientific computation that facilitates, among other things: vector, matrix and linear algebra operations...in a computationally efficient way! **Note:** this assignment assumes you have a working knowledge of Python **lists**. if you aren't sure what a list is, please take some time to review this concept, perhaps [here](https://tudelft-citg.github.io/learn-python/01/In_a_Nutshell/01.html#list).\n",
    "\n",
    "Topics in this assignment include:\n",
    "1. Basic matrix operations using numpy\n",
    "2. Applying linear algebra to solve a line\n",
    "3. Normal distributions\n",
    "4. Modelling data with normal distributions"
   ]
  },
  {
   "cell_type": "markdown",
   "id": "59cc6c0e",
   "metadata": {},
   "source": [
    "## Task 1: Messing with numpy\n"
   ]
  },
  {
   "cell_type": "markdown",
   "id": "329e6e3d",
   "metadata": {},
   "source": [
    "We'll start by importing everything we'll need in this script. You may recognize numpy and matplotlib from last week. We will also be looking at using scipy to model normal distributions."
   ]
  },
  {
   "cell_type": "code",
   "execution_count": null,
   "id": "3ddd8912",
   "metadata": {},
   "outputs": [],
   "source": [
    "import matplotlib.pyplot as plt\n",
    "import numpy as np\n",
    "from scipy.stats import norm, multivariate_normal"
   ]
  },
  {
   "cell_type": "markdown",
   "id": "c378822c",
   "metadata": {},
   "source": [
    "Numpy gives us lots of options for creating arrays, so we'll start by exploring some our main ones. It's worth nothing that a numpy array is an umbrella term for a vector **and** matrix. The easiest way to build a numpy array is to provide a list which represents the data of the array."
   ]
  },
  {
   "cell_type": "code",
   "execution_count": null,
   "id": "f4b81f9d",
   "metadata": {},
   "outputs": [],
   "source": [
    "# Creating an array using lists\n",
    "A = np.array([[1, 1], \n",
    "              [2, 2], \n",
    "              [3, 3], \n",
    "              [4, 4]])\n",
    "A.shape"
   ]
  },
  {
   "cell_type": "markdown",
   "id": "40fa9153",
   "metadata": {},
   "source": [
    "<div style=\"background-color:#AABAB2; color: black; vertical-align: middle; padding:15px; margin: 10px; border-radius: 10px\">\n",
    "<p>\n",
    "<b>Task 1.1:</b>   \n",
    "Creating a 2x2 matrix called `scale` which scales the x and y axes by 2.\n",
    "</p>\n",
    "</div>"
   ]
  },
  {
   "cell_type": "code",
   "execution_count": null,
   "id": "81500cfe",
   "metadata": {},
   "outputs": [],
   "source": [
    "YOUR_CODE_HERE"
   ]
  },
  {
   "cell_type": "markdown",
   "id": "66e96891",
   "metadata": {},
   "source": [
    "We'll try to scale the data in `A` by `scale` using the cell below, but there seems to be an issue (running the cell should give an error)."
   ]
  },
  {
   "cell_type": "code",
   "execution_count": null,
   "id": "75a66301",
   "metadata": {},
   "outputs": [],
   "source": [
    "scale @ A"
   ]
  },
  {
   "cell_type": "markdown",
   "id": "5e64e9a3",
   "metadata": {},
   "source": [
    "TThe error message indicates that we have a mismatch in the dimensions of the arrays. `A` has a dimension of (4, 2) and `scale` has a dimension of (2, 2). Do those dimensions make sense to you? Try using the `shape` method of the arrays to print out this information for yourself, then complete Task 1.2 to try and complete the matrix computation."
   ]
  },
  {
   "cell_type": "markdown",
   "id": "4e1ec7d8",
   "metadata": {},
   "source": [
    "<div style=\"background-color:#AABAB2; color: black; vertical-align: middle; padding:15px; margin: 10px; border-radius: 10px\">\n",
    "<p>\n",
    "<b>Task 1.2:</b>   \n",
    "    Let's treat <code>A</code> as a data array, where each column will be the x-y coordinates of a point. Transform the current <code>A</code> into this form. What you'll need to do is transpose it. Find out how to do so in as short a code as possible! Hint: look through the methods in the <a href=\"https://numpy.org/doc/stable/reference/generated/numpy.ndarray.transpose.html\" target=\"_blank\">numpy documentation</a>\n",
    "</p>\n",
    "</div>"
   ]
  },
  {
   "cell_type": "code",
   "execution_count": null,
   "id": "fbc27304",
   "metadata": {},
   "outputs": [],
   "source": [
    "YOUR_CODE_HERE"
   ]
  },
  {
   "cell_type": "markdown",
   "id": "7f9bba81",
   "metadata": {},
   "source": [
    "Once you've done **Task 1.2**, re-run the cell that failed earlier. You should see each point has had both the x and y components multiplied by 2.\n",
    "\n",
    "We can also visualize our data as shown below. Numpy as allows you to index arrays in very complicated ways. For example `A[0, :]` returns an array with all the data from the first row. You can do much more as we'll see later. The documentation for this is found [here](https://numpy.org/doc/stable/user/basics.indexing.html)."
   ]
  },
  {
   "cell_type": "code",
   "execution_count": null,
   "id": "19530f80",
   "metadata": {
    "scrolled": true
   },
   "outputs": [],
   "source": [
    "plt.plot(A[0, :], A[1, :], 'ko') # Same as plt.plot(*A)\n",
    "plt.show()"
   ]
  },
  {
   "cell_type": "markdown",
   "id": "ad5527d6",
   "metadata": {},
   "source": [
    "Let's look at some more ways to make arrays. The most basic ones, but very useful as `np.ones` and `np.zeros`, `np.linspace`."
   ]
  },
  {
   "cell_type": "code",
   "execution_count": null,
   "id": "c21ad750",
   "metadata": {},
   "outputs": [],
   "source": [
    "empty = np.zeros(shape=(2, 2))\n",
    "shear = np.ones(shape=(2, 2))\n",
    "\n",
    "line_A_x = np.linspace(0, 8, num=10)\n",
    "line_A = np.array([line_A_x, 5*line_A_x + 2])\n",
    "\n",
    "print(empty)\n",
    "print()\n",
    "print(shear)\n",
    "print()\n",
    "print(line_A)"
   ]
  },
  {
   "cell_type": "markdown",
   "id": "51ad0f20",
   "metadata": {},
   "source": [
    "<div style=\"background-color:#AABAB2; color: black; vertical-align: middle; padding:15px; margin: 10px; border-radius: 10px\">\n",
    "<p>\n",
    "<b>Task 1.3:</b>   \n",
    "Mess around with the shape keyword argument in the code above to get a feel for what it does. How big can the tuple be? Then, try to generate more data points in <code>line_A</code>, but keeping the same range. Finally, see if you can manipulate the range of <code>line_A</code> and get the last value in the printed array to be 62.\n",
    "</p>\n",
    "</div>"
   ]
  },
  {
   "cell_type": "markdown",
   "id": "2eb2be84",
   "metadata": {},
   "source": [
    "The `np.eye` function can be used to make a matrix with ones on a diagonal (by default the main diagonal)"
   ]
  },
  {
   "cell_type": "code",
   "execution_count": null,
   "id": "2e600b81",
   "metadata": {},
   "outputs": [],
   "source": [
    "# Generate scale through a different method\n",
    "identity = np.eye(N = A.shape[0])\n",
    "\n",
    "# Check it's really identity\n",
    "truth_array = identity @ A == A # This is actually an array with some boolean values\n",
    "assert (identity @ A == A).all()\n",
    "\n",
    "# Making scale again:\n",
    "scale_2 = 2 * identity\n",
    "assert (scale_2 == scale).all()"
   ]
  },
  {
   "cell_type": "markdown",
   "id": "a08b2270",
   "metadata": {},
   "source": [
    "<div style=\"background-color:#AABAB2; color: black; vertical-align: middle; padding:15px; margin: 10px; border-radius: 10px\">\n",
    "<p>\n",
    "<b>Task 1.4:</b>   \n",
    "Can you understand what the code cell above is doing? You should be able to read and comprehend, but at the moment are not expected to create this exact code yet yourself in MUDE.\n",
    "</p>\n",
    "</div>"
   ]
  },
  {
   "cell_type": "markdown",
   "id": "87d14d63",
   "metadata": {},
   "source": [
    "<div style=\"background-color:#AABAB2; color: black; vertical-align: middle; padding:15px; margin: 10px; border-radius: 10px\">\n",
    "<p>\n",
    "<b>Task 1.5:</b>   \n",
    "As a final numpy recap exercise, define a matrix which reflects along the $x=y$ axis and apply it to <code>line_A</code>. Plot it to check that it worked. Hint: first think of the reflection matrix, then find a way to implement it in code.\n",
    "</p>\n",
    "</div>"
   ]
  },
  {
   "cell_type": "code",
   "execution_count": null,
   "id": "ed248194",
   "metadata": {},
   "outputs": [],
   "source": [
    "reflect = YOUR_CODE_HERE\n",
    "result =  YOUR_CODE_HERE: Use the @ symbol!!!\n",
    "\n",
    "\n",
    "plt.plot(*result, \"or\")\n",
    "plt.plot(*line_A, \"ob\")\n",
    "plt.show()"
   ]
  },
  {
   "cell_type": "markdown",
   "id": "af69db9b",
   "metadata": {},
   "source": [
    "## Task 2: Applying multiplication to solve lines"
   ]
  },
  {
   "cell_type": "markdown",
   "id": "1e707709",
   "metadata": {},
   "source": [
    "Below you've been handed some code that generates the data for a line (with some random error), and a function which calculates the fit of the line using the `lstsq` function you encountered last week. Your task will be to write another function `fit_a_line_to_data_2` that has the same inputs as `fit_a_line_to_data`, but uses `np.linalg.solve` instead of `np.linalg.lstsq`. You'll find the following equation useful:\n",
    "$$\n",
    "A^\\intercal A x = A^\\intercal b\n",
    "$$"
   ]
  },
  {
   "cell_type": "markdown",
   "id": "aab0e779",
   "metadata": {},
   "source": [
    "<div style=\"background-color:#AABAB2; color: black; vertical-align: middle; padding:15px; margin: 10px; border-radius: 10px\">\n",
    "<p>\n",
    "<b>Task 2.1:</b>   \n",
    "Research the difference between <code>np.linalg.lstsq</code> and <code>np.linalg.solve</code>. Consider when you can interchange them what their main differences are, then complete the function below using <code>np.linalg.solve</code>. The plot commands will help you confirm that your answer is correct: you'll see a red line show up on top of the black line.  \n",
    "</p>\n",
    "</div>"
   ]
  },
  {
   "cell_type": "code",
   "execution_count": null,
   "id": "a8dc6309",
   "metadata": {},
   "outputs": [],
   "source": [
    "data_x = np.linspace(0, 100, num=100)\n",
    "data_y = data_x * 5 + 2 + np.random.random(size = (100,))\n",
    "\n",
    "def fit_a_line_to_data(data_x, data_y):\n",
    "    A = np.array([data_x, np.ones(len(data_x))]).T\n",
    "    [slope, intercept], _, _, _ = np.linalg.lstsq(A, data_y, rcond=None)\n",
    "    return slope, intercept\n",
    "\n",
    "def fit_a_line_to_data_2(data_x, data_y):\n",
    "    ## Complete the function:\n",
    "    YOUR_CODE_HERE\n",
    "    return slope, intercept\n",
    "\n",
    "plt.plot(data_x, data_y, \"ok\")\n",
    "\n",
    "slope1, intercept1 = fit_a_line_to_data(data_x, data_y)\n",
    "slope2, intercept2 = fit_a_line_to_data_2(data_x, data_y)\n",
    "\n",
    "plt.plot(data_x, slope1*data_x + intercept1, \"b\")\n",
    "plt.plot(data_x, slope2*data_x + intercept2, \"r\")\n",
    "plt.show()"
   ]
  },
  {
   "cell_type": "markdown",
   "id": "5fc02d7d",
   "metadata": {},
   "source": [
    "## Task 3: normal distribution basics"
   ]
  },
  {
   "cell_type": "markdown",
   "id": "5b027134",
   "metadata": {},
   "source": [
    "As we discussed in lecture, it is important to have a variety of methods for quantifying uncertainty; one important type of uncertainty is aleatory: due to randomness. Numpy provides a simple way to generate random arrays (from a variety of distributions). For example, `np.random.random` us useful for making random data between 0 and 1 (a continuous Uniform distribution). Note how the code below creates a matrix filled with values, and they are evenly spread over the plot. This represents two random variables each with the standard uniform distribution."
   ]
  },
  {
   "cell_type": "code",
   "execution_count": null,
   "id": "edebbab4",
   "metadata": {},
   "outputs": [],
   "source": [
    "N = 1000\n",
    "A = np.random.random(size = (2, N))\n",
    "plt.plot(*A, \"ok\")\n",
    "plt.show()"
   ]
  },
  {
   "cell_type": "markdown",
   "id": "b0c7cfe0",
   "metadata": {},
   "source": [
    "We will focus initially in MUDE on the Normal (or Gaussian) distribution, which is also easy to use with numpy, for example: `np.random.normal(loc=?, scale=?, size=(?, ?))`. In this case the `loc` abd `scale` arguments are the location and scale parameters, which are equivalent to the mean and standard deviation for this distribution (we will learn more about this in week 7)."
   ]
  },
  {
   "cell_type": "markdown",
   "id": "ae6f4d63",
   "metadata": {},
   "source": [
    "<div style=\"background-color:#AABAB2; color: black; vertical-align: middle; padding:15px; margin: 10px; border-radius: 10px\">\n",
    "<p>\n",
    "<b>Task 3.1:</b>   \n",
    "    Using the examples above as a guide, create and plot a random sample of two normal distributions each with mean 10 and standard deviation 5.\n",
    "</p>\n",
    "</div>"
   ]
  },
  {
   "cell_type": "code",
   "execution_count": null,
   "id": "3ac75364",
   "metadata": {},
   "outputs": [],
   "source": [
    "A = np.random.normal(YOUR_ANSWER_HERE)\n",
    "plt.show()"
   ]
  },
  {
   "cell_type": "markdown",
   "id": "24f92d77",
   "metadata": {},
   "source": [
    "The `norm` class in `scipy.stats` can also be used to model a normal distribution. It is more useful than the numpy methods because you can easily create an instance which has custom `loc` and `scale` parameters, and then call important methods like `X.cdf` and `X.pdf`. "
   ]
  },
  {
   "cell_type": "code",
   "execution_count": null,
   "id": "87046205",
   "metadata": {},
   "outputs": [],
   "source": [
    "X = norm(loc = 0, scale = 1)\n",
    "print(X.stats())"
   ]
  },
  {
   "cell_type": "markdown",
   "id": "58e14cd4",
   "metadata": {},
   "source": [
    "<div style=\"background-color:#AABAB2; color: black; vertical-align: middle; padding:15px; margin: 10px; border-radius: 10px\">\n",
    "<p>\n",
    "<b>Task 3.2:</b>   \n",
    "    Use the <code>cdf</code> method to find $P[X < 0]$.\n",
    "</p>\n",
    "</div>"
   ]
  },
  {
   "cell_type": "code",
   "execution_count": null,
   "id": "565bd8ea",
   "metadata": {},
   "outputs": [],
   "source": [
    "YOUR_CODE_HERE"
   ]
  },
  {
   "cell_type": "markdown",
   "id": "339c713f",
   "metadata": {},
   "source": [
    "<div style=\"background-color:#AABAB2; color: black; vertical-align: middle; padding:15px; margin: 10px; border-radius: 10px\">\n",
    "<p>\n",
    "<b>Task 3.3:</b>   \n",
    "Find $P[X > 1]$.\n",
    "</p>\n",
    "</div>"
   ]
  },
  {
   "cell_type": "code",
   "execution_count": null,
   "id": "3442b197",
   "metadata": {},
   "outputs": [],
   "source": [
    "YOUR_CODE_HERE"
   ]
  },
  {
   "cell_type": "markdown",
   "id": "1ae7cee6",
   "metadata": {},
   "source": [
    "<div style=\"background-color:#AABAB2; color: black; vertical-align: middle; padding:15px; margin: 10px; border-radius: 10px\">\n",
    "<p>\n",
    "<b>Task 3.4:</b>   \n",
    "Finally, use <code>linspace</code> and the <code>pdf</code> method to plot the distribution <code>X</code>.\n",
    "</p>\n",
    "</div>"
   ]
  },
  {
   "cell_type": "code",
   "execution_count": null,
   "id": "337c578f",
   "metadata": {},
   "outputs": [],
   "source": [
    "x = YOUR_CODE_HERE \n",
    "plt.plot(YOUR_CODE_HERE)\n",
    "plt.show()"
   ]
  },
  {
   "cell_type": "markdown",
   "id": "1300fd6a",
   "metadata": {},
   "source": [
    "## Task 4: Application 1---Modelling with normal distributions\n",
    "\n",
    "In this Task we will combine several MUDE topics: modelling concepts, uncertainty, numpy arrays, a function of random variables and propagation of uncertainty. It may seem like a lot, but in the end you are only asked to make a few small changes to the code.\n",
    "\n",
    "One of the strategies to keep our code organized is to use **Golden Rule 4: write simple functions then use them.** You can refer back to the explanation [here](https://mude.citg.tudelft.nl/book/programming/golden_rules.html#rule-4-write-simple-functions-then-use-them). We will put this into practivce by thinking about which functions we want (we do this for you), writing the function (you fill it in) then using the functions.\n",
    "\n",
    "In this Task, it is important to recognize that rather than importing data we are *simulating* our own data using random samples from the normal distributions for length and width. Why? One reason is perhaps we already know what the distribution of values is, and we don't have enough measurements.\n",
    "\n",
    "Assume that the length and width each have a Normal distribution as follows:\n",
    "$$\n",
    "height \\sim \\mathcal{N}(5000, 25) \\\\\n",
    "width \\sim \\mathcal{N}(2000, 100)\n",
    "$$\n",
    "\n",
    "The exact steps for the Task are:\n",
    "1. Create a random sample for two random variables: length and width of an object\n",
    "2. Compute the output of the function of random variables: area\n",
    "3. Plot the histogram of area\n",
    "4. Compute the mean and standard deviation of area\n",
    "5. Compute the PDF of area and add it to the histogram\n",
    "\n",
    "To facilitate this, we will start by writing **four functions** to automate the process. You will see the advantage of writing functions in the beginning of your code, because it makes the code much easier to write, run and interpret later! You may also want to refer to Chapters 1 and 3 of the [online Python course](https://tudelft-citg.github.io/learn-python/intro.html) to refresh your memory of functions."
   ]
  },
  {
   "cell_type": "markdown",
   "id": "63175d69",
   "metadata": {},
   "source": [
    "<div style=\"background-color:#AABAB2; color: black; vertical-align: middle; padding:15px; margin: 10px; border-radius: 10px\">\n",
    "<p>\n",
    "<b>Task 4.1:</b>   \n",
    "    Complete the functions outlined in the code cells below. The function name (Golden Rule 1!) and docstring should indicate what is required for each. You can also look at the code for Task 4.2 to see exactly how each function should be used.\n",
    "</p>\n",
    "</div>"
   ]
  },
  {
   "cell_type": "code",
   "execution_count": null,
   "id": "61eed80b",
   "metadata": {},
   "outputs": [],
   "source": [
    "def create_sample(N):\n",
    "    \"Create N samples each of height and width.\"\n",
    "    height = np.array(norm.rvs(YOUR_CODE_HERE)) \n",
    "    width = np.array(norm.rvs(YOUR_CODE_HERE))\n",
    "    return height, width\n",
    "\n",
    "def compute_area(height, width):\n",
    "    \"Compute the area of the rectangle.\"\n",
    "    return YOUR_CODE_HERE\n",
    "\n",
    "def area_mean_std(area_data):\n",
    "    \"Find the mean and std dev of the area.\"\n",
    "    YOUR CODE HERE\n",
    "    return area_mean, area_std\n",
    "\n",
    "def plot_data_and_pdf(data, mean, std):\n",
    "    \"Compare the histogram of data to a normal pdf defined by mean and std.\"\n",
    "    histogram_data = plt.hist(data, bins = 10,\n",
    "                              density=True, stacked=True,  edgecolor='black', linewidth=1.2)\n",
    "    x = np.linspace(min(histogram_data[1]), max(histogram_data[1]), num=1000)\n",
    "    area_norm = norm(loc=mean, scale=std)\n",
    "    plt.plot(x, YOUR_CODE_HERE, color='red', linewidth=2.0)\n",
    "    plt.title(\"\")\n",
    "    plt.xlabel(\"\")\n",
    "    plt.ylabel(\"\")\n",
    "    plt.show()"
   ]
  },
  {
   "cell_type": "markdown",
   "id": "0d96c24b",
   "metadata": {},
   "source": [
    "<div style=\"background-color:#AABAB2; color: black; vertical-align: middle; padding:15px; margin: 10px; border-radius: 10px\">\n",
    "<p>\n",
    "<b>Task 4.2:</b>   \n",
    "    Run the cell below to see if your functions worked. The correct output will be a plot with histogram in blue and the PDF as a red line.\n",
    "</p>\n",
    "</div>"
   ]
  },
  {
   "cell_type": "code",
   "execution_count": null,
   "id": "2d60bb8b",
   "metadata": {},
   "outputs": [],
   "source": [
    "N = 500\n",
    "height, width = create_sample(N)\n",
    "area = compute_area(height, width)\n",
    "area_mean, area_std = area_mean_std(area)\n",
    "plot_data_and_pdf(area, area_mean, area_std)"
   ]
  },
  {
   "cell_type": "markdown",
   "id": "2e4617c0",
   "metadata": {},
   "source": [
    "**End of notebook.**\n",
    "<h2 style=\"height: 60px\">\n",
    "</h2>\n",
    "<h3 style=\"position: absolute; display: flex; flex-grow: 0; flex-shrink: 0; flex-direction: row-reverse; bottom: 60px; right: 50px; margin: 0; border: 0\">\n",
    "    <style>\n",
    "        .markdown {width:100%; position: relative}\n",
    "        article { position: relative }\n",
    "    </style>\n",
    "    <a rel=\"license\" href=\"http://creativecommons.org/licenses/by-nc-sa/4.0/\">\n",
    "      <img alt=\"Creative Commons License\" style=\"border-width:; width:88px; height:auto; padding-top:10px\" src=\"https://i.creativecommons.org/l/by-nc-sa/4.0/88x31.png\" />\n",
    "    </a>\n",
    "    <a rel=\"TU Delft\" href=\"https://www.tudelft.nl/en/ceg\">\n",
    "      <img alt=\"TU Delft\" style=\"border-width:0; width:100px; height:auto; padding-bottom:0px\" src=\"https://gitlab.tudelft.nl/mude/public/-/raw/main/tu-logo/TU_P1_full-color.png\"/>\n",
    "    </a>\n",
    "    <a rel=\"MUDE\" href=\"http://mude.citg.tudelft.nl/\">\n",
    "      <img alt=\"MUDE\" style=\"border-width:0; width:100px; height:auto; padding-bottom:0px\" src=\"https://gitlab.tudelft.nl/mude/public/-/raw/main/mude-logo/MUDE_Logo-small.png\"/>\n",
    "    </a>\n",
    "    \n",
    "</h3>\n",
    "<span style=\"font-size: 75%\">\n",
    "&copy; Copyright 2023 <a rel=\"MUDE Team\" href=\"https://studiegids.tudelft.nl/a101_displayCourse.do?course_id=65595\">MUDE Teaching Team</a> TU Delft. This work is licensed under a <a rel=\"license\" href=\"http://creativecommons.org/licenses/by-nc-sa/4.0/\">Creative Commons Attribution-NonCommercial-ShareAlike 4.0 International License</a>."
   ]
  }
 ],
 "metadata": {
  "kernelspec": {
   "display_name": "autograder",
   "language": "python",
   "name": "autograder"
  },
  "language_info": {
   "codemirror_mode": {
    "name": "ipython",
    "version": 3
   },
   "file_extension": ".py",
   "mimetype": "text/x-python",
   "name": "python",
   "nbconvert_exporter": "python",
   "pygments_lexer": "ipython3",
   "version": "3.11.4"
  }
 },
 "nbformat": 4,
 "nbformat_minor": 5
}
