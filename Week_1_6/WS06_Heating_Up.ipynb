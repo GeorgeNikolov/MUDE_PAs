{
 "cells": [
  {
   "cell_type": "markdown",
   "id": "b5955612-0118-4fd4-8694-5fe52ce1be5a",
   "metadata": {
    "id": "9adbf457-797f-45b7-8f8b-0e46e0e2f5ff"
   },
   "source": [
    "# Workshop 6: Heating Up! Finite Difference Method\n",
    "<h1 style=\"position: absolute; display: flex; flex-grow: 0; flex-shrink: 0; flex-direction: row-reverse; top: 60px;right: 30px; margin: 0; border: 0\">\n",
    "    <style>\n",
    "        .markdown {width:100%; position: relative}\n",
    "        article { position: relative }\n",
    "    </style>\n",
    "    <img src=\"https://gitlab.tudelft.nl/mude/public/-/raw/main/tu-logo/TU_P1_full-color.png\" style=\"width:100px\"\\>\n",
    "    <img src=\"https://gitlab.tudelft.nl/mude/public/-/raw/main/mude-logo/MUDE_Logo-small.png\" style=\"width:100px\"\\>\n",
    "\n",
    "</h1>\n",
    "<h2 style=\"height: 10px\">\n",
    "</h2>\n",
    "\n",
    "*[CEGM1000 MUDE](http://mude.citg.tudelft.nl/): Week 1.6. For: 11 October, 2023.*"
   ]
  },
  {
   "cell_type": "markdown",
   "id": "e143a00c-1b09-435f-b581-80190df01a1c",
   "metadata": {},
   "source": [
    "## Overview\n",
    "This assignment is aimed to developing an understanding the practical applications of the finite difference method. Go through the text that follows and perform all steps outlined therein.\n",
    "\n",
    "The 1-D diffusion equation reads $$\\frac{\\partial u}{\\partial t}=v\\frac{\\partial^2 u}{\\partial x^2}$$\n",
    " \n",
    "where $u$ is a continuous function in space and time, $v$ is a constant and often referred to as the **diffusivity**, giving rise to the name 'diffusion equation'.\n",
    "\n",
    "In thermodynamics, the diffusion equation is referred to as the heat equation, in which, $u$ is the temperature and $v$ is the thermal diffusivity. The same equation is also found in other fields of engineering such as, the flow of groundwater through the soil, the intrusion of chemicals in a porous medium etc. Given its omnipresence in engineering, it is imperative to gain an understanding of how one can solve the diffusion equation numerically, regardless of what names we attribute to $u$ and $v$ and the underlying physical phenomenon. This is objective of today's tutorial session. \n",
    "\n",
    "For the time being, let's stick with thermodynamics. The rod in the sketch below, is initially at a uniform temperature of $7°C$. It is then heated asymmetrically (different temperatures) at both ends. The difference in temperatures sets up a thermal gradient, leading to the flow of heat (remember heat cannot flow without a difference in temperature). \n",
    "\n",
    "![assets/thermal_gradient.png](assets/thermal_gradient.png)\n"
   ]
  },
  {
   "cell_type": "markdown",
   "id": "22f5e93e-3a5c-4456-85b3-35d57ec278e1",
   "metadata": {},
   "source": [
    "Now, let's use the finite difference method to obtain an accurate approximation of the temperature distribution, instead of the exact solution by:\n",
    "\n",
    "1. Discretizing the equation in space and time to use the finite difference method.\n",
    "2. Using the Taylor series to obtain an approximation for the derivatives.\n",
    "3. Programming the finite difference method for the given initial and boundary conditions i.e. reformulating the differential equation as an algebraic one and solving the latter for an accurate approximation.\n",
    "\n",
    "In each of the four Tasks below, we will use Python to solve the problem (the discretized form of the equation). In each case, you will see that we repeat the following steps:\n",
    "1. Define initial conditions and boundary conditions as variables.\n",
    "2. Initialize objects (i.e., Numpy arrays that represent vectors and matrices) to facilitate our computations.\n",
    "3. Execute the solution (typically using a function that we define in the notebook for you).\n",
    "\n",
    "_Are you wondering why you are doing this and why it might be relevant for your track? This is more or less how all the fancy software you will ever use works, with one exception: they make pretty buttons for you to press so that you don't have to read the source code and modify it directly._"
   ]
  },
  {
   "cell_type": "code",
   "execution_count": 1,
   "id": "ef5ab0dd",
   "metadata": {},
   "outputs": [],
   "source": [
    "import numpy as np\n",
    "import matplotlib.pyplot as plt\n",
    "%matplotlib inline\n",
    "from ipywidgets import interact, fixed, widgets"
   ]
  },
  {
   "cell_type": "markdown",
   "id": "396104f0-cb18-4280-8fea-e7dd278218a9",
   "metadata": {},
   "source": [
    "## Task 1\n",
    "\n",
    "First we will derive the equations for our constitutive law (heat diffusion) and solve them in 1D using the finite difference method."
   ]
  },
  {
   "cell_type": "markdown",
   "id": "4182449c-7641-414a-b7d9-7925a5f88238",
   "metadata": {},
   "source": [
    "<div style=\"background-color:#AABAB2; color: black; vertical-align: middle; padding:15px; margin: 10px; border-radius: 10px\">\n",
    "<p>\n",
    "<b>Task 1.1:</b>\n",
    "\n",
    "Write down (on paper) the Taylor series expansion for $u_i$ around a point $i$ with a grid-size $\\Delta x$ to evaluate $u_{i+1}$. Do the same to evaluate $u_{i-1}$ (up to 4 terms for both). Now, add the two Taylor expansions; do you get an equation for the second order approximation of the second derivative of $u$ with respect to $x$. For your convenience:\n",
    "\n",
    "$$ \n",
    "\\frac{\\partial ^2 u}{\\partial x^2}\\bigg|_i = \\frac{u_{i+1}-2u_i+u_{i-1}}{\\Delta x^2}+O(\\Delta x^2)\n",
    "$$\n",
    "</p>\n",
    "</div>"
   ]
  },
  {
   "cell_type": "markdown",
   "id": "88927606-1e26-4aef-a0f8-6442234fa9f8",
   "metadata": {},
   "source": [
    "*This assignment is not turned in for feedback, but you can insert your answers here as LaTeX equations or an image if you want to save your work for reviewing later.*"
   ]
  },
  {
   "cell_type": "markdown",
   "id": "8bbf080f-d393-4ffd-8dca-cfc299da013a",
   "metadata": {},
   "source": [
    "<div style=\"background-color:#AABAB2; color: black; vertical-align: middle; padding:15px; margin: 10px; border-radius: 10px\">\n",
    "<p>\n",
    "<b>Task 1.2:</b>\n",
    "    \n",
    "The left-hand side is contains a time-derivative. Let's use a counter $n$ to distinguish it from $i$. Now, write down the equation for estimating $u^{n+1}_{i}$ or the value of at location at the instance of time $t_{n+1}$ using a Taylor series expansion <b>in time</b> around $u^{n}_{i}$ for a small time-step $\\Delta t$.  Round off the Taylor series to use the <b>Forward Euler</b> scheme.\n",
    " \n",
    "</p>\n",
    "</div>"
   ]
  },
  {
   "cell_type": "markdown",
   "id": "139b17f9-eece-4ef3-9f1a-46dfe9adcd0a",
   "metadata": {},
   "source": [
    "*This assignment is not turned in for feedback, but you can insert your answers here as LaTeX equations or an image if you want to save your work for reviewing later.*"
   ]
  },
  {
   "cell_type": "markdown",
   "id": "2ad1f7c0-14d4-4363-8ed9-681e1e271741",
   "metadata": {},
   "source": [
    "<div style=\"background-color:#AABAB2; color: black; vertical-align: middle; padding:15px; margin: 10px; border-radius: 10px\">\n",
    "<p>\n",
    "<b>Task 1.3:</b>   \n",
    "Let's start coding the equation you obtained in Step 2 into a python code. Just to be sure you are on the right track, you should have:\n",
    "\n",
    "$$u^{n+1}_{i}=u^n_i + v\\Delta t \\frac{u_{i+1}-2u_i+u_{i-1}}{\\Delta x^2} $$\n",
    "\n",
    "Define the following parameters in your code (use the picture above as a reference). We will be defining the boundary and initial conditions in this step. **Fill in the missing parts of the code.**\n",
    "\n",
    "</p>\n",
    "</div>"
   ]
  },
  {
   "cell_type": "code",
   "execution_count": 2,
   "id": "efd223ed-a7db-4680-8c81-649ea88b5275",
   "metadata": {},
   "outputs": [],
   "source": [
    "T_left = 38          # Temperature at the left\n",
    "T_right = 25         # Temperature at the right\n",
    "T_initial = 7       # Initial temperature of the bar\n",
    "length = 300          # Length of the bar in mm\n",
    "n_point = 15         # Number of points\n",
    "nu = 4              # Constant value nu mm^2/s (representative value for steel)\n",
    "dt = 50              # Time increment in seconds\n",
    "nt = 200              # Number of time increments\n",
    "\n",
    "dx = length/(n_point-1)\n",
    "x = np.linspace(0,length,n_point)"
   ]
  },
  {
   "cell_type": "markdown",
   "id": "a139660e-4185-41a4-99db-c54c68c54b76",
   "metadata": {},
   "source": [
    "Let's initialise the system with the initial and boundary conditions. Say $t_0 =0$."
   ]
  },
  {
   "cell_type": "markdown",
   "id": "a5892101-78b1-4984-b061-7972d633458c",
   "metadata": {},
   "source": [
    "<div style=\"background-color:#AABAB2; color: black; vertical-align: middle; padding:15px; margin: 10px; border-radius: 10px\">\n",
    "<p>\n",
    "Task 1.3 (continued): there are three lines you need to complete below.\n",
    "\n",
    "\n",
    "</p>\n",
    "</div>"
   ]
  },
  {
   "cell_type": "code",
   "execution_count": 3,
   "id": "673b1ff5-06e2-44c8-b6a4-031a00b0f190",
   "metadata": {},
   "outputs": [],
   "source": [
    "# Initialise empty solution array \"us\"\n",
    "us = np.zeros((nt+1,n_point))\n",
    "\n",
    "# Initialise initial conditions into the solution array t=0\n",
    "us[0] = T_initial\n",
    "\n",
    "# Initialise boundary conditions into the solution array at t=0\n",
    "# Remember that the first term is the left boundary and the last term is the right boundary.\n",
    "us[0][0] = T_left\n",
    "us[0][-1] = T_right"
   ]
  },
  {
   "cell_type": "markdown",
   "id": "726ef6e5-db85-4d29-936a-681782073a4e",
   "metadata": {},
   "source": [
    "The finite difference operation will involve using an array that contains $u$ at every point in the array `x` (code), `dt`, `dx` and `nu` to return an array that contains $u$ at every point in the array `x` at the **next time step**. \n",
    "\n",
    "But what about the boundary points? These will remain the same as the boundaries are held at a constant temperature. Hence, for each array pertaining to $u$, the first and the last values should correspond to the boundary temperatures, before the array is used an a input for the finite difference operation. The rest of the terms can be consded as per the equation in Step 3. In short, while advancing in time, from `0` to `nt\\*dt`, the first and lasts elements of the array $u$ will not be advanced in time but in fact, be assigned the boundary values of temperature. \n",
    "\n",
    "So if the $u$ array corresponding to the first time-step has the correct boundary values, the finite difference operation need only copy these values to their locations in every successive array in time. This can be done as an if and else statement."
   ]
  },
  {
   "cell_type": "code",
   "execution_count": 4,
   "id": "ffd2090f-c5b0-43ee-8516-ae98eb6cff1d",
   "metadata": {},
   "outputs": [],
   "source": [
    "def fdm_step(u, dx, dt, nu):\n",
    "\n",
    "    u_new = np.zeros(len(u))\n",
    "\n",
    "    for i in range(len(u)):\n",
    "\n",
    "        if i == 0 or i == len(u)-1: # Exclue fixed boundary point at ends\n",
    "\n",
    "            u_new[i] = u[i]\n",
    "        else:\n",
    "            u_new[i] = u[i] + nu*dt*(u[i+1] - 2*u[i] + u[i-1])/(dx**2)\n",
    "            \n",
    "    return u_new"
   ]
  },
  {
   "cell_type": "markdown",
   "id": "a0033860-a8fb-41d0-9c39-4d9b1676fdcc",
   "metadata": {},
   "source": [
    "<div style=\"background-color:#AABAB2; color: black; vertical-align: middle; padding:15px; margin: 10px; border-radius: 10px\">\n",
    "<p>\n",
    "<b>Task 1.4:</b>   \n",
    "\n",
    "You now have the finite difference operation and initial arrays. Now write a single line of code to loop over all time steps to obtain the solution at `dt*nt`.\n",
    "</p>\n",
    "</div>"
   ]
  },
  {
   "cell_type": "code",
   "execution_count": 5,
   "id": "fbdbd830-46f7-48eb-926e-ab6cd093f90a",
   "metadata": {},
   "outputs": [
    {
     "data": {
      "application/vnd.jupyter.widget-view+json": {
       "model_id": "335a294400d5423594c834b6d5948d82",
       "version_major": 2,
       "version_minor": 0
      },
      "text/plain": [
       "interactive(children=(Play(value=0, description='step', max=199), Output()), _dom_classes=('widget-interact',)…"
      ]
     },
     "metadata": {},
     "output_type": "display_data"
    },
    {
     "data": {
      "application/vnd.jupyter.widget-view+json": {
       "model_id": "7ffdcbf0e71c40b9a5f36f943f213e87",
       "version_major": 2,
       "version_minor": 0
      },
      "text/plain": [
       "HBox(children=(IntSlider(value=0, max=199),))"
      ]
     },
     "execution_count": 5,
     "metadata": {},
     "output_type": "execute_result"
    }
   ],
   "source": [
    "for i in range(nt):\n",
    "\n",
    "    us[i+1] = fdm_step(us[i],dx, dt, nu)\n",
    "\n",
    "def FDM_plot(x, u, step):\n",
    "    fig = plt.figure()\n",
    "    ax = plt.axes(xlim=(0, 300), ylim=(0, 40))\n",
    "    ax.plot(x, u[step])\n",
    "    plt.xlabel('x')\n",
    "    plt.ylabel('u')\n",
    "    plt.show()\n",
    "\n",
    "play = widgets.Play(min=0, max=nt-1, step=1, value=0, interval=100, disabled=False)\n",
    "slider = widgets.IntSlider(min=0, max=nt-1, step=1, value=0)\n",
    "widgets.jslink((play, 'value'), (slider, 'value'))\n",
    "\n",
    "interact(FDM_plot,\n",
    "    x=fixed(x),\n",
    "    u=fixed(us),\n",
    "    step = (play))\n",
    "\n",
    "widgets.HBox([slider])   "
   ]
  },
  {
   "cell_type": "markdown",
   "id": "17e7be50-79a7-4699-b0d8-908a58ce36d7",
   "metadata": {},
   "source": [
    "<div style=\"background-color:#AABAB2; color: black; vertical-align: middle; padding:15px; margin: 10px; border-radius: 10px\">\n",
    "<p>\n",
    "<b>Task 1.5:</b>   \n",
    "\n",
    "Explain what the animation above shows? Does the temperature reach a steady-state? What does that mean for heat flow?\n",
    "\n",
    "Record your answer in the following markdown cell. \n",
    "</p>\n",
    "</div>"
   ]
  },
  {
   "cell_type": "markdown",
   "id": "45e8f74d-9182-4f53-98a6-9e538a82e181",
   "metadata": {},
   "source": [
    "**Write your answer here.**"
   ]
  },
  {
   "cell_type": "markdown",
   "id": "e376cd92-6d55-4d8f-8504-5d0972ed41ca",
   "metadata": {},
   "source": [
    "## Task 2: Altering the right boundary\n",
    "\n",
    "Say the right-end of the bar is heated with the cyclic function:\n",
    "$$ u(L,t)=25+10\\sin\\left(\\frac{2\\pi t}{T}\\right)$$\n",
    "\n",
    "where $T$ is the time period of the cyclic heating. Here are the additional values for this problem."
   ]
  },
  {
   "cell_type": "markdown",
   "id": "032cef25-50fd-4b82-8ec7-8f5a2e8eaac1",
   "metadata": {},
   "source": [
    "<div style=\"background-color:#AABAB2; color: black; vertical-align: middle; padding:15px; margin: 10px; border-radius: 10px\">\n",
    "<p>\n",
    "<b>Task 2.1:</b>   \n",
    "\n",
    "Based on the initialization of the problem as described in Task 1.4, can you set up the initial and boundary conditions for this situation? (you only need to change one condition).\n",
    "</p>\n",
    "</div>"
   ]
  },
  {
   "cell_type": "code",
   "execution_count": 6,
   "id": "7a2db483-7d49-45ad-beeb-b5ad78024cfe",
   "metadata": {},
   "outputs": [],
   "source": [
    "t = 0\n",
    "T = 6000\n",
    "\n",
    "nt = 600\n",
    "us = np.zeros((nt+1,n_point))\n",
    "\n",
    "us[0] = T_initial\n",
    "\n",
    "us[0][0] = T_left\n",
    "us[0][-1] = 25 + 10 * np.sin(2*np.pi*t/T)"
   ]
  },
  {
   "cell_type": "markdown",
   "id": "8711923d-0c98-453c-a1a0-8b687f53e9df",
   "metadata": {},
   "source": [
    "To pass on the value of the time-dependent boundary condition `T_Right` to the iteration loop, you must copy the value of `us` (the solution) to another array, modify the boundary condition on the right (which element of the array will that be?) and pass the modified array to the solution function `fdm_step`. \n",
    "\n",
    "You can use the following code for dynamic plotting:"
   ]
  },
  {
   "cell_type": "code",
   "execution_count": 7,
   "id": "91182c14-d4d7-4098-9abb-1cee859c8dfe",
   "metadata": {},
   "outputs": [
    {
     "data": {
      "application/vnd.jupyter.widget-view+json": {
       "model_id": "7d5db6d311ff4655a281be6d740faea6",
       "version_major": 2,
       "version_minor": 0
      },
      "text/plain": [
       "interactive(children=(Play(value=0, description='step', max=599), Output()), _dom_classes=('widget-interact',)…"
      ]
     },
     "metadata": {},
     "output_type": "display_data"
    }
   ],
   "source": [
    "play = widgets.Play(min=0, max=nt-1, step=1, value=0, interval=100, disabled=False)\n",
    "slider = widgets.IntSlider(min=0, max=nt-1, step=1, value=0)\n",
    "widgets.jslink((play, 'value'), (slider, 'value'))\n",
    "\n",
    "interact(FDM_plot,\n",
    "    x=fixed(x),\n",
    "    u=fixed(us),\n",
    "    step=play)\n",
    "\n",
    "widgets.HBox([slider])\n",
    "\n",
    "for i in range(nt):\n",
    "    umod = us[i].copy()\n",
    "    umod[-1] = 25 + 10*np.sin(2*np.pi*t/T)\n",
    "    us[i+1] = fdm_step(umod, dx, dt, nu)\n",
    "    # Update time\n",
    "    t += dt\n"
   ]
  },
  {
   "cell_type": "markdown",
   "id": "649e7062-eccf-4aab-bd8b-859a00ded411",
   "metadata": {},
   "source": [
    "<div style=\"background-color:#AABAB2; color: black; vertical-align: middle; padding:15px; margin: 10px; border-radius: 10px\">\n",
    "<p>\n",
    "<b>Task 2.2:</b>   \n",
    "\n",
    "Why is the right boundary dealt with differently in the code than previously? What is different in this version compared to the first?\n",
    "\n",
    "Record your answer in the following markdown cell. \n",
    "</p>\n",
    "</div>"
   ]
  },
  {
   "cell_type": "markdown",
   "id": "0f0344ad",
   "metadata": {},
   "source": [
    "**Write your answer here.**"
   ]
  },
  {
   "cell_type": "markdown",
   "id": "c24abd34-b97b-4a13-8299-b7060d53df02",
   "metadata": {
    "tags": []
   },
   "source": [
    "## Task 3: Extending Finite Difference Method to 2 Dimesions\n",
    "\n",
    "![assets/2D_thermal_boundary.png](assets/2D_thermal_boundary.png)\n",
    "\n",
    "\n",
    "The sketch shows a thin sheet with the boundary temperatures that are held constant. The initial uniform temperature across the sheet in shown in the centre. The sheet is a square with an edge that is $30 cm$ long. The 2-D diffusions equation reads\n",
    "$$\\frac{\\partial u}{\\partial t}=v\\left(\\frac{\\partial^2 u}{\\partial x^2}+\\frac{\\partial ^2 u}{\\partial y^2}\\right)$$\n",
    "\n",
    "whereas, the discretised form (Forward Euler and second order approximation for the second order derivaive) reads\n",
    "$$u^{n+1}_{i,j} = u^{n}_{i,j} + v\\Delta t\\left(\\frac{u^{n}_{i,j-1}-2u^{n}_{i,j}+u^{n}_{i-1,j}}{\\Delta x^2}+\\frac{u^{n}_{i-1,j}-2u^{n}_{i,j}+u^{n}_{i+1,j}}{\\Delta y^2}\\right)$$\n",
    "\n",
    "From the above equation, one can surmise that there are 3 changes that must be taken care of:\n",
    "1. The addition of the second derivative of $u$ with respect to $y$.\n",
    "2. The discrete $u$ now has 2 indices, $u_{ij}$ for the 2 directions.\n",
    "3. There are 4 boundaries.\n",
    "\n",
    "The first change requires the an addition to the update function (Part 1, Step 5). The second change implies that the solution for a time-step must now be store in a 2-D array, whereas the total solution for all time-step will be 3-D (2 dimesions for space and 1 for time). The third change requires defining 4 boundary conditions. Now, follow these steps.\n",
    "\n"
   ]
  },
  {
   "cell_type": "markdown",
   "id": "cfb929bd-a6a0-4bb3-b0d2-5b56110bc9af",
   "metadata": {
    "id": "0491cc69"
   },
   "source": [
    "<div style=\"background-color:#facb8e; color: black; vertical-align: middle; padding:15px; margin: 10px; border-radius: 10px\"> <p>The following line removes all previous variables, which will allow us to reuse the same namespaces below without worrying about using old values on accident. We will have to re-import all of the packages.</p></div>"
   ]
  },
  {
   "cell_type": "code",
   "execution_count": 8,
   "id": "93b5c03e-c1c6-45e6-8f01-1577884d28a4",
   "metadata": {},
   "outputs": [],
   "source": [
    "%reset"
   ]
  },
  {
   "cell_type": "code",
   "execution_count": 9,
   "id": "d92a8334",
   "metadata": {},
   "outputs": [],
   "source": [
    "import numpy as np\n",
    "%matplotlib inline\n",
    "from ipywidgets import interact, fixed, widgets\n",
    "import matplotlib.pyplot as plt\n",
    "import timeit"
   ]
  },
  {
   "cell_type": "markdown",
   "id": "bc40b4dc-eb7a-480c-aa8b-4b75224a2ea8",
   "metadata": {},
   "source": [
    "<div style=\"background-color:#AABAB2; color: black; vertical-align: middle; padding:15px; margin: 10px; border-radius: 10px\">\n",
    "<p>\n",
    "<b>Task 3.1:</b>   \n",
    "\n",
    "Let's repeat the first bit of code from Task 1. Fill in the data in the next code cell. \n",
    "</p>\n",
    "</div>"
   ]
  },
  {
   "cell_type": "markdown",
   "id": "90a28ff8-b738-489b-a7cf-5ad456807ed9",
   "metadata": {
    "id": "0491cc69"
   },
   "source": [
    "<div style=\"background-color:#facb8e; color: black; vertical-align: middle; padding:15px; margin: 10px; border-radius: 10px\"> <p>The code we have provided uses dimensions in mm, temperature in Celcius and diffusivity in length-squared per time, so mm$^2$/s.</p></div>"
   ]
  },
  {
   "cell_type": "code",
   "execution_count": 10,
   "id": "4fedd0a0-f939-479b-8975-9d622cb1df6d",
   "metadata": {},
   "outputs": [],
   "source": [
    "T_left_right = 38\n",
    "T_top_bottom = 20\n",
    "T_initial = 30\n",
    "width = 300\n",
    "height = 300\n",
    "n_point_y = 10\n",
    "n_point_x = 30\n",
    "nu =  4\n",
    "dt = 10\n",
    "nt = 150\n",
    "\n",
    "dx = width/(n_point_x-1)\n",
    "x = np.linspace(0,width,n_point_x)\n",
    "dy = height/(n_point_y-1)\n",
    "y = np.linspace(0,height,n_point_y)\n",
    "X, Y = np.meshgrid(x,y)"
   ]
  },
  {
   "cell_type": "markdown",
   "id": "b511674c-3fc4-4fcd-b0e2-210bf13d9a6f",
   "metadata": {},
   "source": [
    "The following cell initialises the system with the initial and Dirichlet boundary conditions. "
   ]
  },
  {
   "cell_type": "code",
   "execution_count": 11,
   "id": "2da82117-b184-42a7-99dd-c561c7a07519",
   "metadata": {},
   "outputs": [],
   "source": [
    "us = np.zeros((nt, n_point_y, n_point_x))\n",
    "us[0] = T_initial\n",
    "us[0,:,0] = T_left_right\n",
    "us[0,:,n_point_x-1] = T_left_right\n",
    "us[0,0,:] = T_top_bottom\n",
    "us[0,n_point_y-1,:] = T_top_bottom"
   ]
  },
  {
   "cell_type": "markdown",
   "id": "9e22fc2f-8b6e-458a-ac45-bb0e8168d4b0",
   "metadata": {},
   "source": [
    "In **Task 1**, the calculations were done using a for loop. How many for loops will you need this time? You are correct if you said two loops, a loop for x within which, there is another loop for y. Now, define the 2-D `fdm_step` as:"
   ]
  },
  {
   "cell_type": "code",
   "execution_count": 12,
   "id": "e9447227-b8c8-4861-a3a6-13bf3295066a",
   "metadata": {},
   "outputs": [],
   "source": [
    "def fdm_step_2D(u, n_point_x, n_point_y, dx, dy, dt, nu):\n",
    "\n",
    "    u_new = np.zeros((n_point_y,n_point_x))\n",
    "\n",
    "    for i in range(n_point_y):\n",
    "        for j in range(n_point_x):\n",
    "            if i == 0 or i == n_point_y-1 or j == 0 or j == n_point_x-1:\n",
    "                u_new[i,j] = u[i,j]        \n",
    "            else:\n",
    "                u_new[i,j] = u[i,j] + nu*dt*(u[i+1,j] - 2*u[i,j] + u[i-1,j])/(dy**2) + nu*dt*(u[i,j+1] - 2*u[i,j] + u[i,j-1])/(dx**2) \n",
    "\n",
    "    return u_new"
   ]
  },
  {
   "cell_type": "markdown",
   "id": "1bb44630-0fb0-40ac-b051-3621fa2df217",
   "metadata": {},
   "source": [
    "<div style=\"background-color:#AABAB2; color: black; vertical-align: middle; padding:15px; margin: 10px; border-radius: 10px\">\n",
    "<p>\n",
    "<b>Task 3.2:</b>   \n",
    "\n",
    "Now write a single line of code to call the `fdm_step_2D` function and loop it over all the time steps\n",
    "</p>\n",
    "</div>"
   ]
  },
  {
   "cell_type": "code",
   "execution_count": 13,
   "id": "ac5945c8-8f0e-466a-ab38-98b0d5beb169",
   "metadata": {},
   "outputs": [],
   "source": [
    "for i in range(nt-1):\n",
    "    us[i+1] = fdm_step_2D(us[i], n_point_x, n_point_y, dx, dy, dt, nu)\n"
   ]
  },
  {
   "cell_type": "markdown",
   "id": "9e83c962-563e-4208-8a5b-a6a602edbce4",
   "metadata": {},
   "source": [
    "Use the following code to plot the results"
   ]
  },
  {
   "cell_type": "code",
   "execution_count": 14,
   "id": "4efa82d9-9c90-4c25-885c-a357994b8b76",
   "metadata": {},
   "outputs": [
    {
     "data": {
      "application/vnd.jupyter.widget-view+json": {
       "model_id": "dba88ec05a1f4f249d8e49aaccab2481",
       "version_major": 2,
       "version_minor": 0
      },
      "text/plain": [
       "interactive(children=(Play(value=0, description='step', max=149), Output()), _dom_classes=('widget-interact',)…"
      ]
     },
     "metadata": {},
     "output_type": "display_data"
    },
    {
     "data": {
      "application/vnd.jupyter.widget-view+json": {
       "model_id": "7e0824826ea046a389259f49e097747f",
       "version_major": 2,
       "version_minor": 0
      },
      "text/plain": [
       "HBox(children=(IntSlider(value=0, max=149),))"
      ]
     },
     "execution_count": 14,
     "metadata": {},
     "output_type": "execute_result"
    }
   ],
   "source": [
    "def FDM_plot(x, y, us, step):\n",
    "    fig = plt.figure()\n",
    "    ax = plt.axes(projection='3d', xlim=(0, 300), ylim=(0, 300), zlim=(20,40))\n",
    "    ax.plot_surface(x, y, us[step,:,:], cmap=\"magma\")\n",
    "    ax.set_xlabel('x')\n",
    "    ax.set_ylabel('y')\n",
    "    ax.set_zlabel('u')\n",
    "    plt.show()\n",
    "\n",
    "play = widgets.Play(min=0, max=nt-1, step=1, value=0, interval=100, disabled=False)\n",
    "slider = widgets.IntSlider(min=0, max=nt-1, step=1, value=0)\n",
    "widgets.jslink((play, 'value'), (slider, 'value'))\n",
    "\n",
    "interact(FDM_plot,\n",
    "    x=fixed(X),\n",
    "    y=fixed(Y),\n",
    "    us=fixed(us),\n",
    "    step = play)\n",
    "\n",
    "widgets.HBox([slider])"
   ]
  },
  {
   "cell_type": "markdown",
   "id": "a1fbe560-316e-4b3b-a0f1-30e3e7fc7ad9",
   "metadata": {},
   "source": [
    "### Task 3.2b: Vectorising the code\n",
    "\n",
    "This is another way of doing the same thing.\n",
    "\n",
    "A `for` loop nested inside another requires time to solve. To reduce the computational load, one can vectorise the process. This will make the code harder to understand but it will speed up the calculations, as you will later see. \n",
    "\n",
    "First, consider the code below:"
   ]
  },
  {
   "cell_type": "markdown",
   "id": "5c277db8-1437-4727-9c7e-883e73efe340",
   "metadata": {},
   "source": [
    "<div style=\"background-color:#AABAB2; color: black; vertical-align: middle; padding:15px; margin: 10px; border-radius: 10px\">\n",
    "<p>\n",
    "<b>Task 3.2b:</b>   \n",
    "\n",
    "Read the code below to see how this approach is different from Task 3.2, and run the cells. We will compare the results in the next Task.\n",
    "</p>\n",
    "</div>"
   ]
  },
  {
   "cell_type": "code",
   "execution_count": 15,
   "id": "eda7bf2a-2785-4664-9277-7e08aa1549f5",
   "metadata": {},
   "outputs": [
    {
     "name": "stdout",
     "output_type": "stream",
     "text": [
      "full matrix:\n",
      "[[0.  0.1 0.2 0.3 0.4]\n",
      " [1.  1.1 1.2 1.3 1.4]\n",
      " [2.  2.1 2.2 2.3 2.4]\n",
      " [3.  3.1 3.2 3.3 3.4]\n",
      " [4.  4.1 4.2 4.3 4.4]]\n",
      "\n",
      "interior points:\n",
      "[[1.1 1.2 1.3]\n",
      " [2.1 2.2 2.3]\n",
      " [3.1 3.2 3.3]]\n",
      "\n",
      "right neighbors:\n",
      "[[1.2 1.3 1.4]\n",
      " [2.2 2.3 2.4]\n",
      " [3.2 3.3 3.4]]\n",
      "\n"
     ]
    }
   ],
   "source": [
    "n = 5\n",
    "A = np.zeros((n,n))\n",
    "\n",
    "for i in range(n):\n",
    "    for j in range(n):\n",
    "        A[i,j] = i + j*0.1\n",
    "\n",
    "print('full matrix:')\n",
    "print(A)\n",
    "print('')\n",
    "print('interior points:')\n",
    "print(A[1:-1,1:-1])\n",
    "print('')\n",
    "print('right neighbors:')\n",
    "print(A[1:-1,2:])\n",
    "print('')"
   ]
  },
  {
   "cell_type": "markdown",
   "id": "f1f59f76-4925-4b5f-9426-59d58df85171",
   "metadata": {},
   "source": [
    "Look for at the first row and first colum in interior points, you'll obtain the value $1.1$. Now, at the same position in right neighbours, you'll obtain $1.2$. Hence, the in full matrix, $1.2$ is the right neighbour of $1.1$. Similarly, the top neighbour of $1.1$ is $0.1$ (all indices are in Python format).\n",
    "\n",
    "Now, let's code the vectorised function:"
   ]
  },
  {
   "cell_type": "code",
   "execution_count": 16,
   "id": "6019eaee-5c1c-4ae2-b687-08e875fff1de",
   "metadata": {},
   "outputs": [],
   "source": [
    "def fdm_step_2D_vectorised(u, n_point_x, n_point_y, dx, dy, dt, nu):\n",
    "    u_new = np.zeros((n_point_y,n_point_x))\n",
    "    u_new[1:-1, 1:-1] = (u[1:-1,1:-1] + nu * dt / dx**2 * (u[1:-1, 2:] - 2 * u[1:-1, 1:-1] + u[1:-1, 0:-2])  + nu * dt / dy**2 * (u[2:,1: -1] - 2 * u[1:-1, 1:-1] + u[0:-2, 1:-1]))\n",
    "    u_new[0, :] = u[0,:]\n",
    "    u_new[-1, :] = u[-1,:]\n",
    "    u_new[:, 0] = u[:,0]\n",
    "    u_new[:, -1] = u[:,-1]\n",
    "\n",
    "    return u_new"
   ]
  },
  {
   "cell_type": "markdown",
   "id": "2f5f923e-99fb-4c2c-9ab4-c0933eb4c29e",
   "metadata": {},
   "source": [
    "Initialise an empty array 'us_vectorised' and compute the result "
   ]
  },
  {
   "cell_type": "code",
   "execution_count": 17,
   "id": "c17aad2c-24bb-4560-a161-02b2339428ea",
   "metadata": {},
   "outputs": [],
   "source": [
    "us_vectorised = np.zeros((nt, n_point_y, n_point_x))\n",
    "us_vectorised[0] = us[0]\n",
    "for i in range(nt-1):\n",
    "    us_vectorised[i+1] = fdm_step_2D_vectorised(us_vectorised[i], n_point_x, n_point_y, dx, dy, dt, nu)"
   ]
  },
  {
   "cell_type": "code",
   "execution_count": 18,
   "id": "ab42f8c0-e380-4998-9810-2b51908696ab",
   "metadata": {},
   "outputs": [
    {
     "data": {
      "application/vnd.jupyter.widget-view+json": {
       "model_id": "5732181d51e24dfa96dbedd910df2b59",
       "version_major": 2,
       "version_minor": 0
      },
      "text/plain": [
       "interactive(children=(Play(value=0, description='step', max=149), Output()), _dom_classes=('widget-interact',)…"
      ]
     },
     "metadata": {},
     "output_type": "display_data"
    },
    {
     "data": {
      "application/vnd.jupyter.widget-view+json": {
       "model_id": "7015f6d37ad542ae98322417fae41120",
       "version_major": 2,
       "version_minor": 0
      },
      "text/plain": [
       "HBox(children=(IntSlider(value=0, max=149),))"
      ]
     },
     "execution_count": 18,
     "metadata": {},
     "output_type": "execute_result"
    }
   ],
   "source": [
    "play = widgets.Play(min=0, max=nt-1, step=1, value=0, interval=100, disabled=False)\n",
    "slider = widgets.IntSlider(min=0, max=nt-1, step=1, value=0)\n",
    "widgets.jslink((play, 'value'), (slider, 'value'))\n",
    "\n",
    "interact(FDM_plot,\n",
    "    x=fixed(X),\n",
    "    y=fixed(Y),\n",
    "    us=fixed(us_vectorised),\n",
    "    step = play)\n",
    "\n",
    "widgets.HBox([slider])  "
   ]
  },
  {
   "cell_type": "markdown",
   "id": "9dcca8e4-3767-4c43-81e6-6660b8833aa1",
   "metadata": {},
   "source": [
    "### Task 3.3 Using `timeit` Function\n",
    "\n",
    "To check if the vectorised method is indeed faster to use. To do this, we use a function called `timeit`. It's purpose is to do exactly as it states, measure the time duration for a piece of code to complete. You can see how this is done in the code cell below.  "
   ]
  },
  {
   "cell_type": "code",
   "execution_count": 19,
   "id": "c0452d2a-50ec-45c9-b767-12b12ef526a4",
   "metadata": {},
   "outputs": [
    {
     "name": "stdout",
     "output_type": "stream",
     "text": [
      "Time taken to perform 1000 iterations of the explicit scheme using 2 for-loops: 0.68816\n",
      "\n",
      "Time taken to perform 1000 iterations of the explicit scheme using vectorisation: 0.04141\n",
      "\n"
     ]
    }
   ],
   "source": [
    "starttime = timeit.default_timer()\n",
    "\n",
    "for i in range(1000): fdm_step_2D(us[0], n_point_x, n_point_y, dx, dy, dt, nu)\n",
    "\n",
    "print(f\"Time taken to perform 1000 iterations of\",\n",
    "      f\"the explicit scheme using 2 for-loops:\",\n",
    "      f\"{timeit.default_timer() - starttime:0.5f}\\n\")\n",
    "\n",
    "starttime = timeit.default_timer() #Add a similar statement for the vectorised function\n",
    "\n",
    "for i in range(1000): fdm_step_2D_vectorised(us_vectorised[0], n_point_x, n_point_y, dx, dy, dt, nu)\n",
    "\n",
    "print(f\"Time taken to perform 1000 iterations of\",\n",
    "      f\"the explicit scheme using vectorisation:\",\n",
    "      f\"{timeit.default_timer() - starttime:0.5f}\\n\")"
   ]
  },
  {
   "cell_type": "markdown",
   "id": "63383115-2846-4200-9dad-4cab617da3a6",
   "metadata": {},
   "source": [
    "<div style=\"background-color:#AABAB2; color: black; vertical-align: middle; padding:15px; margin: 10px; border-radius: 10px\">\n",
    "<p>\n",
    "<b>Task 3.3:</b>   \n",
    "\n",
    "Run the code above. What can you deduce about the difference in the computational time between running two `for` loops vs vectorizing the matrices?\n",
    "\n",
    "</p>\n",
    "</div>"
   ]
  },
  {
   "cell_type": "markdown",
   "id": "91b754cb-0c8c-491c-b803-7d0ab2378fa3",
   "metadata": {},
   "source": [
    "**Write your answer here.**"
   ]
  },
  {
   "cell_type": "markdown",
   "id": "1e1f5ba0-7c53-487d-bacf-bba578fc03ad",
   "metadata": {},
   "source": [
    "## Task 4: Altering the Boundary Condition\n",
    "\n",
    "So far we have used Dirichlet boundary conditions, which specify the value of the independent variable at the boundary. Now, suppose the 2-D sheet problem has boundaries that are not sufficiently insulated. What does that imply? It means that the temperature at the boundary may not be held constant and there will be a net heat flux there. Heat flux is given by the derivative of $u$ with respect to $x$ or $y$. \n",
    "\n",
    "Hence, such a condition must be prescribed as \n",
    "\n",
    "$$\n",
    "\\frac{\\partial u}{\\partial x}\\bigg|_w=a(x,y,t)\n",
    "$$\n",
    "\n",
    "where, $w$ is the boundary and $w$ is the normal to the boundary. This condition is called a Neumann boundary condition. In case of the 1-D problem (Part 1) on the right boundary, the above becomes\n",
    "\n",
    "$$\n",
    "\\frac{\\partial u}{\\partial x}\\bigg|_{x=L}=a\n",
    "$$\n",
    "\n",
    "which can be modified using the Taylor series expansion as:\n",
    "\n",
    "$$\n",
    "u_{i,j}=u_{i,j-1}+a\\Delta x\n",
    "$$\n",
    "\n",
    "Note that the value at the boundary $u_{i,j}$ now depends on a point next to the boundary as well, $u_{i,j-1}$ (apart from the $a\\Delta x$). So let's use a vectorised approach to implementing the boundary condition. The terms $a_1$ and $a_2$ in the funciton are now the boundary values at the top and the bottom boundaries of the square sheet (the left and right boundaries still have Dirichlet conditions)"
   ]
  },
  {
   "cell_type": "code",
   "execution_count": 20,
   "id": "dae403bf-d0b7-4254-ba6e-6b7efec7fba9",
   "metadata": {},
   "outputs": [],
   "source": [
    "def fdm_step_2D_Neumann(u, n_point_x, n_point_y, dx, dy, dt, nu, a1, a2):\n",
    "    u_new = np.zeros((n_point_y,n_point_x))\n",
    "    u_new[1:-1, 1:-1] = (u[1:-1,1:-1]\n",
    "                         + nu*dt/dx**2*(u[1:-1, 2:]\n",
    "                                        - 2*u[1:-1, 1:-1] \n",
    "                                        + u[1:-1, 0:-2]) \n",
    "                         + nu*dt/dy**2*(u[2:,1: -1]\n",
    "                                        - 2* u[1:-1, 1:-1]\n",
    "                                        + u[0:-2, 1:-1])\n",
    "                        )\n",
    "\n",
    "    u_new[0, :] = u[1,:] - a1*dy\n",
    "    u_new[-1, :] = u[-2,:] + a2*dy\n",
    "    u_new[:, 0] = u[:,0]\n",
    "    u_new[:, -1] = u[:,-1]\n",
    "\n",
    "    return u_new   "
   ]
  },
  {
   "cell_type": "markdown",
   "id": "5304202d-8b6f-40ce-b07a-26c8aa9b8cb5",
   "metadata": {},
   "source": [
    "The rest is similar to the previous steps, initialise with the following:"
   ]
  },
  {
   "cell_type": "markdown",
   "id": "55ed5c5a-81e1-4ff5-8025-53cec42e0888",
   "metadata": {},
   "source": [
    "<div style=\"background-color:#AABAB2; color: black; vertical-align: middle; padding:15px; margin: 10px; border-radius: 10px\">\n",
    "<p>\n",
    "<b>Task 4:</b>   \n",
    "\n",
    "Define the variables below to specify the initial conditions and boundary conditions, then run the code to find the solution.\n",
    "\n",
    "</p>\n",
    "</div>"
   ]
  },
  {
   "cell_type": "code",
   "execution_count": 21,
   "id": "1fe84ac5-ee16-401d-883a-4584b84b8dfe",
   "metadata": {},
   "outputs": [
    {
     "name": "stdout",
     "output_type": "stream",
     "text": [
      "(2000, 30, 30)\n",
      "[[[0. 0. 0. 0.]\n",
      "  [0. 0. 0. 0.]\n",
      "  [0. 0. 0. 0.]]\n",
      "\n",
      " [[0. 0. 0. 0.]\n",
      "  [0. 0. 0. 0.]\n",
      "  [0. 0. 0. 0.]]]\n"
     ]
    }
   ],
   "source": [
    "T_left = 30\n",
    "T_right = 30\n",
    "derivative_top = 0.5    # at a1\n",
    "derivative_bottom = -0.5 # at a2\n",
    "T_initial = 30\n",
    "width = 300\n",
    "height = 100\n",
    "n_point_y = 30\n",
    "n_point_x = 30\n",
    "nu = 4\n",
    "dt = 1\n",
    "nt =2000\n",
    "\n",
    "dx = width/(n_point_x-1)\n",
    "x = np.linspace(0,width,n_point_x)\n",
    "dy = height/(n_point_y-1)\n",
    "y = np.linspace(0,height,n_point_y)\n",
    "X, Y = np.meshgrid(x,y)\n",
    "us = np.zeros((nt, n_point_y, n_point_x))\n",
    "us[0] = T_initial\n",
    "us[0,:,0] = T_left\n",
    "us[0,:,n_point_x-1] = T_right\n",
    "print(us.shape)\n",
    "\n",
    "y = np.zeros((2, 3, 4))\n",
    "print(y)"
   ]
  },
  {
   "cell_type": "markdown",
   "id": "e6c83a51-23c4-41ba-bd82-80fa7168088c",
   "metadata": {
    "id": "0491cc69"
   },
   "source": [
    "<div style=\"background-color:#facb8e; color: black; vertical-align: middle; padding:15px; margin: 10px; border-radius: 10px\"> <p>Here is another way to visualize the plot from above in 2D, rather than a 3D perspective. It uses the dynamic plotting widget above with <code>FDM_contour</code> as the input to animate the contour plot.</p></div>"
   ]
  },
  {
   "cell_type": "code",
   "execution_count": 22,
   "id": "a9e3999c-0ae7-4b4a-b8cc-37149fd58eb2",
   "metadata": {},
   "outputs": [],
   "source": [
    "def FDM_contour(x, y, u, step):\n",
    "    fig = plt.figure()\n",
    "    ax = plt.axes(xlim=(0, 300), ylim=(0, 100))\n",
    "    ax.set_aspect('equal')\n",
    "    ax.set_xlabel('x')\n",
    "    ax.set_ylabel('y')\n",
    "    ax.contourf(X,Y,u[step, :, :], 200, cmap='magma')\n",
    "    plt.show()"
   ]
  },
  {
   "cell_type": "code",
   "execution_count": 23,
   "id": "82f86d8d",
   "metadata": {},
   "outputs": [
    {
     "data": {
      "application/vnd.jupyter.widget-view+json": {
       "model_id": "a18b1807b7b94bcebd3398641ae0ff29",
       "version_major": 2,
       "version_minor": 0
      },
      "text/plain": [
       "interactive(children=(Play(value=0, description='step', max=1999), Output()), _dom_classes=('widget-interact',…"
      ]
     },
     "metadata": {},
     "output_type": "display_data"
    },
    {
     "data": {
      "application/vnd.jupyter.widget-view+json": {
       "model_id": "aa376365d41b4e1cafbc18c808261f4b",
       "version_major": 2,
       "version_minor": 0
      },
      "text/plain": [
       "HBox(children=(IntSlider(value=0, max=1999),))"
      ]
     },
     "execution_count": 23,
     "metadata": {},
     "output_type": "execute_result"
    }
   ],
   "source": [
    "play = widgets.Play(min=0, max=nt-1, step=1, value=0, interval=100, disabled=False)\n",
    "slider = widgets.IntSlider(min=0, max=nt-1, step=1, value=0)\n",
    "widgets.jslink((play, 'value'), (slider, 'value'))\n",
    "\n",
    "interact(FDM_contour,\n",
    "    x=fixed(X),\n",
    "    y=fixed(Y),\n",
    "    u=fixed(us),\n",
    "    step = play)\n",
    "\n",
    "widgets.HBox([slider])"
   ]
  },
  {
   "cell_type": "markdown",
   "id": "b49e0a63-e3af-4b69-9302-e81a47d24aa8",
   "metadata": {
    "id": "0491cc69"
   },
   "source": [
    "<div style=\"background-color:#facb8e; color: black; vertical-align: middle; padding:15px; margin: 10px; border-radius: 10px\"> <p>Hopefully, you are able to use this notebook to gain some experience into how finite difference methods can be utilized to help model systems like this heat conduction example. These concepts will be expanded later in the module as we extend these concept into finite volume and finite element modelling. </p></div>"
   ]
  },
  {
   "cell_type": "markdown",
   "id": "3d1dfe3d",
   "metadata": {},
   "source": [
    "**End of notebook.**\n",
    "<h2 style=\"height: 60px\">\n",
    "</h2>\n",
    "<h3 style=\"position: absolute; display: flex; flex-grow: 0; flex-shrink: 0; flex-direction: row-reverse; bottom: 60px; right: 50px; margin: 0; border: 0\">\n",
    "    <style>\n",
    "        .markdown {width:100%; position: relative}\n",
    "        article { position: relative }\n",
    "    </style>\n",
    "    <a rel=\"license\" href=\"http://creativecommons.org/licenses/by-nc-sa/4.0/\">\n",
    "      <img alt=\"Creative Commons License\" style=\"border-width:; width:88px; height:auto; padding-top:10px\" src=\"https://i.creativecommons.org/l/by-nc-sa/4.0/88x31.png\" />\n",
    "    </a>\n",
    "    <a rel=\"TU Delft\" href=\"https://www.tudelft.nl/en/ceg\">\n",
    "      <img alt=\"TU Delft\" style=\"border-width:0; width:100px; height:auto; padding-bottom:0px\" src=\"https://gitlab.tudelft.nl/mude/public/-/raw/main/tu-logo/TU_P1_full-color.png\"/>\n",
    "    </a>\n",
    "    <a rel=\"MUDE\" href=\"http://mude.citg.tudelft.nl/\">\n",
    "      <img alt=\"MUDE\" style=\"border-width:0; width:100px; height:auto; padding-bottom:0px\" src=\"https://gitlab.tudelft.nl/mude/public/-/raw/main/mude-logo/MUDE_Logo-small.png\"/>\n",
    "    </a>\n",
    "    \n",
    "</h3>\n",
    "<span style=\"font-size: 75%\">\n",
    "&copy; Copyright 2023 <a rel=\"MUDE Team\" href=\"https://studiegids.tudelft.nl/a101_displayCourse.do?course_id=65595\">MUDE Teaching Team</a> TU Delft. This work is licensed under a <a rel=\"license\" href=\"http://creativecommons.org/licenses/by-nc-sa/4.0/\">Creative Commons Attribution-NonCommercial-ShareAlike 4.0 International License</a>."
   ]
  },
  {
   "cell_type": "markdown",
   "id": "256a64cc",
   "metadata": {},
   "source": []
  }
 ],
 "metadata": {
  "kernelspec": {
   "display_name": "Python 3 (ipykernel)",
   "language": "python",
   "name": "python3"
  },
  "language_info": {
   "codemirror_mode": {
    "name": "ipython",
    "version": 3
   },
   "file_extension": ".py",
   "mimetype": "text/x-python",
   "name": "python",
   "nbconvert_exporter": "python",
   "pygments_lexer": "ipython3",
   "version": "3.11.4"
  },
  "widgets": {
   "application/vnd.jupyter.widget-state+json": {
    "state": {},
    "version_major": 2,
    "version_minor": 0
   }
  }
 },
 "nbformat": 4,
 "nbformat_minor": 5
}
