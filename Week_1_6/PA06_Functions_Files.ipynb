{
 "cells": [
  {
   "cell_type": "markdown",
   "id": "c96d6259-08d6-4289-aea2-589d67cdb5ee",
   "metadata": {},
   "source": [
    "# Programming Assignment 6: Functions and Files\n",
    "\n",
    "<h1 style=\"position: absolute; display: flex; flex-grow: 0; flex-shrink: 0; flex-direction: row-reverse; top: 60px;right: 30px; margin: 0; border: 0\">\n",
    "    <style>\n",
    "        .markdown {width:100%; position: relative}\n",
    "        article { position: relative }\n",
    "    </style>\n",
    "    <img src=\"https://gitlab.tudelft.nl/mude/public/-/raw/main/tu-logo/TU_P1_full-color.png\" style=\"width:100px\"\\>\n",
    "    <img src=\"https://gitlab.tudelft.nl/mude/public/-/raw/main/mude-logo/MUDE_Logo-small.png\" style=\"width:100px\"\\>\n",
    "</h1>\n",
    "<h2 style=\"height: 10px\">\n",
    "</h2>\n",
    "\n",
    "*[CEGM1000 MUDE](http://mude.citg.tudelft.nl/): Week 1.6. Due: complete this PA prior to class on Friday, Oct 13, 2023.*"
   ]
  },
  {
   "cell_type": "markdown",
   "id": "7a28e541-d2d0-48a9-abf6-7b73075c8fd3",
   "metadata": {
    "tags": []
   },
   "source": [
    "_For this assignment (and all others afterward), you are expected to continue with git and GitHub Desktop to clone your repository, work locally, then push back to origin to submit your assignments._\n",
    "\n",
    "This assignment is relatively short, and has two parts, focusing on functions, `*.py` files and (more) git tricks!\n",
    "\n",
    "## Part 1: Importing and using a function from a `*.py` file\n",
    "\n",
    "The first part of this assignment concerns a useful way to apply <a href=\"https://mude.citg.tudelft.nl/book/programming/golden_rules.html#rule-4-write-simple-functions-then-use-them\" target=\"_blank\">Golden Rule 4</a> (re-read it if you forgot!). At this point in the quarter we have sometimes written a number of small short functions, or other long functions to automate tedious tasks, such as formatting figures nicely. This often makes the reading experience in a notebook challenging because we have to scroll through a lot of code to get to the output. We can avoid this issue by instead writing our functions in separate files, then using them in the notebook. In this programming assignment, we will learn the most simple way of doing this, which involves:  \n",
    "\n",
    "1. creating a Python file (a file with extension `*.py`)\n",
    "2. writing a function in that file\n",
    "3. importing the function in the notebook\n",
    "4. using the function in the notebook, just like you would any other method in a Python package, for example, Numpy\n",
    "\n",
    "## Part 2: Ignoring files in your git repo: `.gitignore`\n",
    "\n",
    "Over the past few weeks of using git and GitHub Desktop, you may have noticed that when making commits to GitLab, sometimes some odd files come up in the \"Changes\" tab, for example: `.ipynb_checkpoints`. It turns out these files are not important (you can trust us, but if you would like to know more take a look at <a href=\"https://saturncloud.io/blog/what-are-jupyter-notebook-checkpoint-files-for/#:~:text=Checkpoint%20files%20are%20temporary%20files,directory%20as%20the%20notebook%20file.\" target=\"_blank\">this page</a>). Another file we don't care about is a `*.pyc` file, for example in the previous programming assignment: this file is created when we import a module or function (and it will happen again this week!). Since we have no use for these files, it is silly to constantly be adding them to our remote repository on GitLab and keeping track of them. Luckily, git provides a very handy way to ignore them: the `.gitignore` file.\n",
    "\n",
    "**What is** `.gitignore`**?** This is a simple text-based file that lists (on each line) every file that you *do not* want git to track in your local repository. All you have to do is list it, and it will automatically disappear from the \"Changes\" tab in GitHub GUI.\n",
    "\n",
    "In this assignment, our notebook will once again create unwanted `.ipynb_checkpoints` and `*.pyc` files. The last task of this assignment will instruct you how to ignore them using a `.gitignore` file.\n",
    "\n",
    "_We will only use this file in a simple way this week, but you can find all sorts of advanced usage tips on the internet if you would like to know more._\n",
    "\n",
    "## Assignment Criteria\n",
    "\n",
    "**You will pass this assignment as long as your respository fulfills the following criteria:**  \n",
    "\n",
    "- does *not* include a `.ipynb_checkpoints` folder nor any files with the `*.pyc` extension\n",
    "- includes a `.gitignore` file\n",
    "- includes a `function1.py` and `function2.py` file\n",
    "- this notebook exists and runs without errors"
   ]
  },
  {
   "cell_type": "markdown",
   "id": "300ad88b-741a-47ac-83f9-2f843ae0eb19",
   "metadata": {},
   "source": [
    "<div style=\"background-color:#facb8e; color: black; vertical-align: middle; padding:15px; margin: 10px; border-radius: 10px\">\n",
    "    <p>\n",
    "        <b>Note 1:</b> several files in this assignment are \"hidden\" files that start with a dot (<code>.</code>). To see these files, and to create/edit a <code>.gitignore</code> file, you will need to change the settings in your computer to view hidden files. You should be able to find out how to do this for your operating system with a quick Google search. If not, use the <a href=\"https://answers.citg.tudelft.nl/\" target=\"_blank\">Answers</a> platform.\n",
    "    </p>\n",
    "</div>"
   ]
  },
  {
   "cell_type": "markdown",
   "id": "095e7358-909c-4461-b584-89189f1f1490",
   "metadata": {},
   "source": [
    "<div style=\"background-color:#facb8e; color: black; vertical-align: middle; padding:15px; margin: 10px; border-radius: 10px\">\n",
    "    <p>\n",
    "        <b>Note 2:</b> Make sure that you don't commit changes to your repository while you are working on the assignment; otherwise some of the Tasks may not work as expected.\n",
    "    </p>\n",
    "</div>"
   ]
  },
  {
   "cell_type": "markdown",
   "id": "c3cd5017-10e0-4b64-ad1a-b626d80a128a",
   "metadata": {
    "tags": []
   },
   "source": [
    "## Task 1: Importing and using a function from a `*.py` file\n",
    "\n",
    "The cell below illustrates how to import the function `print_the_string` from the `*.py` file `function1.py`."
   ]
  },
  {
   "cell_type": "markdown",
   "id": "f9682406-e461-43ac-b194-c9df3897dc9b",
   "metadata": {},
   "source": [
    "<div style=\"background-color:#AABAB2; color: black; vertical-align: middle; padding:15px; margin: 10px; border-radius: 10px\">\n",
    "<p>\n",
    "<b>Task 1.1:</b>   \n",
    "Open the file <code>function1.py</code> and read the contents to understand the function <code>print_the_string</code>. Then run the cell to import the function and use it. \n",
    "</p>\n",
    "</div>"
   ]
  },
  {
   "cell_type": "code",
   "execution_count": 1,
   "id": "1310dca9-dc46-4ab1-ab78-0a5389191cfc",
   "metadata": {
    "tags": []
   },
   "outputs": [],
   "source": [
    "from function1 import print_the_string"
   ]
  },
  {
   "cell_type": "code",
   "execution_count": 2,
   "id": "094b5e95-8d29-4f47-ab24-fab46ab248df",
   "metadata": {
    "tags": []
   },
   "outputs": [
    {
     "name": "stdout",
     "output_type": "stream",
     "text": [
      "This is the string that the modified function returns : MUDE\n"
     ]
    }
   ],
   "source": [
    "print_the_string(\"MUDE\")"
   ]
  },
  {
   "cell_type": "markdown",
   "id": "617410b9-6563-423d-adec-678ce0de3e6d",
   "metadata": {},
   "source": [
    "Let's explore this further."
   ]
  },
  {
   "cell_type": "markdown",
   "id": "ee15897c-3eb5-49f1-91ea-051ef5b28d9f",
   "metadata": {},
   "source": [
    "<div style=\"background-color:#AABAB2; color: black; vertical-align: middle; padding:15px; margin: 10px; border-radius: 10px\">\n",
    "<p>\n",
    "<b>Task 1.2:</b>   \n",
    "Edit the function in <code>function1.py</code>, save the file and then re-run the cell above. What happens?\n",
    "</p>\n",
    "</div>"
   ]
  },
  {
   "cell_type": "markdown",
   "id": "300b249f-728b-4d95-936d-8641356bc130",
   "metadata": {},
   "source": [
    "<br><br><br><br><br><br><br>\n",
    "If you followed instructions, probably nothing happened."
   ]
  },
  {
   "cell_type": "markdown",
   "id": "43f0b38e-377b-4ac5-80ba-88c246d71934",
   "metadata": {},
   "source": [
    "<div style=\"background-color:#AABAB2; color: black; vertical-align: middle; padding:15px; margin: 10px; border-radius: 10px\">\n",
    "<p>\n",
    "<b>Task 1.3:</b>   \n",
    "Try re-running the import cell? What happens?\n",
    "</p>\n",
    "</div>"
   ]
  },
  {
   "cell_type": "markdown",
   "id": "8cd64f6d-26bb-40f6-97e2-162a469656e4",
   "metadata": {},
   "source": [
    "<br><br><br><br><br><br><br>\n",
    "Once again---probably nothing happened. Why?\n",
    "\n",
    "Although you executed the import code again, your notepook already knows you have imported `print_the_string` from `function1.py`, so it didn't actually do anything. The easiest way to reliably re-import the (updated) function is to restart the kernel and try again."
   ]
  },
  {
   "cell_type": "markdown",
   "id": "15e69325-8390-4126-bf11-ca7722341591",
   "metadata": {},
   "source": [
    "<div style=\"background-color:#AABAB2; color: black; vertical-align: middle; padding:15px; margin: 10px; border-radius: 10px\">\n",
    "<p>\n",
    "<b>Task 1.4:</b>   \n",
    "Restart the kernel and re-run the cells to confirm that your edit to the function was successful.\n",
    "</p>\n",
    "</div>"
   ]
  },
  {
   "cell_type": "markdown",
   "id": "116d7a63-162a-4145-a06a-4881a7aa759a",
   "metadata": {},
   "source": [
    "That's it! Hopefully this Task illustrated how easy it is to import functions from a `*.py` file into your notebook. From now on, if you have long, tedious functions that are not interesting to read, we encourage you to use this technique in your programming work.\n",
    "\n",
    "_Note that this especially becomes useful **after** you have developed the function and don't plan on making a lot of changes to it. That's because it's much more tedious to constantly edit the file, restart the kernel, import and use the function to check that it works as desired._"
   ]
  },
  {
   "cell_type": "markdown",
   "id": "c5a28ae0-cf24-459d-869d-5cd86a926579",
   "metadata": {},
   "source": [
    "<div style=\"background-color:#AABAB2; color: black; vertical-align: middle; padding:15px; margin: 10px; border-radius: 10px\">\n",
    "<p>\n",
    "<b>Task 1.5:</b>   \n",
    "Now you try writing your own function in a new file, <code>function2.py</code>, import and use it in the notebook. The function can have any name and do anything you want.\n",
    "</p>\n",
    "</div>"
   ]
  },
  {
   "cell_type": "code",
   "execution_count": 3,
   "id": "75e6ff1c-cb3b-47f6-a0a2-4da55dca9eee",
   "metadata": {
    "tags": []
   },
   "outputs": [
    {
     "name": "stdout",
     "output_type": "stream",
     "text": [
      "The result of the calculation is: 10\n"
     ]
    }
   ],
   "source": [
    "from function2 import add_two_numbers\n",
    "\n",
    "add_two_numbers(5,5)"
   ]
  },
  {
   "cell_type": "markdown",
   "id": "71f359cf-62de-4879-b584-64f4eb38ec60",
   "metadata": {},
   "source": [
    "## Task 2: creating an using a `.gitignore` file\n",
    "\n",
    "Now that you have edited and saved your notebook, there is probably a `.ipynb_checkpoints` folder in your repository. Also, since you have been importing functions from `*.py` files, there is probably a `*.pyc` file or two (they may be stored in the `__pycache__` folder). We will now create a `.gitignore` file to ignore them in our repository.\n",
    "\n",
    "Creating the file may not be trivial. You can create it as you would any text file (e.g., using the file explorer, or perhaps with Jupyter Lab), however, you will have to delete the extension in the name, which may require that you change some settings in file viewer. Furthermore, your computer may also ask if you really want to edit the file extension, since it might affect the behavior of some software (yes, it's ok to do it, as long as you do it to the files you are creating).\n",
    "\n",
    "If all else fails, open a terminal (Mac) or Git Bash (Windows), navigate to your working directory and run `touch .gitignore`."
   ]
  },
  {
   "cell_type": "markdown",
   "id": "1831e59e-5863-4cff-91d7-2bfaa8274a64",
   "metadata": {},
   "source": [
    "<div style=\"background-color:#AABAB2; color: black; vertical-align: middle; padding:15px; margin: 10px; border-radius: 10px\">\n",
    "<p>\n",
    "<b>Task 2.1:</b>   \n",
    "Create the <code>.gitignore</code> file. You should see that the file is in your repository because it will be visible in the \"Changes\" tab.\n",
    "</p>\n",
    "</div>"
   ]
  },
  {
   "cell_type": "markdown",
   "id": "3dddd7a8-eb8d-472c-88ba-dd69ece5f56c",
   "metadata": {},
   "source": [
    "All we have to do now is add the following contents to our file:\n",
    "\n",
    "```\n",
    ".ipynb_checkpoints\n",
    "*.pyc\n",
    "```\n",
    "\n",
    "The first line should be obvious: the entire folder `.ipynb_checkpoints` will be ignored. The second line uses a wildcard symbol, `*`, which more or less means \"anything.\" When combined with the `.pyc`, it is telling git to ignore any file that ends with `.pyc`."
   ]
  },
  {
   "cell_type": "markdown",
   "id": "60e427c2-ac63-479f-b814-ccd485ec8d2d",
   "metadata": {},
   "source": [
    "<div style=\"background-color:#AABAB2; color: black; vertical-align: middle; padding:15px; margin: 10px; border-radius: 10px\">\n",
    "<p>\n",
    "<b>Task 2.2:</b>   \n",
    "Add the file names we wish to ignore to the file, as listed above. Confirm that you have done it correctly by checking in GitHub GUI that changes to these files are no longer visible.\n",
    "</p>\n",
    "</div>"
   ]
  },
  {
   "cell_type": "markdown",
   "id": "bb67d748-4165-4dc0-b8bf-e75126313c29",
   "metadata": {},
   "source": [
    "Once you have accomplished Task 2, you are done with the assignment! All that remains is to commit the changes to the files and push them back to your remote repository on GitLab."
   ]
  },
  {
   "cell_type": "markdown",
   "id": "629176d5-57f2-44d5-91a4-7ff5b6386e0f",
   "metadata": {},
   "source": [
    "<div style=\"background-color:#facb8e; color: black; vertical-align: middle; padding:15px; margin: 10px; border-radius: 10px\"> <p>Remember to read the Assignment Criteria at the top of this notebook before pushing!</p></div>"
   ]
  },
  {
   "cell_type": "markdown",
   "id": "80580ab9-4d79-46b1-ae6e-775af04d43ad",
   "metadata": {},
   "source": [
    "**End of notebook.**\n",
    "<h2 style=\"height: 60px\">\n",
    "</h2>\n",
    "<h3 style=\"position: absolute; display: flex; flex-grow: 0; flex-shrink: 0; flex-direction: row-reverse; bottom: 60px; right: 50px; margin: 0; border: 0\">\n",
    "    <style>\n",
    "        .markdown {width:100%; position: relative}\n",
    "        article { position: relative }\n",
    "    </style>\n",
    "    <a rel=\"license\" href=\"http://creativecommons.org/licenses/by-nc-sa/4.0/\">\n",
    "      <img alt=\"Creative Commons License\" style=\"border-width:; width:88px; height:auto; padding-top:10px\" src=\"https://i.creativecommons.org/l/by-nc-sa/4.0/88x31.png\" />\n",
    "    </a>\n",
    "    <a rel=\"TU Delft\" href=\"https://www.tudelft.nl/en/ceg\">\n",
    "      <img alt=\"TU Delft\" style=\"border-width:0; width:100px; height:auto; padding-bottom:0px\" src=\"https://gitlab.tudelft.nl/mude/public/-/raw/main/tu-logo/TU_P1_full-color.png\"/>\n",
    "    </a>\n",
    "    <a rel=\"MUDE\" href=\"http://mude.citg.tudelft.nl/\">\n",
    "      <img alt=\"MUDE\" style=\"border-width:0; width:100px; height:auto; padding-bottom:0px\" src=\"https://gitlab.tudelft.nl/mude/public/-/raw/main/mude-logo/MUDE_Logo-small.png\"/>\n",
    "    </a>\n",
    "    \n",
    "</h3>\n",
    "<span style=\"font-size: 75%\">\n",
    "&copy; Copyright 2023 <a rel=\"MUDE Team\" href=\"https://studiegids.tudelft.nl/a101_displayCourse.do?course_id=65595\">MUDE Teaching Team</a> TU Delft. This work is licensed under a <a rel=\"license\" href=\"http://creativecommons.org/licenses/by-nc-sa/4.0/\">Creative Commons Attribution-NonCommercial-ShareAlike 4.0 International License</a>."
   ]
  }
 ],
 "metadata": {
  "kernelspec": {
   "display_name": "Python 3 (ipykernel)",
   "language": "python",
   "name": "python3"
  },
  "language_info": {
   "codemirror_mode": {
    "name": "ipython",
    "version": 3
   },
   "file_extension": ".py",
   "mimetype": "text/x-python",
   "name": "python",
   "nbconvert_exporter": "python",
   "pygments_lexer": "ipython3",
   "version": "3.11.4"
  },
  "widgets": {
   "application/vnd.jupyter.widget-state+json": {
    "state": {},
    "version_major": 2,
    "version_minor": 0
   }
  }
 },
 "nbformat": 4,
 "nbformat_minor": 5
}
